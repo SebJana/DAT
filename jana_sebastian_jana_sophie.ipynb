{
 "cells": [
  {
   "cell_type": "markdown",
   "metadata": {},
   "source": [
    "# Projektarbeit Data Analytics\n",
    "\n",
    "Sebastian Jana,\n",
    "Sophie Jana\n",
    "\n",
    "## Inhaltsverzeichnis\n",
    "<a id =\"inhaltsverzeichnis\"></a>\n",
    "\n",
    "[1. Aufgabe](#aufgabe1)\n",
    "\n",
    "[2. Aufgabe](#aufgabe2)\n",
    "\n",
    "[3. Aufgabe](#aufgabe3)\n",
    "\n",
    "4. Aufgabe\n",
    "5. Aufgabe\n",
    "\n",
    "[6. Aufgabe](#aufgabe6)\n",
    "\n",
    "[7. Quellenverzeichnis](#quellenverzeichnis)\n",
    "\n",
    "\n"
   ]
  },
  {
   "cell_type": "markdown",
   "metadata": {},
   "source": [
    "### Aufgabe 1 (Datenvorbereitung)\n",
    "<a id = \"aufgabe1\"></a>\n",
    "\n",
    "[Zurück zum Inhaltsverzeichnis](#inhaltsverzeichnis)\n",
    "\n",
    "a) Einlesen der CSV Dateien, welche die Stromerzeugungsdaten und die Börsenstrompreise enthalten, als Dataframe df_hourly.\n",
    "\n",
    "Nach dem ersten Zusammenführen haben wir festgestellt, dass die Datumsspalte je nach CSV-Datei unterschiedliche Namen für Sommerzeit und Winterzeit hat. Dies führt dazu, dass beim Zusammenführen zwei separate Spalten entstehen. Um dies zu vermeiden, prüfen wir bereits beim Einlesen der Dateien die Spaltennamen und führen sie zu einer einheitlichen Spalte „Datum“ im df_hourly zusammen\n"
   ]
  },
  {
   "cell_type": "code",
   "execution_count": null,
   "metadata": {},
   "outputs": [],
   "source": [
    "import pandas as pd\n",
    "import numpy as np\n",
    "import os\n",
    "import glob\n",
    "import matplotlib.pyplot as plt\n",
    "from wordcloud import WordCloud"
   ]
  },
  {
   "cell_type": "code",
   "execution_count": null,
   "metadata": {},
   "outputs": [],
   "source": [
    "# Sources for reading csv files from one folder[1],[2]\n",
    "path = './Daten/Strompreisdaten'\n",
    "# List all files (.csv) in the given path\n",
    "csv_files = glob.glob(os.path.join(path, \"*csv\"))\n",
    "\n",
    "df_list = []\n",
    "for i in range(len(csv_files)):\n",
    "    try:\n",
    "        df_temp = pd.read_csv(csv_files[i], sep = \",\")\n",
    "        for column in df_temp.columns:\n",
    "            # Combine the date columns, by getting rid of the naming difference in csv source\n",
    "            if 'Datum (MESZ)' in column:\n",
    "                df_temp = df_temp.rename(columns = {'Datum (MESZ)':'DateTime'})\n",
    "            elif 'Datum (MEZ)' in column:\n",
    "                df_temp = df_temp.rename(columns = {'Datum (MEZ)':'DateTime'})\n",
    "        df_list.append(df_temp)\n",
    "    except Exception as err: \n",
    "        print(\"Fehler beim Einlesen des Files: \", err)\n",
    "    \n",
    "df_hourly = pd.concat(df_list)\n",
    "df_hourly\n"
   ]
  },
  {
   "cell_type": "markdown",
   "metadata": {},
   "source": [
    "b) Zur besseren anschließenden Analyse überführen wir die Datumsspalte (vorher dytpe: object) in ein Date-Time-Format. Überprüfung, ob nach der Konvertierung invalide Datumswerte existieren, was nicht der Fall ist.\n",
    "Alle anderen Spalten haben den dtype float64 und werden so belassen.\n",
    "Entfernung aller Datensätze, die nicht im Betrachtungszeitraum liegen (2020-2024). Durch Filterung über das Jahr werden 48 Einträge entfernt, da diese nicht in den Betrachtungszeitraum fallen."
   ]
  },
  {
   "cell_type": "code",
   "execution_count": null,
   "metadata": {},
   "outputs": [],
   "source": [
    "print(df_hourly.shape)\n",
    "# Converting the column \"DateTime\" from object to DateTime format\n",
    "# Invalid values are converted to NaT (Not a Time)\n",
    "# Source: [3]\n",
    "df_hourly['DateTime'] = pd.to_datetime(df_hourly['DateTime'], errors=\"coerce\")\n",
    "print(df_hourly.dtypes)\n",
    "print(df_hourly['DateTime'].isna().any())\n",
    "\n",
    "\n",
    "# Create column \"Date\" from column \"DateTime\" [4]\n",
    "df_hourly = df_hourly[(df_hourly['DateTime'].dt.year >= 2020) & (df_hourly['DateTime'].dt.year <= 2024)]\n",
    "\n",
    "# 48 rows deleted\n",
    "print(df_hourly.shape) \n",
    "\n"
   ]
  },
  {
   "cell_type": "markdown",
   "metadata": {},
   "source": [
    "c) Beurteilung der Datenqualität und notwenige Datenbereinigungsschritte. \n",
    "Qualität der Datumsdaten wurde durch Konvertierung schon überprüft. df_hourly enthält nur Werte für die Jahre 2020-2024. Dataframe enthält keine Null-Werte."
   ]
  },
  {
   "cell_type": "code",
   "execution_count": null,
   "metadata": {},
   "outputs": [],
   "source": [
    "# Check for missing values\n",
    "print(df_hourly.isnull().sum())\n",
    "print(df_hourly.notnull().sum())\n",
    "\n"
   ]
  },
  {
   "cell_type": "markdown",
   "metadata": {},
   "source": [
    "d) Erzeugung eines Dataframes df_daily, das für jeden Tag die aggregierten Werte der Leistung der erneuerbaren und nicht erneuerbaren Energiequellen, sowie den täglichen Mittelwert des Börsenpreis enthält. Diese Art der Gruppierung ist sinnvoll für die weitere Analyse, um Trends auf Tagesbasis zu analysieren.\n",
    "\n",
    "Zur Gruppierung nach Tagen machen wir aus der DateTime nur noch das Datum, indem wir die Uhrzeit entfernen. Anschließend gruppieren wir die Daten nach Datum, wobei die Leistung nicht erneuerbarer und erneuererbarer Energie jeweils für den Tag aufsummiert wird. Zudem gruppieren wir nochmals nach dem Tag und berechnen für jeden Tag den mittleren Börsenpreis. Abschließend joinen wir zu einem gemeinsamen Dataframe df_daily."
   ]
  },
  {
   "cell_type": "code",
   "execution_count": null,
   "metadata": {},
   "outputs": [],
   "source": [
    "# Grouping by the date without time\n",
    "# We use a copy to avoid the SettingWithCopyWarning that occurs when we modifiy a view of the original df [5]\n",
    "\n",
    "df_stunde = df_hourly.copy()\n",
    "\n",
    "df_stunde['Datum'] = df_stunde['DateTime'].dt.date\n",
    "\n",
    "df_daily = df_stunde.groupby('Datum')[['Leistung nicht erneuerbar (MW)', 'Leistung erneuerbar (MW)' ]].sum()\n",
    "\n",
    "df_mean = df_stunde.groupby('Datum')['Day Ahead Auktion Preis (EUR/MWh)'].mean()\n",
    "\n",
    "df_daily = pd.merge(df_daily, df_mean, on='Datum', how='left').reset_index()\n",
    "\n",
    "# Change Datum again to datetime format\n",
    "\n",
    "df_daily['Datum'] = pd.to_datetime(df_daily['Datum'])\n",
    "\n",
    "df_daily\n"
   ]
  },
  {
   "cell_type": "markdown",
   "metadata": {},
   "source": [
    "### Aufgabe 2 (Explorative Analyse der Stromerzeugungs- und Preisdaten)\n",
    "<a id = \"aufgabe2\"></a>\n",
    "\n",
    "[Zurück zum Inhaltsverzeichnis](#inhaltsverzeichnis)\n",
    "\n",
    "\n",
    "a) An Welchen 10 Tagen im Betrachtungszeitraum wurden am meisten Strom aus erneuerbaren Energieträgern erzeugt?\n",
    "\n",
    "Wir beobachten, dass die Tage, an denen der meiste Strom aus erneuererbaren Energieträgern erzeugt wurde, vorwiegend in die Monate Dezember und Februar fallen. "
   ]
  },
  {
   "cell_type": "code",
   "execution_count": null,
   "metadata": {},
   "outputs": [],
   "source": [
    "ten_highest_days = df_daily.sort_values(by = 'Leistung erneuerbar (MW)', ascending=False).head(10)\n",
    "ten_highest_days\n"
   ]
  },
  {
   "cell_type": "markdown",
   "metadata": {},
   "source": [
    "b) An welchem Tag im Betrachtungszeitraum wurde der höchste Börsenstrompreis verzeichnet und wie hoch war er? (26.08.22)\n",
    "An welchem Tag im Betrachtungszeitraum wurde der niedrigste Börsenstrompreis verzeichnet und wie hoch war er? (2.7.23)"
   ]
  },
  {
   "cell_type": "code",
   "execution_count": null,
   "metadata": {},
   "outputs": [],
   "source": [
    "highest_price = df_daily['Day Ahead Auktion Preis (EUR/MWh)'].max()\n",
    "date_highest_price = df_daily[df_daily['Day Ahead Auktion Preis (EUR/MWh)'] == highest_price]\n",
    "\n",
    "print(\"Tag mit dem höchsten Börsenstrompreis: \" ,date_highest_price['Datum'].dt.date.values[0])\n",
    "print(\"Höchster Börsenstrompreis: \", highest_price)\n",
    "\n",
    "lowest_price = df_daily['Day Ahead Auktion Preis (EUR/MWh)'].min()\n",
    "date_lowest_price = (df_daily.loc[df_daily['Day Ahead Auktion Preis (EUR/MWh)'] == lowest_price])\n",
    "print(\"Tag mit dem niedrigsten Börsenstrompreis: \", date_lowest_price['Datum'].dt.date.values[0])\n",
    "print(\"Niedrigster Börsenstrompreis\", lowest_price)\n"
   ]
  },
  {
   "cell_type": "markdown",
   "metadata": {},
   "source": [
    "c) Wie viele Tage gab es im Betrachtungszeitraum 2020-2024, an denen ein negativer Börsenstrompreis aufgetreten ist?"
   ]
  },
  {
   "cell_type": "code",
   "execution_count": null,
   "metadata": {},
   "outputs": [],
   "source": [
    "negative_price_df = df_daily[df_daily['Day Ahead Auktion Preis (EUR/MWh)'] < 0]\n",
    "negative_price_day_count = negative_price_df['Day Ahead Auktion Preis (EUR/MWh)'].count()\n",
    "print(\"Anzahl der Tage mit einem negativen Börsenstrompreis: \", negative_price_day_count)\n",
    "negative_price_df\n"
   ]
  },
  {
   "cell_type": "markdown",
   "metadata": {},
   "source": [
    "d) Wie viel Strom wurde pro Jahr mit erneuerbaren und mit nicht erneuerbaren Energieträgern erzeugt?"
   ]
  },
  {
   "cell_type": "code",
   "execution_count": null,
   "metadata": {},
   "outputs": [],
   "source": [
    "df_daily['Jahr'] = df_daily['Datum'].astype(str)\n",
    "df_daily['Jahr'] = df_daily['Jahr'].str[0:4]\n",
    "df_year = df_daily.groupby('Jahr')[['Leistung nicht erneuerbar (MW)', 'Leistung erneuerbar (MW)']].sum()\n",
    "\n",
    "#Convert from megawatts (MW) to gigawatts (GW)\n",
    "\n",
    "df_year['Leistung nicht erneuerbar (GW)'] = (df_year['Leistung nicht erneuerbar (MW)']/1000).round(2)\n",
    "df_year['Leistung erneuerbar (GW)'] = (df_year['Leistung erneuerbar (MW)']/1000).round(2)\n",
    "df_year\n",
    "\n"
   ]
  },
  {
   "cell_type": "markdown",
   "metadata": {},
   "source": [
    "## Aufgabe 3 (Weiterfürhende Analyse der Stromerzeugung- und Preisdaten)\n",
    "<a id = \"aufgabe3\"></a>\n",
    "\n",
    "\n",
    "[Zurück zum Inhaltsverzeichnis](#inhaltsverzeichnis)\n"
   ]
  },
  {
   "cell_type": "markdown",
   "metadata": {},
   "source": [
    "a) Visualisierung der Verteilung der Börsenstrompreise (insgesamt und pro Jahr)\n",
    "\n",
    "??? Was ist hier mit Verteilung gemeint? evtl Boxplot??\n"
   ]
  },
  {
   "cell_type": "code",
   "execution_count": null,
   "metadata": {},
   "outputs": [],
   "source": [
    "# \"Line chart to show the distribution of prices per day for the observation period\n",
    "\n",
    "plt.figure(figsize=(15, 6))\n",
    "plt.plot(df_daily['Datum'], df_daily['Day Ahead Auktion Preis (EUR/MWh)'], label = 'Line', color = 'blue')\n",
    "plt.xlabel('Betrachtungszeitrum (2020-2024)')\n",
    "plt.ylabel('mittlerer Börsenstrompreise in € pro Tag')\n",
    "plt.title('Mittlerer Börsenstrompreis pro Tag für 2020-2024')\n",
    "\n"
   ]
  },
  {
   "cell_type": "markdown",
   "metadata": {},
   "source": [
    "Visualisierung der Verteilung der Börsenstrompreise pro Jahr? (evtl dann 4 Linien untereinander?)\n",
    "->eher mittlerer Werte pro Monat aber dann Wiederholung in b)?\n",
    "->oder nur die 5 Säulen mit mittlerer Wert pro Jahr?"
   ]
  },
  {
   "cell_type": "code",
   "execution_count": null,
   "metadata": {},
   "outputs": [],
   "source": [
    "import matplotlib.dates as mdates\n",
    "#Using column Jahr, which contains year as string\n",
    "# We use a copy to avoid the SettingWithCopyWarning that occurs when we modifiy a view of the original df [5]\n",
    "year_2020_modified = df_daily[df_daily['Jahr'] == '2020'].copy()\n",
    "year_2021_modified = df_daily[df_daily['Jahr'] == '2021'].copy()\n",
    "year_2022_modified = df_daily[df_daily['Jahr'] == '2022'].copy()\n",
    "year_2023_modified = df_daily[df_daily['Jahr'] == '2023'].copy()\n",
    "year_2024_modified = df_daily[df_daily['Jahr'] == '2024'].copy()\n",
    "\n",
    "year_2020_modified['Datum'] = year_2020_modified['Datum'].astype(str)\n",
    "year_2021_modified['Datum'] = year_2021_modified['Datum'].astype(str)\n",
    "year_2022_modified['Datum'] = year_2022_modified['Datum'].astype(str)\n",
    "year_2023_modified['Datum'] = year_2023_modified['Datum'].astype(str)\n",
    "year_2024_modified['Datum'] = year_2024_modified['Datum'].astype(str)\n",
    "\n",
    "# ertste Vorkommen von Jahr auf 2000 setzten, um Darstellung auf einer x-Achse zu ermöglichen\n",
    "\n",
    "year_2020_modified['Datum'] = year_2020_modified['Datum'].str.replace('2020', '2000')\n",
    "year_2021_modified['Datum'] = year_2021_modified['Datum'].str.replace('2021', '2000')\n",
    "year_2022_modified['Datum'] = year_2022_modified['Datum'].str.replace('2022', '2000')\n",
    "year_2023_modified['Datum'] = year_2023_modified['Datum'].str.replace('2023', '2000')\n",
    "year_2024_modified['Datum'] = year_2024_modified['Datum'].str.replace('2024', '2000')\n",
    "\n",
    "\n",
    "\n",
    "year_2020_modified['Datum'] = pd.to_datetime(year_2020_modified['Datum'])\n",
    "year_2021_modified['Datum'] = pd.to_datetime(year_2021_modified['Datum'])\n",
    "year_2022_modified['Datum'] = pd.to_datetime(year_2022_modified['Datum'])\n",
    "year_2023_modified['Datum'] = pd.to_datetime(year_2023_modified['Datum'])\n",
    "year_2024_modified['Datum'] = pd.to_datetime(year_2024_modified['Datum'])\n",
    "\n",
    "plt.figure(figsize=(15, 10))\n",
    "plt.plot(year_2020_modified['Datum'], year_2020_modified['Day Ahead Auktion Preis (EUR/MWh)'], label = '2020', color = 'black')\n",
    "plt.plot(year_2021_modified['Datum'], year_2021_modified['Day Ahead Auktion Preis (EUR/MWh)'], label = '2021', color = 'blue')\n",
    "plt.plot(year_2022_modified['Datum'], year_2022_modified['Day Ahead Auktion Preis (EUR/MWh)'], label = '2022', color = 'orange')\n",
    "plt.plot(year_2023_modified['Datum'], year_2023_modified['Day Ahead Auktion Preis (EUR/MWh)'], label = '2023', color = 'red')\n",
    "plt.plot(year_2024_modified['Datum'], year_2024_modified['Day Ahead Auktion Preis (EUR/MWh)'], label = '2024', color = 'green')\n",
    "\n",
    "\n",
    "plt.xlabel(\"Jahr\")\n",
    "plt.ylabel('mittlerer Börsenstrompreise in € pro Tag')\n",
    "plt.title('Mittlerer Börsenstrompreis pro Tag pro Jahr')\n",
    "plt.legend(loc='upper right')\n",
    "\n",
    "\n",
    "# Source [6] Chat-GPT mit Prompt\n",
    "plt.gca().xaxis.set_major_locator(mdates.MonthLocator())  # Setzt die Haupt-Ticks auf Monatsanfang\n",
    "plt.gca().xaxis.set_major_formatter(mdates.DateFormatter('%m'))  # Zeigt nur den Monat als Zahl (1-12)\n",
    "\n"
   ]
  },
  {
   "cell_type": "markdown",
   "metadata": {},
   "source": [
    "b) Berechnung auf die einzelnen Jahre des Betrachtungszeitraum verschiedene statistische Kenngrößen für den Börsenstrompreis"
   ]
  },
  {
   "cell_type": "code",
   "execution_count": null,
   "metadata": {},
   "outputs": [],
   "source": [
    "df_daily['Monat'] = df_daily['Datum'].dt.month\n",
    "df_year = df_daily.groupby(['Jahr', 'Monat'])['Day Ahead Auktion Preis (EUR/MWh)']\n",
    "\n",
    "df_year.describe()\n",
    "\n",
    "# maybe round(2)"
   ]
  },
  {
   "cell_type": "markdown",
   "metadata": {},
   "source": [
    "c) Visualisierung in einem Säulendiagramm die mittleren Börsenstrompreise pro Monat im Betrachtungszeitraum"
   ]
  },
  {
   "cell_type": "code",
   "execution_count": null,
   "metadata": {},
   "outputs": [],
   "source": [
    "df_year_monthly = df_daily.groupby(['Jahr', 'Monat'])['Day Ahead Auktion Preis (EUR/MWh)'].mean()\n",
    "\n",
    "df_year_monthly.plot(kind = 'bar', figsize=(15,10))\n",
    "plt.ylim(0, 500)\n",
    "\n",
    "plt.title('Mittlerer Börsenstrompreis pro Monat von 2020-2024')\n",
    "plt.ylabel('Mittlerer Börsenstrompreis in EUR/MWh')\n"
   ]
  },
  {
   "cell_type": "markdown",
   "metadata": {},
   "source": [
    "d)"
   ]
  },
  {
   "cell_type": "markdown",
   "metadata": {},
   "source": [
    "e) Berechnung und Visualisierung der im Mittel mit erneuerbaren Energieträgern erzeugten Energie im Tagesverlauf, indem wir auf die vollen Stunden eines Tages aggregieren. Der df_daily hat als Aggregation für den Tag die Summe der erneuerbaren und nicht erneuerbaren Energie pro Tag. Deswegen gruppieren wir den df_hourly nochmal nach Tagen und nehmen dann für die erneuerbaren Energien den Mittelwert"
   ]
  },
  {
   "cell_type": "code",
   "execution_count": null,
   "metadata": {},
   "outputs": [],
   "source": [
    "# use df_stunde, which contains the transformed \"Datum\" as date and not datetime\n",
    "df_renewable_daily=df_stunde.groupby('Datum')['Leistung erneuerbar (MW)'].mean().reset_index()\n",
    "df_renewable_daily['Leistung erneuerbar (GW)'] = df_renewable_daily['Leistung erneuerbar (MW)']/1000\n",
    "\n",
    "# Sinnvolle Darstellung??\n",
    "plt.figure(figsize=(20, 10))\n",
    "\n",
    "plt.scatter(df_renewable_daily['Datum'], df_renewable_daily['Leistung erneuerbar (MW)'], label = 'scatter', color = 'blue')\n",
    "plt.title('ashshsh')\n",
    "plt.show()\n",
    "\n",
    "\n"
   ]
  },
  {
   "cell_type": "markdown",
   "metadata": {},
   "source": [
    "### Aufgabe 6 (Analyse von Stromtarif-Angeboten für Endkunden)\n",
    "<a id = \"aufgabe6\"></a>\n",
    "\n",
    "[Zurück zum Inhaltsverzeichnis](#inhaltsverzeichnis)\n",
    "\n",
    "a) Führen Sie die gegebenen Preisvergleichdaten in einem DataFrame namens df_cust zusammen. Exportieren Sie diesen als CSV-Datei namens prices_customers.csv und laden Sie diese mit Ihrer Abgabe auf Moodle hoch. Verwerfen Sie bitte zur Minimierung der Dateigröße alle Spalten, die im weiteren Verlauf nicht mehr verwendet werden. Kommentieren Sie nun den Code zur Datensatzgenerierung aus und lesen Sie die CSV-Datei in den DataFrame df_cust erneut aus dieser Datei ein.\n"
   ]
  },
  {
   "cell_type": "code",
   "execution_count": null,
   "metadata": {},
   "outputs": [],
   "source": [
    "'''\n",
    "path = './Daten/Endkundenpreise/'\n",
    "\n",
    "def extract_date_from_filepath(file):\n",
    "    file = file.replace(path, \"\")\n",
    "    # Concatenate the date out of fixed year 2024 and month/day from folder name\n",
    "    return \"2024-\" + file[0:5]\n",
    "\n",
    "def extract_data_from_json(file):\n",
    "    assert file.endswith(\".json\"), \"Keine json-Datei uebergeben\"\n",
    "    try:\n",
    "        # Read and load the json file\n",
    "        df_temp = pd.read_json(file)\n",
    "        # Transpose the table: convert the rows to columns\n",
    "        df_temp = df_temp.T\n",
    "        # Add date from filename as column\n",
    "        df_temp['Datum'] = extract_date_from_filepath(file)\n",
    "        \n",
    "        return df_temp\n",
    "    except:\n",
    "        print(\"Datei konnte nicht gelesen werden.\")\n",
    "\n",
    "def drop_unnecessary_columns(df):\n",
    "    columns_to_drop = ['Postleitzahl', 'Jahresverbrauch', 'Abschlagszahlung', 'Verlängerung', 'Kündigungsfrist', 'Grundpreis', 'Arbeitspreis', 'Preisgarantie', 'Grundpreisrabatt:', 'Neukundenbonus', 'Sofortbonus', 'Arbeitspreisrabatt', 'Zusätzlicher Aktionsbonus', 'Blitzbonus', 'Abschlagsrabatt', 'Grundpreisrabatt', 'Winterprämie']\n",
    "    return df.drop(columns = columns_to_drop)\n",
    "\n",
    "df_list = []\n",
    "# https://www.tutorialspoint.com/python/os_listdir.htm\n",
    "for folder in os.listdir(path):\n",
    "    combined_path = os.path.join(path, folder, \"*json\")\n",
    "    json_files = glob.glob(combined_path)\n",
    "\n",
    "    for i in range(len(json_files)):\n",
    "        df_temp = extract_data_from_json(json_files[i])\n",
    "        df_list.append(df_temp)\n",
    "        \n",
    "df_cust = pd.concat(df_list)\n",
    "df_cust = drop_unnecessary_columns(df_cust)\n",
    "# https://www.datacamp.com/tutorial/save-as-csv-pandas-dataframe\n",
    "df_cust.to_csv('prices_customers.csv', index = False, encoding='utf-8')\n",
    "'''\n"
   ]
  },
  {
   "cell_type": "markdown",
   "metadata": {},
   "source": [
    "b) Bereiten Sie die Daten auf die weitere Analyse vor, indem Sie geeignete Datentransformations- und -bereinigungsschritte durchführen."
   ]
  },
  {
   "cell_type": "code",
   "execution_count": null,
   "metadata": {},
   "outputs": [],
   "source": [
    "df_cust = pd.read_csv('prices_customers.csv')\n",
    "print(\"Zeilen vor Bereinigung:\", df_cust.shape[0])\n",
    "\n",
    "df_cust['Datum'] = pd.to_datetime(df_cust['Datum'])\n",
    "\n",
    "def combine_price_columns(row):\n",
    "    if pd.isna(row['Preis im 1. Jahr*']):\n",
    "        return row['Preis im 1. Jahr']\n",
    "    return row['Preis im 1. Jahr*']\n",
    "\n",
    "def replace_string_from_row(row, column, string, string_to_replace_with):\n",
    "    if pd.isna(row[column]):\n",
    "        return row[column]\n",
    "    if string in row[column]:\n",
    "        return row[column].replace(string, string_to_replace_with)\n",
    "    return row[column]\n",
    "\n",
    "# Combine the two price columns into one\n",
    "df_cust['Preis'] = df_cust.apply(combine_price_columns, axis = 1)\n",
    "df_cust = df_cust.drop(columns = ['Preis im 1. Jahr*', 'Preis im 1. Jahr'])\n",
    "# Drop rows with NaN as Preis, because those rows aren't viable for a comparison later on\n",
    "# https://pandas.pydata.org/docs/reference/api/pandas.DataFrame.dropna.html\n",
    "df_cust = df_cust.dropna(subset=['Preis'])\n",
    "\n",
    "df_cust['Vertragslaufzeit'] = df_cust.apply(lambda row: replace_string_from_row(row, 'Vertragslaufzeit', \" Monate\", \"\"), axis=1)\n",
    "df_cust['Vertragslaufzeit'] = df_cust.apply(lambda row: replace_string_from_row(row, 'Vertragslaufzeit', \" Monat\", \"\"), axis=1)\n",
    "# Fill NaN values, so that dtype can be converted to int\n",
    "df_cust['Vertragslaufzeit'] = df_cust['Vertragslaufzeit'].fillna(0)\n",
    "df_cust['Vertragslaufzeit'] = df_cust['Vertragslaufzeit'].astype(int)\n",
    "\n",
    "df_cust['Preis'] = df_cust.apply(lambda row: replace_string_from_row(row, 'Preis', \" €/Monat\", \"\"), axis=1)\n",
    "# Change decimal comma, to decimal point for float conversion\n",
    "df_cust['Preis'] = df_cust.apply(lambda row: replace_string_from_row(row, 'Preis', \",\", \".\"), axis=1)\n",
    "df_cust['Preis'] = df_cust['Preis'].astype(float)\n",
    "df_cust = df_cust.rename(columns = {'Preis' : 'Preis im 1. Jahr/ pro Monat in €', 'Vertragslaufzeit' : 'Vertragslaufzeit in Monaten'})\n",
    "\n",
    "print(\"Zeilen nach Bereinigung:\", df_cust.shape[0])\n",
    "\n"
   ]
  },
  {
   "cell_type": "markdown",
   "metadata": {},
   "source": [
    "c) Wie viele verschiedene Tarife wurden insgesamt angeboten? Zu wie vielen Tagen sind pro Stadt Daten vorhanden? Wie viele verschiedene Anbieter haben insgesamt Tarife angeboten?"
   ]
  },
  {
   "cell_type": "code",
   "execution_count": null,
   "metadata": {},
   "outputs": [],
   "source": [
    "unique_tariffe = df_cust['Tarif'].unique()\n",
    "print(\"Anzahl verschiedender Tarife:\" , len(unique_tariffe))\n",
    "\n",
    "# Occuring Städte in the DataSet\n",
    "number_of_total_cities = len(df_cust['Stadt'].unique())\n",
    "\n",
    "# Group with any aggregation to get all unique Datum/Stadt combination entries\n",
    "grouped_date_city = df_cust.groupby(['Datum', 'Stadt']).agg(Count=('Stadt', 'count')).reset_index()\n",
    "# Group and count how many different Stadt rows there are for each given date\n",
    "grouped_date = grouped_date_city.groupby( ['Datum'])['Stadt'].count()\n",
    "# Filter out the dates that don't have an entry for every Stadt of the DataSet\n",
    "filtered_dates = grouped_date[grouped_date == number_of_total_cities]\n",
    "print(\"Daten für alle Städte sind an\", len(filtered_dates), \"Tagen vorhanden\")\n",
    "\n",
    "unique_anbieter = df_cust['Anbieter'].unique()\n",
    "print(\"Anzahl der Anbieter die insgesamt Tarife angeboten haben:\", len(unique_anbieter))"
   ]
  },
  {
   "cell_type": "markdown",
   "metadata": {},
   "source": [
    "d) Ermitteln Sie, welche unterschiedlichen Tarife in Amberg angeboten wurden und visualisieren Sie exemplarisch für die Stadt Amberg den Füllgrad der Daten. Erstellen Sie dazu eine HeatMap, aus der hervorgeht, an welchen Tagen es zu welchen der ermittelten Tarife Angebotsdaten gab."
   ]
  },
  {
   "cell_type": "code",
   "execution_count": null,
   "metadata": {},
   "outputs": [],
   "source": [
    "df_amberg = df_cust[df_cust['Stadt'] == 'Amberg']\n",
    "\n",
    "unique_tariffe_amberg = df_amberg['Tarif'].unique()\n",
    "print(\"Anzahl verschiedender Tarife:\" , len(unique_tariffe_amberg))\n",
    "\n",
    "plt.figure(figsize=(25, 30))\n",
    "# HeatMap: green = the Tarif is offered for the given day, none/white = no offering \n",
    "plt.scatter(df_amberg['Datum'], df_amberg['Tarif'], color ='green', alpha=0.75)\n",
    "\n",
    "# https://stackoverflow.com/questions/57796673/switching-month-numbers-to-month-names-on-x-axis-of-histogram-matplotlib\n",
    "plt.gca().xaxis.set_major_formatter(plt.matplotlib.dates.DateFormatter('%b'))\n",
    "plt.gca().xaxis.set_major_locator(plt.matplotlib.dates.MonthLocator())\n",
    "\n",
    "plt.xlabel('Datum', fontsize=16) \n",
    "plt.ylabel('Tarif', fontsize=16)\n",
    "plt.title('Verschiedene Tarife für Amberg', fontsize=20)\n",
    "plt.grid(True, linestyle='--', alpha=0.5)\n",
    "plt.show()\n"
   ]
  },
  {
   "cell_type": "markdown",
   "metadata": {},
   "source": [
    "e) Visualisieren Sie die durchschnittliche Preisentwicklung im Verlauf des Jahres 2024 über alle Tarife und Orte hinweg. Berücksichtigen Sie dabei nur Tarife, bei denen die Vertragslaufzeit mindestens 12 Monate beträgt. Verwenden Sie dazu den Preis im 1. Jahr, der den monatlichen Preis unter Berücksichtigung des Grundpreises, des Arbeitspreises und von Bonuszahlungen o.ä. enthält. Untersuchen Sie anschließend den Zusammenhang zum Börsenstrompreis, indem Sie geeignete Kenngrößen berechnen und weitere Diagramme erstellen."
   ]
  },
  {
   "cell_type": "code",
   "execution_count": null,
   "metadata": {},
   "outputs": [],
   "source": [
    "filtered_12_months = df_cust[df_cust['Vertragslaufzeit in Monaten'] >= 12]\n",
    "df_mean_prices = filtered_12_months.groupby(['Datum']).agg(MeanPrice =('Preis im 1. Jahr/ pro Monat in €', 'mean')).reset_index()\n",
    "\n",
    "mean_price_total = df_mean_prices['MeanPrice'].mean()\n",
    "\n",
    "df_mean_prices['Difference to Total Mean'] = (df_mean_prices['MeanPrice'] - mean_price_total)\n",
    "# Constant value column for plotting the base line\n",
    "df_mean_prices['Total Mean'] = 0\n",
    "\n",
    "plt.figure(figsize=(20, 7))\n",
    "# Mean/Base line\n",
    "plt.plot(df_mean_prices['Datum'], df_mean_prices['Total Mean'], label = 'Durchschnittlicher Endkundenpreis 2024', color = 'gray', linestyle='--')\n",
    "# Label for Mean/Base line\n",
    "mean_line_label = str(round(mean_price_total,2)) + \" €\"\n",
    "plt.text(df_mean_prices['Datum'].min(), 0.35, mean_line_label, color='gray', fontsize=12)\n",
    "\n",
    "# Price Deviation line\n",
    "plt.plot(df_mean_prices['Datum'], df_mean_prices['Difference to Total Mean'], label = 'Abweichung in €', color = 'blue')\n",
    "\n",
    "#https://matplotlib.org/stable/api/_as_gen/matplotlib.pyplot.ylim.html\n",
    "# Center mean price, to balance out the appearance of change\n",
    "plt.ylim(bottom = -9, top = 9)\n",
    "\n",
    "plt.xlabel('2024', fontsize = 12) \n",
    "plt.ylabel('Abweichung', fontsize = 12)\n",
    "plt.title('Durchschnittliche Endkundenpreisentwicklung im Vergleich zum durchschnittlichen Endkundenpreis 2024', fontsize=20)\n",
    "plt.gca().xaxis.set_major_formatter(plt.matplotlib.dates.DateFormatter('%b'))\n",
    "plt.gca().xaxis.set_major_locator(plt.matplotlib.dates.MonthLocator())\n",
    "plt.grid(True, linestyle = '--', alpha = 0.5)\n",
    "\n",
    "plt.legend()\n",
    "plt.show()\n",
    "\n",
    "df_mean_prices = df_mean_prices.drop(columns = ['Difference to Total Mean', 'Total Mean'])\n"
   ]
  },
  {
   "cell_type": "markdown",
   "metadata": {},
   "source": [
    "Vergleich Endkundenpreis zu Börsenstrompreis"
   ]
  },
  {
   "cell_type": "code",
   "execution_count": null,
   "metadata": {},
   "outputs": [],
   "source": [
    "df_kunden_boerse = pd.merge(df_mean_prices, df_daily, on = 'Datum', how = 'left', validate='one_to_one')\n",
    "df_kunden_boerse = df_kunden_boerse.drop(columns = ['Leistung nicht erneuerbar (MW)', 'Leistung erneuerbar (MW)', 'Jahr', 'Monat'])\n",
    "df_kunden_boerse = df_kunden_boerse.rename(columns = {'MeanPrice': 'Endkundenpreis pro 4000kWh (EUR/Monat)'})\n",
    "\n",
    "# 1 MWh = 1.000 kWh\n",
    "df_kunden_boerse['Börsenpreis pro kWh (EUR)'] = (df_kunden_boerse['Day Ahead Auktion Preis (EUR/MWh)'] / 1000)\n",
    "df_kunden_boerse['Endkundenpreis pro kWh (EUR)'] = (df_kunden_boerse['Endkundenpreis pro 4000kWh (EUR/Monat)'] * 12) / 4000\n",
    "\n",
    "plt.figure(figsize=(10, 10))\n",
    "plt.scatter(df_kunden_boerse['Endkundenpreis pro kWh (EUR)'], df_kunden_boerse['Börsenpreis pro kWh (EUR)'], alpha=0.75)\n",
    "\n",
    "plt.xlabel('Endkundenpreis pro kWh (EUR)', fontsize = 12) \n",
    "plt.ylabel('Börsenpreis pro kWh (EUR)', fontsize = 12)\n",
    "plt.show()"
   ]
  },
  {
   "cell_type": "code",
   "execution_count": null,
   "metadata": {},
   "outputs": [],
   "source": [
    "plt.figure(figsize=(15, 5))\n",
    "plt.plot(df_kunden_boerse['Datum'], df_kunden_boerse['Endkundenpreis pro kWh (EUR)'], label = 'Durchschnittlicher Preis pro kWh im 1. Jahr (Endkunde)', color = 'blue')\n",
    "plt.plot(df_kunden_boerse['Datum'], df_kunden_boerse['Börsenpreis pro kWh (EUR)'] , label = 'Durchschnittlicher Preis pro kWh (Börse)', color = 'gray')\n",
    "plt.ylabel('Preis in €', fontsize = 12) \n",
    "plt.xlabel('2024', fontsize = 12) \n",
    "plt.gca().xaxis.set_major_formatter(plt.matplotlib.dates.DateFormatter('%b'))\n",
    "plt.gca().xaxis.set_major_locator(plt.matplotlib.dates.MonthLocator())\n",
    "plt.grid(True, linestyle = '--', alpha = 0.5)\n",
    "plt.legend()\n",
    "plt.show()"
   ]
  },
  {
   "cell_type": "code",
   "execution_count": null,
   "metadata": {},
   "outputs": [],
   "source": [
    "df_kunden_boerse['Differenz Anbieter/Endkunde'] = df_kunden_boerse['Endkundenpreis pro kWh (EUR)'] - df_kunden_boerse['Börsenpreis pro kWh (EUR)'] \n",
    "\n",
    "plt.figure(figsize=(15, 5))\n",
    "plt.plot(df_kunden_boerse['Datum'], df_kunden_boerse['Differenz Anbieter/Endkunde'], color = 'blue')\n",
    "plt.xlabel('2024', fontsize = 12) \n",
    "plt.gca().xaxis.set_major_formatter(plt.matplotlib.dates.DateFormatter('%b'))\n",
    "plt.gca().xaxis.set_major_locator(plt.matplotlib.dates.MonthLocator())\n",
    "plt.grid(True, linestyle = '--', alpha = 0.5)\n",
    "\n",
    "plt.ylim(-0.3, 0.3)\n",
    "plt.show()\n",
    "\n",
    "print(df_kunden_boerse['Differenz Anbieter/Endkunde'].min())\n",
    "print(df_kunden_boerse['Differenz Anbieter/Endkunde'].max())"
   ]
  },
  {
   "cell_type": "markdown",
   "metadata": {},
   "source": [
    "i) Im Merkmal Anbieter befinden sich kurze Beschreibungen der Anbieter und der Tarife. Erstellen Sie mit Hilfe des Pakets WordCloud eine Wortwolke für die Anbieter-Beschreibungen und untersuchen Sie, welche Schlagworte besonders häufig auftreten."
   ]
  },
  {
   "cell_type": "code",
   "execution_count": null,
   "metadata": {},
   "outputs": [],
   "source": [
    "def remove_punctuation_from_anbieter(anbieter):\n",
    "    punctuations = [\n",
    "        \".\", \",\", \"/\", \"&\", \"-\", \"_\", \":\", \";\", \"!\", \"?\", \"#\", \"%\", \"$\", \"@\", \"^\", \"+\",\n",
    "        \"=\", \"(\", \")\", \"[\", \"]\", \"{\", \"}\", \"<\", \">\", \"|\", \"~\", \"'\", \"`\"]\n",
    "    for p in punctuations:\n",
    "        anbieter = anbieter.replace(p, \"\")\n",
    "    return anbieter\n",
    "    \n",
    "def remove_non_buzzwords_from_anbieter(anbieter):\n",
    "    anbieter_words = anbieter.split() # Isolate each word of Anbieter\n",
    "\n",
    "    words_to_remove = [\n",
    "        'der', 'die', 'das', 'des', 'und', 'ein', 'eine', 'einen', 'mit', 'ist', 'den', 'dem', 'zu', 'von', 'vom', \n",
    "        'auf', 'im', 'an', 'für', 'am', 'als', 'es', 'aber', 'auch', 'aus', 'bei', 'dass', 'um'\n",
    "        'du', 'er', 'sie', 'wir', 'ihr', 'ihnen', 'ihm', 'euch', 'mir', 'mich', \n",
    "        'mein', 'meine', 'dein', 'deine', 'sein', 'seine', 'ihr', 'ihre', \n",
    "        'noch', 'schon', 'oder', 'so', 'wie', 'was', 'wer', 'wenn', 'beim'\n",
    "        'warum', 'weil', 'dann', 'doch', 'nur', 'diese', 'dieser', 'dieses', \n",
    "        'jeder', 'jede', 'jedes', 'keiner', 'keine', 'kein', 'welche', 'welcher', \n",
    "        'man', 'damit', 'über', 'unter', 'haben', 'hat', 'sein', 'sind', 'war', 'waren', \n",
    "        'dabei', 'in', 'seit', 'durch', 'ihren', 'einer', 'sowie', 'gmbh', 'kg', 'ag']\n",
    "\n",
    "    filtered_words = []\n",
    "    \n",
    "    for word in anbieter_words:\n",
    "        # Only keep words that are buzzwords\n",
    "        if word.lower() not in words_to_remove:\n",
    "            filtered_words.append(word)\n",
    "\n",
    "    # https://www.w3schools.com/python/ref_string_join.asp\n",
    "    return ' '.join(filtered_words)\n",
    "\n",
    "unique_anbieter_strs = df_cust['Anbieter'].unique()\n",
    "\n",
    "for i in range(len(unique_anbieter_strs)):\n",
    "    unique_anbieter_strs[i] = remove_punctuation_from_anbieter(unique_anbieter_strs[i])\n",
    "    unique_anbieter_strs[i] = remove_non_buzzwords_from_anbieter(unique_anbieter_strs[i])\n",
    "\n",
    "# Create one String out of all different Anbieter \n",
    "combined_text = ' '.join(unique_anbieter_strs)\n",
    "\n",
    "cloud = WordCloud(background_color='white').generate(combined_text)\n",
    "plt.figure(figsize=(10,5))\n",
    "plt.imshow(cloud)\n",
    "plt.axis('off')\n",
    "plt.show()\n"
   ]
  },
  {
   "cell_type": "markdown",
   "metadata": {},
   "source": [
    "### Quellenverzeichnis\n",
    "<a id = \"quellenverzeichnis\"></a>\n",
    "\n",
    "[1] https://www.geeksforgeeks.org/how-to-read-all-csv-files-in-a-folder-in-pandas/\n",
    "\n",
    "[2] https://statistikguru.de/python/python-auflisten-dateien-verzeichnis.html\n",
    "\n",
    "[3] https://pandas.pydata.org/docs/reference/api/pandas.to_datetime.html\n",
    "\n",
    "[4] https://pandas.pydata.org/docs/reference/api/pandas.Series.dt.year.html#pandas.Series.dt.year\n",
    "\n",
    "[5] https://pandas.pydata.org/pandas-docs/stable/user_guide/indexing.html#returning-a-view-versus-a-copy\n",
    "\n",
    "[6] Chat GPT \n",
    "\n",
    "    Prompt (am 05.01.2025): \n",
    "\n",
    "    #Using column Jahr, which contains year as string\n",
    "    # We use a copy to avoid the SettingWithCopyWarning that occurs when we modifiy a view of the original df [5]\n",
    "    year_2020 = df_daily[df_daily['Jahr'] == '2020'].copy()\n",
    "    year_2021 = df_daily[df_daily['Jahr'] == '2021'].copy()\n",
    "\n",
    "    year_2020['Datum'] = year_2020['Datum'].astype(str)\n",
    "    year_2021['Datum'] = year_2021['Datum'].astype(str)\n",
    "\n",
    "    # ertste Vorkommen von 2020 auf 2000 setzten\n",
    "\n",
    "    year_2020['Datum'] = year_2020['Datum'].str.replace('2020', '2000')\n",
    "\n",
    "    year_2021['Datum'] = year_2021['Datum'].str.replace('2021', '2000')\n",
    "\n",
    "    year_2020['Datum'] = pd.to_datetime(year_2020['Datum'])\n",
    "    year_2021['Datum'] = pd.to_datetime(year_2021['Datum'])\n",
    "\n",
    "    plt.figure(figsize=(12, 6))\n",
    "    plt.plot(year_2020['Datum'], year_2020['Day Ahead Auktion Preis (EUR/MWh)'], label = '2020', color = 'green')\n",
    "    plt.plot(year_2021['Datum'], year_2021['Day Ahead Auktion Preis (EUR/MWh)'], label = '2021', color = 'blue')\n",
    "\n",
    "    Wie kann ich die x-Achse so verändern, dass nicht mehr Jahr-Monat dort steht, sondern nur noch der Monat (also alle Monate von 1-12). Die Darstellung der Tagesdaten soll aber gleich bleiben\n",
    "\n",
    "[Zurück zum Inhaltsverzeichnis](#inhaltsverzeichnis)"
   ]
  }
 ],
 "metadata": {
  "kernelspec": {
   "display_name": "Python 3",
   "language": "python",
   "name": "python3"
  },
  "language_info": {
   "codemirror_mode": {
    "name": "ipython",
    "version": 3
   },
   "file_extension": ".py",
   "mimetype": "text/x-python",
   "name": "python",
   "nbconvert_exporter": "python",
   "pygments_lexer": "ipython3",
   "version": "3.11.9"
  }
 },
 "nbformat": 4,
 "nbformat_minor": 2
}
