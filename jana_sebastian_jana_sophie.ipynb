{
 "cells": [
  {
   "cell_type": "markdown",
   "metadata": {},
   "source": [
    "# Projektarbeit Data Analytics\n",
    "\n",
    "Sebastian Jana,\n",
    "Sophie Jana\n",
    "\n",
    "## Inhaltsverzeichnis\n",
    "<a id =\"inhaltsverzeichnis\"></a>\n",
    "\n",
    "[1. Aufgabe](#aufgabe1)\n",
    "\n",
    "[2. Aufgabe](#aufgabe2)\n",
    "\n",
    "[3. Aufgabe](#aufgabe3)\n",
    "\n",
    "[4. Aufgabe](#aufgabe4)\n",
    "\n",
    "[5. Aufgabe](#aufgabe5)\n",
    "\n",
    "[6. Aufgabe](#aufgabe6)\n",
    "\n",
    "[7. Quellenverzeichnis](#quellenverzeichnis)\n",
    "\n",
    "\n"
   ]
  },
  {
   "cell_type": "markdown",
   "metadata": {},
   "source": [
    "### Aufgabe 1 (Datenvorbereitung)\n",
    "<a id = \"aufgabe1\"></a>\n",
    "\n",
    "[Zurück zum Inhaltsverzeichnis](#inhaltsverzeichnis)\n"
   ]
  },
  {
   "cell_type": "markdown",
   "metadata": {},
   "source": [
    "Vorab alle Imports die im Notebook benötigt werden:"
   ]
  },
  {
   "cell_type": "code",
   "execution_count": null,
   "metadata": {},
   "outputs": [],
   "source": [
    "import pandas as pd\n",
    "import os\n",
    "import glob\n",
    "import matplotlib.pyplot as plt\n",
    "import plotly.graph_objs as go\n",
    "import requests\n",
    "from sklearn.model_selection import train_test_split\n",
    "from sklearn.linear_model import LinearRegression\n",
    "from sklearn.metrics import mean_absolute_percentage_error, r2_score\n",
    "from wordcloud import WordCloud\n",
    "import folium"
   ]
  },
  {
   "cell_type": "markdown",
   "metadata": {},
   "source": [
    "a) Lesen Sie die CSV-Dateien, die die Stromerzeugungsdaten und Börsenstrompreise enthalten ein und führen Sie sie in einem DataFrame namens df_hourly zusammen."
   ]
  },
  {
   "cell_type": "markdown",
   "metadata": {},
   "source": [
    "Um die CSV-Dateien zu einem DataFrame zusammenführen, werden alle CSV-Dateien die sich im Ordner Strompreisdaten befinden eingelesen. Aufgrund der Umstellung zwischen Sommer- und Winterzeit unterschieden sich die Spaltennamen für das Datum \"Datum (MESZ)\" für die Sommerzeit und \"Datum (MEZ)\" für die Winterzeit. Um die Daten einheitlich zu analysieren, benennen wir die Datumsspalte in \"DateTime\" um. Abschließend werden die einzelnen DataFrames, die sich in df_list befinden, zeilenweise aneinandergereiht und bilden somit dann den Dataframe df_hourly."
   ]
  },
  {
   "cell_type": "code",
   "execution_count": null,
   "metadata": {},
   "outputs": [],
   "source": [
    "# Sources for reading csv files from one folder\n",
    "# https://www.geeksforgeeks.org/how-to-read-all-csv-files-in-a-folder-in-pandas/\n",
    "# https://statistikguru.de/python/python-auflisten-dateien-verzeichnis.html\n",
    "\n",
    "\n",
    "path = './Daten/Strompreisdaten'\n",
    "# List all files (.csv) in the given path\n",
    "csv_files = glob.glob(os.path.join(path, \"*csv\"))\n",
    "\n",
    "df_list = []\n",
    "for i in range(len(csv_files)):\n",
    "    try:\n",
    "        df_temp = pd.read_csv(csv_files[i], sep = \",\")\n",
    "        for column in df_temp.columns:\n",
    "            # Combine the date columns, by getting rid of the naming difference in csv source\n",
    "            if 'Datum (MESZ)' in column:\n",
    "                df_temp = df_temp.rename(columns = {'Datum (MESZ)':'DateTime'})\n",
    "            elif 'Datum (MEZ)' in column:\n",
    "                df_temp = df_temp.rename(columns = {'Datum (MEZ)':'DateTime'})\n",
    "        df_list.append(df_temp)\n",
    "    except Exception as err: \n",
    "        print(\"Fehler beim Einlesen des Files: \", err)\n",
    "    \n",
    "df_hourly = pd.concat(df_list)\n"
   ]
  },
  {
   "cell_type": "markdown",
   "metadata": {},
   "source": [
    "b) Passen Sie die dtypes der Spalten von df_hourly geeignet an. Überführen Sie insbesondere das Datum in ein DateTime-Format. Entfernen Sie alle Datensätze, die sich nicht auf den Betrachtungszeitraum 2020-2024 beziehen."
   ]
  },
  {
   "cell_type": "markdown",
   "metadata": {},
   "source": [
    "Zunächst haben wir die Datentypen der Spalten des DataFrames überprüft. Für die weitere Analyse eignet sich der ursprüngliche Datentyp float64 für die Spalten \"Leistung nicht erneuerbar (MW)\", \"Leistung erneuerbar (MW)\", und \"Day Ahead Auktion Preis EUR/MWh\", da die Daten numerische Werte darstellen.\n",
    "\n",
    "Die Spalte \"DateTime\" wird in das datetime-Format umgewandelt, um mit Zeitstempeln arbeiten zu können. Dabei haben wir errors='coerce' verwendet, um ungültige Datumswerte in NaT (Not a Time) umzuwandeln, wobei nach der Überprüfung keine fehlerhaften DateTime Werte vorhanden sind. \n",
    "Anschließend beinhaltet der df_hourly nur den Zeitraum von 2020 bis 2024, sodass 48 Zeilen außerhalb des Zeitraums entfernt wurden. "
   ]
  },
  {
   "cell_type": "code",
   "execution_count": null,
   "metadata": {},
   "outputs": [],
   "source": [
    "print(df_hourly.shape)\n",
    "# Converting the column \"DateTime\" from object to DateTime format\n",
    "# Invalid values are converted to NaT (Not a Time)\n",
    "# Source: https://pandas.pydata.org/docs/reference/api/pandas.to_datetime.html\n",
    "df_hourly['DateTime'] = pd.to_datetime(df_hourly['DateTime'], errors=\"coerce\")\n",
    "print(df_hourly.dtypes)\n",
    "print(df_hourly['DateTime'].isna().any())\n",
    "\n",
    "# df_hourly contains only data for the obervation period\n",
    "df_hourly = df_hourly[(df_hourly['DateTime'].dt.year >= 2020) & (df_hourly['DateTime'].dt.year <= 2024)]\n",
    "print(df_hourly.shape) \n",
    "df_hourly = df_hourly.sort_values(by='DateTime')"
   ]
  },
  {
   "cell_type": "markdown",
   "metadata": {},
   "source": [
    "c) Beurteilen Sie die Datenqualität des Datensatzes und führen Sie, soferen aus Ihrer Sicht notwendig, geeignete Datenbereinigungsschritte durch."
   ]
  },
  {
   "cell_type": "markdown",
   "metadata": {},
   "source": [
    "Nachdem wir festgestellt haben, dass keine fehlenden Werte in unseren Daten vorhanden sind, überprüfen wir, ob es aufgrund der Umstellung zwischen Sommer- und Winterzeit doppelte Einträge in der Spalte DateTime gibt. Wir identifizieren 28 Duplikate.\n",
    "\n",
    "Um diese Duplikate zu bereinigen, gruppieren wir den DataFrame nach der DateTime-Spalte und berechnen den Durchschnitt für die Spalten. Nur für Duplikate wird daraus dann eine gemeinsame Zeile.\n",
    "\n",
    "Der anschließende reset_index() stellt sicher, dass DateTime wieder eine reguläre Spalte im DataFrame ist und nicht als Index verwendet wird.\n",
    "\n",
    "\n",
    "\n",
    "Die abschließende Beurteilung der Datenqualität zeigt, dass die Daten nach den durchgeführten Bereinigungs- und Transformationsschritten für die weitere Analyse vorbereitet wurden. Es wurden keine fehlenden Werte festgestellt, was die Vollständigkeit der Daten gewährleistet. Doppelte Einträge, die durch die Umstellung zwischen Sommer- und Winterzeit entstanden sind, wurden bereinigt.\n",
    "Zudem wurde die DateTime-Spalte in ein datetime-Format überführt, wodurch zeitbezogene Berechnungen und Analysen effizient durchgeführt werden können. Der DataFrame wurde auf den Zeitraum von 2020 bis 2024 eingeschränkt, sodass ausschließlich relevante Daten berücksichtigt werden."
   ]
  },
  {
   "cell_type": "code",
   "execution_count": null,
   "metadata": {},
   "outputs": [],
   "source": [
    "# Check for missing values\n",
    "print(df_hourly.isnull().sum())\n",
    "print(df_hourly.notnull().sum())\n",
    "\n",
    "# Doppelungen DateTime (28 Einträge; 14 Doppelungen)\n",
    "df_check = df_hourly.groupby('DateTime').size()\n",
    "duplicates = df_check[df_check > 1]\n",
    "duplicates_df = df_hourly[df_hourly['DateTime'].isin(duplicates.index)]\n",
    "duplicates_df.shape\n",
    "\n",
    "# Doppelungen der DateTime bereinigen \n",
    "df_hourly = df_hourly.groupby('DateTime').mean().reset_index()\n",
    "df_hourly\n"
   ]
  },
  {
   "cell_type": "markdown",
   "metadata": {},
   "source": [
    "d) Erzeugen Sie aus df_hourly einen weiteren DataFrame namens df_daily, der in jeder Zeile die erzeugte elektrische Energie mit erneuerbaren und nicht erneuerbaren Energieträgern sowie an diesem Tag durchschnittlich gemessenen Börsenstrompreis enthält."
   ]
  },
  {
   "cell_type": "markdown",
   "metadata": {},
   "source": [
    "Um die Aufgabenstellung zu erfüllen, erstellen wir aus df_hourly einen neuen DataFrame df_daily, der die tägliche Summe der erzeugten erneuerbaren Energie und die tägliche Summe der nicht erneuerbaren Energie sowie den durchschnittlichen Börsenstrompreis enthält.\n",
    "\n",
    "Um die Orginaldaten nicht zu verändern, erstellen wir zuerst eine Kopie des df_hourly.\n",
    "Anschließend wird das Datum ohne Uhrzeit aus der DateTime-Spalte extrahiert und in einer neuen Spalte Datum gespeichert, um eine Gruppierung auf Tagesebene zu ermöglichen.\n",
    "\n",
    "Abschließend führen wir die Aggregationen über einen left-Join auf der Spalte Datum zusammen, wobei der Index zurückgesetzt wird.\n",
    "\n",
    "Die Spalte Datum überführen wir anschließend wieder in das datetime-Format zurück, um weiterhin zeitbezogenen Berechnungen und Filterungen durchführen zu können."
   ]
  },
  {
   "cell_type": "code",
   "execution_count": null,
   "metadata": {},
   "outputs": [],
   "source": [
    "# https://pandas.pydata.org/pandas-docs/stable/user_guide/indexing.html#returning-a-view-versus-a-copy\n",
    "df_daily = df_hourly.copy()\n",
    "\n",
    "# Create column \"Date\" from column \"DateTime\"\n",
    "df_daily['Datum'] = df_daily['DateTime'].dt.date\n",
    "# Grouping by the date without time\n",
    "df_power = df_daily.groupby('Datum')[['Leistung nicht erneuerbar (MW)', 'Leistung erneuerbar (MW)' ]].sum()\n",
    "\n",
    "df_mean = df_daily.groupby('Datum')['Day Ahead Auktion Preis (EUR/MWh)'].mean().reset_index()\n",
    "\n",
    "df_daily = pd.merge(df_power, df_mean, on='Datum', how='left')\n",
    "\n",
    "# Change Datum again to datetime format\n",
    "df_daily['Datum'] = pd.to_datetime(df_daily['Datum'])\n",
    "\n",
    "df_daily\n"
   ]
  },
  {
   "cell_type": "markdown",
   "metadata": {},
   "source": [
    "### Aufgabe 2 (Explorative Analyse der Stromerzeugungs- und Preisdaten)\n",
    "<a id = \"aufgabe2\"></a>\n",
    "\n",
    "[Zurück zum Inhaltsverzeichnis](#inhaltsverzeichnis)\n",
    "\n",
    "\n",
    "a) An welchen 10 Tagen im Betrachtungszeitraum wurde am meisten Strom aus erneuerbaren Energieträgern erzeugt?"
   ]
  },
  {
   "cell_type": "markdown",
   "metadata": {},
   "source": [
    "Um die 10 Tage mit der höchsten Stromerzeugung aus erneuerbaren Energieträgern im Betrachtungszeitraum zu ermitteln, sortieren wir den DataFrame df_daily nach der Spalte \"Leistung erneuerbar (MW)\" in absteigender Reihenfolge. Dadurch erscheinen die Tage mit den höchsten Werten an der Spitze.\n",
    "\n",
    "Anschließend verwenden wir die Methode .head(10), um die ersten zehn Zeilen des sortierten DataFrames auszuwählen. Diese enthalten die Tage mit der höchsten Stromerzeugung aus erneuerbarer Energie."
   ]
  },
  {
   "cell_type": "markdown",
   "metadata": {},
   "source": [
    "Sichtbar wird dabei, dass die 10 Tage mit der höchsten Stromerzeugung aus erneuerbaren Energien in Deutschland in die Wintermonate fallen. \n",
    "Eine mögliche Erklärung liefert die Zusammensetzung der erneuerbaren Energieträger in Deutschland. \n",
    "Die Windkraft ist hierbei die stärkste Quelle der erneuerbaren Energieträgern.\n",
    "https://www.umweltbundesamt.de/themen/klima-energie/erneuerbare-energien/erneuerbare-energien-in-zahlen#waerme\n",
    "\n",
    "Im Winter sind die Winde aufgrund größerer Temperatur- und Druckunterschiede besonders stark, was zu einer hohen Auslastung der Windkraftanlagen führt.\n",
    "https://klimavest.de/de/wissen/blog/winterzeit-ist-windzeit/#:~:text=Windenergie%20erklärt,auch%20der%20Ertrag%20der%20Photovoltaikanlagen\n",
    "\n",
    "Unsere weiterführende Überlegung ist dann, dass es sich bei den Tagen mit expliziten Höchstwerten um Sturmereignisse in Deutschland handelt. \n",
    "Tatsächlich lässt sich feststellen, dass für alle diese Daten starke Stürme über Deutschland gezogen sind. \n",
    "\n",
    "\n",
    "Die beiden höchsten Tage sind der 05.06.2024 und der 06.02.2024, wo es ein Sturmtief in der Nordhälfe Deutschlands gab.\n",
    "https://www.tagesschau.de/wetter/wetterthema/2024-02-05-windspitzen-102.html\n",
    "\n",
    "24.1.24: Sturm Jitka \n",
    "https://www.dwd.de/DE/wetter/thema_des_tages/2024/1/25.html#:~:text=Mit%20Sturmtief%20JITKA%20schwang%20sich,Kern%20%C3%BCber%20der%20Norwegischen%20See\n",
    "\n",
    "Allgemein war der Februar 2024 ein Rekordmonat der Windenergiegewinnung.\n",
    "https://www.ingenieur.de/technik/fachbereiche/energie/windkraft-in-deutschland-2024-ein-rekordjahr-im-ueberblick/\n",
    "https://www.agora-energiewende.de/daten-tools/agorameter-update-der-deutsche-strommix-im-februar-2024\n",
    "\n",
    "21.12.23 und 22.12.23 und 29.12.23: Orkantief Zoltan\n",
    "https://www.tagesschau.de/inland/gesellschaft/sturmtief-zoltan-auswirkungen-100.html\n",
    "https://t3n.de/news/sturmtief-zoltan-rekordwerte-windenergiegewinnung-1598472/\n",
    "\n",
    "21.12.23 Höchstwert Stormerzeugung Windenergie 2023\n",
    "https://www.ingenieur.de/technik/fachbereiche/energie/windenergie-energiequelle-des-jahres/\n",
    "\n",
    "07.04.2022: Sturmtief Nasim\n",
    "https://www.merkur.de/deutschland/dwd-prognose-april-unwetter-deutschland-sturmtief-nasim-wind-sturm-zr-91463248.html\n",
    "17.02.2022: \n",
    "https://www.dwd.de/DE/wetter/thema_des_tages/2022/2/17.html\n",
    "\n",
    "11.02.2020 Orkantief Sabine\n",
    "\n",
    "https://www.stern.de/panorama/wetter/sturmtief--sabine---60-prozent-sturmstrom---sabine--treibt-produktion-von-windenergie-kraeftig-an-9126944.html\n",
    "\n"
   ]
  },
  {
   "cell_type": "code",
   "execution_count": null,
   "metadata": {},
   "outputs": [],
   "source": [
    "ten_highest_days = df_daily.sort_values(by = 'Leistung erneuerbar (MW)', ascending=False).head(10)\n",
    "ten_highest_days"
   ]
  },
  {
   "cell_type": "markdown",
   "metadata": {},
   "source": [
    "b) An welchem Tag im Betrachtungszeitraum wurde der höchste Börsenstrompreis verzeichnet und wie hoch war er? An welchem Tag wurde der geringste Preis verzeichnet und wie hoch war er?"
   ]
  },
  {
   "cell_type": "markdown",
   "metadata": {},
   "source": [
    "Zur Ausgabe des Tages mit dem höchsten Börsenstrompreis und des Tages mit dem niedrigsten Börsenstrompreis verwenden wir die max() und min() Methode über die Spalte \"Day Ahead Auktion Preis (EUR/MWh)\". Anschließend haben wir den dazugehörigen Tag ermittelt. Zur intuitiveren Ausgabe extrahieren wir aus der DateTime nur das Datum ohne die Uhrzeit. Für die Ausgabe der Börsenstrompreise runden wir auf 2 Nachkommastellen."
   ]
  },
  {
   "cell_type": "code",
   "execution_count": null,
   "metadata": {},
   "outputs": [],
   "source": [
    "highest_price = df_daily['Day Ahead Auktion Preis (EUR/MWh)'].max()\n",
    "date_highest_price = df_daily[df_daily['Day Ahead Auktion Preis (EUR/MWh)'] == highest_price]\n",
    "\n",
    "print(\"Tag mit dem höchsten Börsenstrompreis: \" , date_highest_price['Datum'].dt.date.iloc[0])\n",
    "print(\"Höchster Börsenstrompreis: \", round(highest_price, 2))\n",
    "\n",
    "lowest_price = df_daily['Day Ahead Auktion Preis (EUR/MWh)'].min()\n",
    "date_lowest_price = (df_daily.loc[df_daily['Day Ahead Auktion Preis (EUR/MWh)'] == lowest_price])\n",
    "print(\"Tag mit dem niedrigsten Börsenstrompreis: \", date_lowest_price['Datum'].dt.date.iloc[0])\n",
    "print(\"Niedrigster Börsenstrompreis: \", round(lowest_price, 2))\n"
   ]
  },
  {
   "cell_type": "code",
   "execution_count": null,
   "metadata": {},
   "outputs": [],
   "source": [
    "df_day_highest_and_lowest_price = df_daily[(df_daily['Datum'] == '2023-07-02') | (df_daily['Datum'] == '2022-08-26')]\n",
    "df_day_highest_and_lowest_price"
   ]
  },
  {
   "cell_type": "markdown",
   "metadata": {},
   "source": [
    "Zum besseren Verständis haben wir uns grundlegend über das Zustandekommen des Börsenstrompreis informiert. Bei dem Day-Ahead-Markt wird Strom gehandelt, der am nächsten Tag geliefert wird. Händler geben hierbei an der Börse ihre Gebote auf der Grundlage von Prognosen für die Stromnachfrage und die verfügbaren Energieerzeugung ab. \n",
    "https://www.rabot.energy/magazin/boersenstrompreis/\n",
    "\n",
    "Die günstige Erzeugung der Energie hat dabei Vorrang. Preise reflektieren hiermit die Erzeugungskosten, also die Grenzkosten einer Stromeinheit.\n",
    "Wenn der gesamte Strombedarf gedeckt ist steht der Preis fest. Ausschlaggebend ist die Anlage mit den höchsten Grenzkosten, die noch Strom einspeist.\n",
    "Nicht erneuerbare wie Kohne oder Gas haben höhere Grenzkosten.\n",
    "https://www.smard.de/page/home/wiki-article/446/384\n",
    "\n",
    "Mit erneuerbaren Energien gibt es günstigere Preise aber auch höhere Schwankungen auf dem Strommarkt, da die diese Energieträger von externen Einflüssen abhängen. \n",
    "https://www.mdr.de/wissen/umwelt-klima/so-veraendern-eneuerbare-energien-den-Strommarkt100.html\n",
    "\n",
    "\n",
    "Niedrige Börsenstrompreise entstehen, wenn das Stromangebot durch z.B. erneuerbare Energiequellen die Nachfrage übersteigt. \n",
    "https://www.rabot.energy/magazin/boersenstrompreis/\n",
    "\n",
    "\n",
    "Der niedrigste durchschnittliche Börsenstrompreis pro Tag war am 02.07.2023 mit -53,87 EUR/MWh. Grund für den niedrigen Preis war ein hohes Angebot an Solar- und Windenergie, sowie ein geringer Stromverbrauch am Wochenende. \n",
    "\n",
    "https://www.next-kraftwerke.de/energie-blog/energiemonat-juli-2023\n",
    "ttps://de.statista.com/statistik/daten/studie/1536358/umfrage/niedrigste-strompreise-am-epex-spotmarkt-in-deutschland/\n",
    "\n",
    "\n",
    "Der höchste durschnittliche Börsenstrompreis pro Tag war am 26.08.2022 mit 699,44 EUR/MWh. Hintergrund war die Energiekrise 2022 durch den Angriffskrieg Russlands gegen die Ukraine und die damit verbundenen Engpässe, Unsicherheiten und Preissteigerungen. Im Lauf des Jahres 2022 wurde als Reaktion auf die Sanktionen immer weniger Gas von Russland nach Deutschland exportiert, wobei am 31.08.2022 endgültiger Stopp war, was zu einem Anstieg der Preise für Gas führte. \n",
    "https://www.eon.com/de/innovation/zukunft-der-energie/leben-und-kommunen/wie-sich-der-ukraine-krieg-auf-die-energiepreise-auswirkt.html\n",
    "https://de.statista.com/statistik/daten/studie/1316029/umfrage/russischer-gasexport-nach-deutschland-auf-tagesbasis/#:~:text=Zwischen%20dem%2011.07\n",
    "\n",
    "\n",
    "Am 26.08.22 erreichte der Gaspreis den Höchstand, was unter anderem den hohen Börsenstrompreis erklärt.\n",
    "https://www.ffe.de/veroeffentlichungen/veraenderungen-der-merit-order-und-deren-auswirkungen-auf-den-strompreis/\n",
    "\n"
   ]
  },
  {
   "cell_type": "markdown",
   "metadata": {},
   "source": [
    "Zur Verdeutlichung der Energiekrise 2022 visualisieren wir ebenfalls den mittleren Börsenstrompreis pro Tag für den Zeitraum 2020-2024. Deutlich sichtbar wird hierbei der starke Anstieg Ende 2021 bis Ende 2022, sowie einige extreme Preisspitzen. "
   ]
  },
  {
   "cell_type": "code",
   "execution_count": null,
   "metadata": {},
   "outputs": [],
   "source": [
    "# \"Line chart to show the distribution of prices per day for the observation period\n",
    "\n",
    "plt.figure(figsize=(15, 6))\n",
    "plt.plot(df_daily['Datum'], df_daily['Day Ahead Auktion Preis (EUR/MWh)'], color = 'blue')\n",
    "plt.xlabel('Betrachtungszeitrum (2020-2024)')\n",
    "plt.ylabel('Mittlerer Börsenstrompreise in €/MWH pro Tag')\n",
    "plt.title('Mittlerer Börsenstrompreis pro Tag für 2020-2024')\n",
    "plt.show()"
   ]
  },
  {
   "cell_type": "markdown",
   "metadata": {},
   "source": [
    "c) Wie viele Tagen gab es im Betrachtungszeitraum 2020-2024, an denen ein negativer Börsenstrompreis aufgetreten ist?"
   ]
  },
  {
   "cell_type": "markdown",
   "metadata": {},
   "source": [
    "Zur Analyse der Tage, welche einen negativen Börsenstrompreis aufweisen, geben wir alle Zeilen aus die einen Börsenstrompreis pro Tag kleienr 0 haben. Im Betrachtungszeitraum ist das an 13 Tagen der Fall gewesen. Auf den 07.02.2022 wurde schon in Aufgabe 2 b) eingegangen.\n",
    "Wie in Aufgabe 2b) beschrieben kommt es zu negativen Börsenstrompreisen, wenn durch z.B. erneuerbare Energiequellen die Nachfrage übersteigt. \n",
    "Sichtbar wird hier, dass an diesen Tagen die Leistung der erneuerbarer Energieträger sehr stark war und die Leistung aus nicht erneuerbaren Energieträgern relativ niedrig war.\n"
   ]
  },
  {
   "cell_type": "code",
   "execution_count": null,
   "metadata": {},
   "outputs": [],
   "source": [
    "negative_price_df = df_daily[df_daily['Day Ahead Auktion Preis (EUR/MWh)'] < 0]\n",
    "negative_price_day_count = negative_price_df['Day Ahead Auktion Preis (EUR/MWh)'].count()\n",
    "print(\"Anzahl der Tage mit einem negativen Börsenstrompreis: \", negative_price_day_count)\n",
    "negative_price_df\n"
   ]
  },
  {
   "cell_type": "markdown",
   "metadata": {},
   "source": [
    "d) Wie viel Strom wurde pro Jahr mit erneuerbaren und mit nicht erneuerbaren Energieträgern erzeugt?"
   ]
  },
  {
   "cell_type": "markdown",
   "metadata": {},
   "source": [
    "Um den den erzeugten Strom pro Jahr zu analysieren extrahieren wir das Jahr als eigene Spalte, da wir das Jahr als eigene Spalte für weitere Analysezwecke für sinnvoll halten. \n",
    "Anschließend gruppieren nach Jahr und aggregieren die Leistung der erneuerbaren und nicht erneuerbaren Energieträgern als Summe pro Jahr. Zur anschaulicheren Ausgabe rechnen wir die Leistung in Gigawatt um und runden auf 2 Nachkommastellen.\n",
    "\n",
    "Zur besseren Einordnung berechnen wir noch die Summe der gesamten erzeugten Stroms in GW und stellen dann den Anteil der erneuerbaren und den Anteil der nicht erneuerbaren an der Gesamtleistung in Prozent dar. \n",
    "\n",
    "Sichtbar wird ein Anstieg der Leistung aus erneuerbaren Energieträgern und ein Rückgang der Leistung aus nicht erneuerbaren Energieträgern.\n",
    "Diese Ergebnisse spiegeln den aktuellen Strommix in Deutschland wieder, wobei rund die Hälfte des Stroms schon aus erneuerbaren Energiequellen stammt. \n",
    "https://www.ndr.de/nachrichten/info/Strommix-Deutschland-Wie-ist-der-Anteil-erneuerbarer-Energien,strommix102.html\n",
    "\n",
    "Es fällt deutlich auf dass es von 2020 nach 2021 einen leichten Anstieg der nicht erneuerbaren Energieträger gibt und einen leichten Abfall der erneuerbaren Energiequellen. Seit 2021 ist aber der Trend zu erkennen, dass die nicht erneuerbaren zurückgehen und die erneuerbaren ansteigen.\n"
   ]
  },
  {
   "cell_type": "code",
   "execution_count": null,
   "metadata": {},
   "outputs": [],
   "source": [
    "#https://pandas.pydata.org/docs/reference/api/pandas.Series.dt.year.html#pandas.Series.dt.year\n",
    "df_daily['Jahr'] = df_daily['Datum'].dt.year\n",
    "# convert year to int for better indexing later on\n",
    "df_daily['Jahr'] = df_daily['Jahr'].astype(int)\n",
    "\n",
    "df_year_power = df_daily.groupby('Jahr')[['Leistung nicht erneuerbar (MW)', 'Leistung erneuerbar (MW)']].sum()\n",
    "\n",
    "#Convert from megawatts (MW) to gigawatts (GW)\n",
    "\n",
    "df_year_power['Leistung nicht erneuerbar (GW)'] = (df_year_power['Leistung nicht erneuerbar (MW)']/1000).round(2)\n",
    "df_year_power['Leistung erneuerbar (GW)'] = (df_year_power['Leistung erneuerbar (MW)']/1000).round(2)\n",
    "df_year_power\n",
    "\n",
    "\n",
    "# Prozentuale Darstellung des Anteils der erneuerbaren Energie am gesamten erzeugten Strom\n",
    "\n",
    "df_year_power['Summe erzeugter Strom in GW'] = df_year_power['Leistung erneuerbar (GW)'] + df_year_power['Leistung nicht erneuerbar (GW)']\n",
    "\n",
    "df_year_power['Anteil erneuerbar an Gesamtleistung in %'] = ((df_year_power['Leistung erneuerbar (GW)'] / df_year_power['Summe erzeugter Strom in GW']) * 100).round(2)\n",
    "df_year_power['Anteil nicht erneuerbar an Gesamtleistung in %'] = 100 - df_year_power['Anteil erneuerbar an Gesamtleistung in %']\n",
    "\n",
    "df_year_power\n",
    "\n"
   ]
  },
  {
   "cell_type": "markdown",
   "metadata": {},
   "source": [
    "## Aufgabe 3 (Weiterführende Analyse der Stromerzeugung- und Preisdaten)\n",
    "<a id = \"aufgabe3\"></a>\n",
    "\n",
    "\n",
    "[Zurück zum Inhaltsverzeichnis](#inhaltsverzeichnis)\n"
   ]
  },
  {
   "cell_type": "markdown",
   "metadata": {},
   "source": [
    "a) Visualisieren Sie in geeigneten Diagrammen die Verteilung der Börsenstrompreise (insgesamt und pro Jahr).\n"
   ]
  },
  {
   "cell_type": "markdown",
   "metadata": {},
   "source": [
    "Zur Visualisierung der Verteilung der Börsenstrompreise über den gesamten Betrachtungszeitraum haben wir uns für ein Histogramm entschieden, da dieses gut geeignet ist darzustellen, wie häufig gewisse Börsenstrompreise in verschiedenen Preisspannen auftreten. \n",
    "\n",
    "Zur anschaulicheren Unterteilung wählen wir die Intervalle manuell mit einem Abstand von 50 Euro. Die Analyse des Histogramms zeigt hierbei, dass ein Großteil der Börsenstrompreise zwischen 0 und 100 Euro pro MWh liegen.\n",
    "Preise über 200 Euro pro MWh kommen deutlich seltener vor. Vereinzelte Extremwerte liegen zwischen -100 und -50 und ab 400 bis zum maximalen Börsenstrompreis. \n",
    "\n",
    "Die Verteilunng ist rechtsschief. Das bedeutet, dass sich die meisten Börsenstrompreise auf den niedrigen Bereich von 0 bis 100 Euro pro MWh konzentrieren. \n"
   ]
  },
  {
   "cell_type": "code",
   "execution_count": null,
   "metadata": {},
   "outputs": [],
   "source": [
    "x= df_daily['Day Ahead Auktion Preis (EUR/MWh)']\n",
    "plt.figure(figsize=(15, 6))\n",
    "\n",
    "intervalle = [-100, -50, 0, 50, 100, 150, 200, 250, 300, 350, 400, 450, 500, 550, 600, 650, 700]\n",
    "plt.hist(x, bins=intervalle , edgecolor='k')\n",
    "\n",
    "plt.title('Verteilung der mittleren Börsenstrompreise pro Tag von 2020-2024')\n",
    "plt.ylabel('Anzahl')\n",
    "plt.xlabel('Mittlerer Börsenstrompreis in EUR/MWh')\n",
    "\n",
    "plt.xticks(intervalle)\n",
    "\n",
    "plt.show()\n"
   ]
  },
  {
   "cell_type": "markdown",
   "metadata": {},
   "source": [
    "Zur Visualisierung der Verteilung der Börsenstrompreise pro Jahr wird ein Boxplot verwendet, da dieser einen übersichtlichen Vergleich zwischen den Jahren und den statistischen Kenngrößen ermöglicht.\n",
    "\n",
    "Die Analyse zeigt, dass der Median der Strompreise im Jahr 2022 stark über dem Niveau der anderen Jahre liegt, was die Auswirkungen der Energiekrise 2022 verdeutlicht. Der Median der übrigen Jahre unterscheidet sich nur geringfügig. Auffällig ist zudem, dass das Maximum im Jahr 2022 signifikant über den Höchstwerten der anderen Jahre liegt. Der Interquartilsabstand (IQR) ist im Jahr 2022 deutlich größer, was auf eine stärkere Streuung der mittleren Börsenstrompreise in diesem Zeitraum hinweist.\n",
    "\n",
    "Nach 2022 ist eine Rückkehr der Strompreise auf das Niveau der Jahre 2020 und 2021 erkennbar, was auf eine Marktstabilisierung hindeutet.\n",
    "\n",
    "Ein weiterer Aspekt sind die Ausreißer: Während 2021 und 2024 vermehrt Ausreißer nach oben aufweisen, treten 2020 und 2023 vermehrt Ausreißer nach unten auf."
   ]
  },
  {
   "cell_type": "code",
   "execution_count": null,
   "metadata": {},
   "outputs": [],
   "source": [
    "df_daily.boxplot(column = 'Day Ahead Auktion Preis (EUR/MWh)', by = 'Jahr', grid = False, figsize = (15,6))\n",
    "\n",
    "plt.ylabel(\"Börsenstrompreis EUR/MWh\")\n",
    "plt.title('Verteilung der täglichen mittleren Börsenstrompreise pro Jahr')\n",
    "plt.suptitle('')\n",
    "plt.show()\n"
   ]
  },
  {
   "cell_type": "markdown",
   "metadata": {},
   "source": [
    "b) Berechnen Sie bezogen auf die einzelnen Jahre des Betrachtungszeitraums verschiedene statistische Kenngrößen für den Börsenstrompreis."
   ]
  },
  {
   "cell_type": "markdown",
   "metadata": {},
   "source": [
    "Zur Berechnung statistischer Kenngrößen pro Jahr für den Börsenstrompreis gruppieren wir den DataFrame nach dem Jahr und verwenden dann die Methode .describe(), wobei für jedes Jahr die Anzahl, der Mittelwert, die Standardabweichung, das Minimum, das Maximum, das 25% Quartil, das 50% Quartil (der Median) und das 70% Quartil berechnet werden. \n",
    "\n",
    "Wir erkennnen das Maximum und das Minimum des DataFrames aus der Aufgabe 2b).\n",
    "Die Anzahl zeigt, dass es sich bei den Jahren 2020 und 2024 um Schaltjahre handelt, was wir bei der weiteren Analyse berücksichtigen werden. \n",
    "Der im Boxplot zuvor erkennbare Median wird hier als genauer Wert sichtbar. Im Vergleich zu 2021 und 2022 ist dieser im Jarh 2022 mehr als doppelt so hoch. Ein ähnliches Verhalten zeigt sich beim Mittelwert für 2022. Die Standardabweichung für das Jahr 2022 ist im Vergleich zu den anderen Jahren ebenso signifikant höher, was die Auswirkungen der Energiekrise wiederspiegelt. Wir erkennen, dass die Streuung in den anderen Jahren deutlich geringer ist, was auf einen stabileren Börsenstrompreis hindeutet. \n",
    "Auffällig ist die vorallem die geringe Standardabweichung im Jahr 2020, was auf einen stabileren Börsenstrompreis in diesem Jahr hindeutet. \n"
   ]
  },
  {
   "cell_type": "code",
   "execution_count": null,
   "metadata": {},
   "outputs": [],
   "source": [
    "df_year_statistics = df_daily.groupby('Jahr')['Day Ahead Auktion Preis (EUR/MWh)']\n",
    "df_year_statistics.describe()\n"
   ]
  },
  {
   "cell_type": "markdown",
   "metadata": {},
   "source": [
    "c) Visualisieren Sie in einem Säulendiagramm die mittleren Börsenstrompreise pro Monat des Betrachtungszeitraums."
   ]
  },
  {
   "cell_type": "markdown",
   "metadata": {},
   "source": [
    "Zur Visualisierung des mittleren Börsenstrompreises pro Monat erzeugen wir aus der DateTime Spalte eine Spalte mit dem Monat. Anschließend gruppieren wir nach Jahr und Monat, um den Börsenstrompreis über den gesamten Betrachtungszeitraum im Laufe der Zeit zu visualisieren. \n",
    "Das Säulendiagramm spiegelt die Erkenntnisse aus den vorherigen Teilaufgaben anschaulich wieder."
   ]
  },
  {
   "cell_type": "code",
   "execution_count": null,
   "metadata": {},
   "outputs": [],
   "source": [
    "df_daily['Monat'] = df_daily['Datum'].dt.month\n",
    "# converting string to int \n",
    "df_daily['Monat'] = df_daily['Monat'].astype(int)\n",
    "\n",
    "df_year_monthly = df_daily.groupby(['Monat'])['Day Ahead Auktion Preis (EUR/MWh)'].mean()\n",
    "\n",
    "df_year_monthly.plot(kind = 'bar',figsize=(10, 6))\n",
    "\n",
    "plt.ylim(0,200)\n",
    "plt.xticks(rotation=0)\n",
    "\n",
    "plt.title('Mittlerer Börsenstrompreis pro Monat von 2020-2024')\n",
    "plt.ylabel('Mittlerer Börsenstrompreis in EUR/MWh')\n",
    "\n",
    "plt.show()"
   ]
  },
  {
   "cell_type": "code",
   "execution_count": null,
   "metadata": {},
   "outputs": [],
   "source": [
    "df_daily.boxplot(column = 'Day Ahead Auktion Preis (EUR/MWh)', by = 'Monat', grid = False, figsize = (15,6))\n",
    "\n",
    "plt.ylabel(\"Börsenstrompreis EUR/MWh\")\n",
    "plt.xlabel('Monate')\n",
    "plt.title('Verteilung der täglichen mittleren Börsenstrompreise pro Monat')\n",
    "# Entfernt den Titel, der durch \"by\" gesetzt wird\n",
    "plt.suptitle('')\n",
    "plt.show()\n"
   ]
  },
  {
   "cell_type": "markdown",
   "metadata": {},
   "source": [
    "d) Visualisieren Sie die stündlichen Börsenstrompreise in einem interaktiven Liniendiagramm in Plotly. Versehen Sie dieses mit einem Range-Selektor und einem Range-Slider. Analysieren Sie auf der Basis der Ergebnisse der Teilaufgaben a)-d) die wesentlichen Entwicklungen und Trends der Börsenstrompreise im Betrachtungszeitraum 2020-2024."
   ]
  },
  {
   "cell_type": "code",
   "execution_count": null,
   "metadata": {},
   "outputs": [],
   "source": [
    "# https://plotly.com/python/range-slider/\n",
    "\n",
    "fig = go.Figure()\n",
    "fig.add_trace(go.Scatter \n",
    "              (x = df_hourly['DateTime'],\n",
    "              y = df_hourly['Day Ahead Auktion Preis (EUR/MWh)'],\n",
    "              mode = 'lines'))\n",
    "\n",
    "\n",
    "fig.update_layout(\n",
    "    \n",
    "    title_text=\"Stündlicher Börsenstrompreis von 2020-2024\",\n",
    "    ## Disables automatic scaling\n",
    "    autosize=False, \n",
    "    width=1400,      \n",
    "    height=500,\n",
    "    yaxis_title= \"Börsenstrompreis EUR/MWh\",\n",
    "    xaxis_title = \"Datum und Uhrzeit\",\n",
    "    \n",
    "    \n",
    "    xaxis=dict(\n",
    "        rangeselector=dict(\n",
    "            buttons=list([\n",
    "                dict(step='all', label= 'Gesamt'),\n",
    "                dict(count=1,\n",
    "                     label=\"letzter Monat\",\n",
    "                     step=\"month\",\n",
    "                     stepmode=\"backward\"),\n",
    "                dict(count=6,\n",
    "                     label=\"letzten 6 Monate\",\n",
    "                     step=\"month\",\n",
    "                     stepmode=\"backward\"),\n",
    "                dict(count=1,\n",
    "                     label=\"letztes Jahr\",\n",
    "                     step=\"year\",\n",
    "                     stepmode=\"backward\"),              \n",
    "            ])\n",
    "        ),\n",
    "        rangeslider=dict(\n",
    "            visible=True\n",
    "        ),\n",
    "        \n",
    "        type=\"date\"\n",
    "    ), \n",
    "    \n",
    "    # https://plotly.com/python/dropdowns/  \n",
    "\n",
    "    updatemenus = [\n",
    "        dict(\n",
    "            buttons = [\n",
    "                \n",
    "                dict(label= 'Alle Jahre', method ='relayout', args=[{\"xaxis.range\": [\"2020-01-01 00:00:00\", \"2024-12-31 23:00:00\"]}]),\n",
    "                dict(label=\"2020\",\n",
    "                    method=\"relayout\",\n",
    "                    args=[{\"xaxis.range\": [\"2020-01-01 00:00:00\", \"2020-12-31 23:00:00\"]}]),\n",
    "                dict(label=\"2021\",\n",
    "                    method=\"relayout\",\n",
    "                    args=[{\"xaxis.range\": [\"2021-01-01 00:00:00\", \"2021-12-31 23:00:00\"]}]),\n",
    "                dict(label=\"2022\",\n",
    "                    method=\"relayout\",\n",
    "                    args=[{\"xaxis.range\": [\"2022-01-01 00:00:00\", \"2022-12-31 23:00:00\"]}]),\n",
    "                dict(label=\"2023\",\n",
    "                    method=\"relayout\",\n",
    "                    args=[{\"xaxis.range\": [\"2023-01-01 00:00:00\", \"2023-12-31 23:00:00\"]}]),\n",
    "                dict(label=\"2024\",\n",
    "                    method=\"relayout\",\n",
    "                    args=[{\"xaxis.range\": [\"2024-01-01 00:00:00\", \"2024-12-31 23:00:00\"]}]),\n",
    "            ],\n",
    "            \n",
    "            x=1.04,\n",
    "            xanchor='left',\n",
    "            y=1,  \n",
    "            yanchor='top'\n",
    "            \n",
    "            \n",
    "            \n",
    "        )\n",
    "    ] \n",
    "     \n",
    ")\n",
    "fig.show()"
   ]
  },
  {
   "cell_type": "markdown",
   "metadata": {},
   "source": [
    "e) Berechnen und visualisieren Sie die im Mittel mit erneuerbaren Energieträgern erzeugten Energie im Tagesverlauf, indem Sie auf die vollen Stunden eines Tages aggregieren."
   ]
  },
  {
   "cell_type": "markdown",
   "metadata": {},
   "source": [
    "Grundlage für die visualisierung der im Mittel mit erneuerbaren Energieträgern erzeugten Energie im Tagesverlauf ist der Dataframe df_hourly. Zur weiteren Analyse extrahieren wir anschließend aus der Spalte \"DateTime\" die Uhrzeit, sowie den Monat. Um die mittlere stündliche Leistung zu berechnen, gruppieren wir die Daten nach der Uhrzeit und ermitteln den Mittelwert der Leistung der erneuerbaren Energieträger in MW für jede Stunde des Tages. Anschließend visualisieren wir die Ergebnisse in einem Liniendiagramm, um den Verlauf über einen Tag hinweg am besten darzustellen. Die x-Achse repräsentiert dabei die Stunden eines Tages und die y-Achse die mittlere erzeugte Leistung aus erneuerbaren Energieträgern.\n",
    "\n",
    "Wir erkennen, dass sich nachts die erzeugte erneuerbare Energie auf einem relativ konstanten Niveau befindet. Tagsüber ab 8:00 Uhr steigt die Leistung stark an und erreicht zwischen 12:00 und 13:00 das Maximum. Anschließend nimmt die Leistung der erneuerbaren Energieträgern wieder ab. Dies spiegelt den Himmelsstand der Sonne wieder und zeigt den Einfluss, den Photovoltaikanlagen haben. \n",
    "\n",
    "Auf Basis der bisherigen Erkenntnisse möchten wir genauer untersuchen, wie sich der Tagesverlauf der erneuerbaren Energieerzeugung zwischen Sommer- und Wintermonaten unterscheidet. Da die Intensität der Sonnenstrahlung im Winter geringer ist erwarten wir deutliche Unterschiede im Tagesverlauf der Leistung der erneuerbaren Energieträgern.\n",
    "Wir unterteilen dafür unseren Dataframe in Sommermonate (Juni, Juli, August) und Wintermonate (Januar, Februar, Dezember).\n",
    "\n",
    "Es zeigt sich, dass im Tagesverlauf der Wintermonate die Leistung der erneuerbaren Energieträger kaum schwankt und nur einen leichten Anstieg in der Mitte des Tages aufweist. Im Gegensatz dazu zeigt die Leistung der erneuerbaren Energieträger im Sommer einen deutlichen stärkeren Anstieg und ebenso starken Abstieg im Laufe des Tages.\n",
    "\n",
    "Diese Erkenntnis verdeutlicht den deutschen Stormmix aus erneuerbaren Energiequellen. So liefern Windräder im Winter mehr Strom als im Sommer, wobei die Leistung der Windkraft im Tagesverlauf konstanter ist. Die erneuerbare Energie im Sommer schwankt deutlich abhängig von dem Stand der Sonne im Tagesverlauf. \n",
    "https://www.ndr.de/nachrichten/info/Strommix-Deutschland-Wie-ist-der-Anteil-erneuerbarer-Energien,strommix102.html\n"
   ]
  },
  {
   "cell_type": "code",
   "execution_count": null,
   "metadata": {},
   "outputs": [],
   "source": [
    "df_hourly_month_and_time = df_hourly.copy()\n",
    "df_hourly_month_and_time['Monat'] = df_hourly_month_and_time['DateTime'].dt.month\n",
    "df_hourly_month_and_time['Uhrzeit'] = df_hourly_month_and_time['DateTime'].dt.hour\n",
    "\n",
    "df_hourly_mean= df_hourly_month_and_time.groupby('Uhrzeit')['Leistung erneuerbar (MW)'].mean().reset_index()\n",
    "\n",
    "\n",
    "plt.figure(figsize=(15, 6))\n",
    "plt.plot(df_hourly_mean['Uhrzeit'], df_hourly_mean['Leistung erneuerbar (MW)'], color = 'green')\n",
    "plt.xlabel('Uhrzeit')\n",
    "plt.ylabel('Mittlere erzeugte Leistung in der Stunde (MW)')\n",
    "plt.title('Durchschnittlicher Tagesverlauf erneuerbarer Energie')\n",
    "\n",
    "\n",
    "time = [\"00:00\", \"01:00\", \"02:00\", \"03:00\", \"04:00\", \"05:00\", \"06:00\", \"07:00\", \"08:00\", \n",
    "    \"09:00\", \"10:00\", \"11:00\", \"12:00\", \"13:00\", \"14:00\", \"15:00\", \"16:00\", \"17:00\", \n",
    "    \"18:00\", \"19:00\", \"20:00\", \"21:00\", \"22:00\", \"23:00\"]\n",
    "\n",
    "# https://queirozf.com/entries/matplotlib-examples-number-formatting-for-axes-labels\n",
    "\n",
    "plt.gca().set_xticks([0,1,2,3,4,5,6,7,8,9,10,11,12,13,14,15,16,17,18,19,20,21,22,23])\n",
    "plt.gca().set_xticklabels(time)\n",
    "\n",
    "\n",
    "# einheitliche y-Achse\n",
    "plt.ylim(0,50000)\n",
    "\n",
    "plt.show()\n"
   ]
  },
  {
   "cell_type": "code",
   "execution_count": null,
   "metadata": {},
   "outputs": [],
   "source": [
    "\n",
    "# Sommermonate Juni, Juli, August\n",
    "summer_months = [6,7,8]\n",
    "# Wintermonate Januar, Februar, Dezember\n",
    "winter_months = [1,2,12]\n",
    "\n",
    "df_summer = df_hourly_month_and_time.where(df_hourly_month_and_time['Monat'].isin(summer_months)).reset_index()\n",
    "df_summer = df_summer.dropna()\n",
    "df_summer = df_summer.groupby('Uhrzeit')['Leistung erneuerbar (MW)'].mean().reset_index()\n",
    "\n",
    "df_winter = df_hourly_month_and_time.where(df_hourly_month_and_time['Monat'].isin(winter_months)).reset_index()\n",
    "df_winter = df_winter.dropna()\n",
    "df_winter = df_winter.groupby('Uhrzeit')['Leistung erneuerbar (MW)'].mean().reset_index()\n",
    "\n",
    "\n",
    "\n",
    "plt.figure(figsize=(15, 6))\n",
    "plt.plot(df_summer['Uhrzeit'], df_summer['Leistung erneuerbar (MW)'], color = 'orange', label ='Sommer')\n",
    "plt.plot(df_winter['Uhrzeit'], df_winter['Leistung erneuerbar (MW)'], color = 'blue', label = 'Winter')\n",
    "\n",
    "plt.xlabel('Uhrzeit')\n",
    "plt.ylabel('Mittlere erzeugte Leistung in der Stunde (MW)')\n",
    "plt.title('Durchschnittlicher Tagesverlauf erneuerbarer Energie im Sommer (Juni, Juli, August) und Winter (Dezember, Januar, Februar)')\n",
    "plt.legend()\n",
    "plt.gca().set_xticks([0,1,2,3,4,5,6,7,8,9,10,11,12,13,14,15,16,17,18,19,20,21,22,23])\n",
    "plt.gca().set_xticklabels(time)\n",
    "# einheitliche y-Achse\n",
    "plt.ylim(0,50000)\n",
    "\n",
    "plt.show()"
   ]
  },
  {
   "cell_type": "markdown",
   "metadata": {},
   "source": [
    "f) Visualisieren Sie in einem geeigneten Diagramm die pro Tag mit erneuerbaren Energieträgern erzeugte elektrische Energie und analysieren Sie diese. Gehen Sie dabei sowohl auf einzelne auffällige Tage als auch auf übergeordnete Entwicklungen und Trends ein."
   ]
  },
  {
   "cell_type": "markdown",
   "metadata": {},
   "source": [
    "Zur Darstellung der pro Tag mit erneuerbaren Energieträgern erzeugten elektrischen Energie haben wir uns für eine interaktive Heatmap mit Plotly entschieden, da man so den übergeordneten Trend der Jahre erkennen kann, aber ebenso die genaue Leistung pro Tag angezeigt werden kann.\n",
    "\n",
    "Unser Ziel ist es auf der x-Achse die Tage eines Jahres abzubilden und auf der y-Achse die 5 Jahre des Betrachtungszeitraums übereinander.\n",
    "\n",
    "Wir extrahieren für die Darstellung auf der x-Achse die Tage für ein gesamtes Jahr, indem wir ein Datum ohne das Jahr erzeugen. Um anschließend für den Plot wieder das datetime-Format nutzen zu können fügen wir dem Datum ein beliebiges Standardjahr hinzu und überführen diese neue Datum wieder in das datetime-Format. \n",
    "\n",
    "Um die Tage eines Jahres für jedes Jahr mit dem entsprechendnen Leistung für die erneuerbaren darzustellen erzeugen wir eine Pivottabelle mit den Jahren als Index und als Spalten die Tage mit dem Standardjahr. \n",
    "\n",
    "Die in Aufgabe 2b) gezeigten Schaltjahre haben 366 Tage. Deswegen füllen wir die fehlenden Tage in den anderen Jahren mit einem Mittelwert über den gesamten Betrachtungszeitraum auf. "
   ]
  },
  {
   "cell_type": "code",
   "execution_count": null,
   "metadata": {},
   "outputs": [],
   "source": [
    "df_heatmap = df_daily.copy()\n",
    "df_heatmap['Leistung erneuerbar (GW)'] = df_heatmap['Leistung erneuerbar (MW)']/1000\n",
    "df_heatmap['Leistung erneuerbar (GW)'] = df_heatmap['Leistung erneuerbar (GW)'].round(2)\n",
    "\n",
    "#https://www.geeksforgeeks.org/pandas-series-dt-strftime/\n",
    "df_heatmap['Datum ohne Jahr'] = df_heatmap['Datum'].dt.strftime(\"%m-%d\")\n",
    "df_heatmap['Datum einheitliches Jahr'] = '1980-' + df_heatmap['Datum ohne Jahr']\n",
    "\n",
    "# Umwandeln in datetime (mit Platzhalterjahr)\n",
    "df_heatmap['Datum einheitliches Jahr'] = pd.to_datetime(df_heatmap['Datum einheitliches Jahr'])\n",
    "\n",
    "df_heatmap_pivot = df_heatmap.pivot(index='Jahr', columns='Datum einheitliches Jahr', values='Leistung erneuerbar (GW)')\n",
    "\n",
    "mean_erneuerbar = df_heatmap['Leistung erneuerbar (GW)'].mean()\n",
    "df_heatmap_pivot = df_heatmap_pivot.fillna(mean_erneuerbar)\n",
    "df_heatmap_pivot\n",
    "\n",
    "trace = go.Heatmap(\n",
    "        z = df_heatmap_pivot,\n",
    "        x = df_heatmap_pivot.columns,\n",
    "        y = df_heatmap_pivot.index,\n",
    "        colorscale='magma',\n",
    "        colorbar= dict(title = 'Leistung in GW'),\n",
    "        hovertemplate =\n",
    "        'Datum: %{x|%d.%m} <br>' \n",
    "        'Energie: %{z} GW',\n",
    "        \n",
    "        name=''\n",
    "    )\n",
    "data = [trace]\n",
    "months = ['Jan', 'Feb', 'Mär', 'Apr', 'Mai', 'Jun', 'Jul', 'Aug', 'Sep', 'Okt', 'Nov', 'Dez']\n",
    "\n",
    "# Spaltenindex der Starttage der Monate\n",
    "positionen = [0, 31, 60, 91, 121, 152, 182, 213, 244, 274, 305, 335] \n",
    "# x Werte (DateTime-Format) für die Tick-Positionen verwenden\n",
    "tickvals = []\n",
    "for i in positionen: \n",
    "    tickvals.append(df_heatmap_pivot.columns[i])\n",
    "\n",
    "layout = go.Layout(\n",
    "    title=go.layout.Title(\n",
    "        text='Erzeugte erneuerbare Energie pro Tag für die Jahre 2020-2024 ',\n",
    "    ),\n",
    "    # https://plotly.com/python/reference/layout/xaxis/#layout-xaxis\n",
    "    xaxis=go.layout.XAxis(\n",
    "        title=go.layout.xaxis.Title(\n",
    "            text='Monate',\n",
    "        ),\n",
    "        tickmode='array', \n",
    "        tickvals= tickvals,\n",
    "        ticktext=months,   \n",
    "    ),\n",
    "    \n",
    "    yaxis= go.layout.YAxis(\n",
    "        title=go.layout.yaxis.Title(\n",
    "            text= 'Jahre',\n",
    "        )\n",
    "    )\n",
    ")\n",
    "\n",
    "fig = go.Figure(data=data, layout=layout)\n",
    "fig.show()\n"
   ]
  },
  {
   "cell_type": "markdown",
   "metadata": {},
   "source": [
    "Auffällige hohe Tage:\n",
    "06.02.2024 und 05.02.2024: Auffällige hohe Leistung in GW. Wie in Aufgabe 2 a) zu sehen sind diese beiden Tage die Tage mit der höchsten täglichen Leistung der erneuerbaren Energieträgern.\n",
    "16.02 - 25.02. 2022\n",
    "\n",
    "11.03.2021 und 12.03.2021\n",
    "\n",
    "26.08.2020\n",
    "\n",
    "20.12.2023- 29.12.2023: Aufgabe 2 a) Höchstwerte Stromerzeugung aus erneuerbar 2023 \n",
    "\n",
    "20.10.21-22.10.21\n",
    "\n",
    "\n",
    "Auffällig niedrige Tage:\n",
    "20.01.2023- 28.01.2023\n",
    "\n",
    "07.01.2021 - 09.01 2021\n",
    "\n",
    "16.07.2020: \n",
    "\n",
    "9.12 - 12.12.22\n",
    "\n",
    "\n",
    "Übergeordneter Trend: \n",
    "Die Darstellung als Heatmap zeigt deutlich, dass in den Wintermonaten eines Jahres die Stromerzeugung aus erneuerbaren Energieträgern größeren Schwankungen unterliegt. Im Vergleich zu den Sommermonaten erkennt man, dass es viele Tage mit einer hohen Leistung gibt, aber auch viele Tage mit einer sehr niedrigen Erzeugung. In den Sommermonaten hingegen sind keine starken Leistungsspitzen zu sehen, dafür aber auch keine besonders niedrigen Tage. Das verdeutlicht, dass die Erzeugung erneuerbarer Energie im Sommer konstanter ist.\n",
    "\n",
    "Zur anschaulicheren Darstellung des übergeordneten Trends erzeugen wir einen zusätzlichen Boxplot mit den mittleren Börsenstrompreisen pro Jahr. \n",
    "Hierbei lassen sich die vorherigen Beobachtungen bestätigen. In den Wintermonaten ist der Median höher, ebenso aber auch der Interquartilsabstand und somit die Streuung der erzeugten Energie aus erneuerbaren Energieträgern. In den Wintermonaten sind die maximalen Werte auch höher. In den Sommermonaten wiederum ist der Median etwas niedriger, aber die Streuung geringer. \n"
   ]
  },
  {
   "cell_type": "code",
   "execution_count": null,
   "metadata": {},
   "outputs": [],
   "source": [
    "df_power_grouped_by_month = df_daily.copy()\n",
    "df_power_grouped_by_month['Leistung erneuerbar (GW)'] = df_power_grouped_by_month['Leistung erneuerbar (MW)']/1000\n",
    "df_power_grouped_by_month.boxplot(column = 'Leistung erneuerbar (GW)', by = 'Monat', grid = False, figsize = (15,6))\n",
    "\n",
    "plt.ylabel(\"Leistung erneuerbar (GW)\")\n",
    "plt.xlabel('Monate')\n",
    "plt.title('Verteilung der täglichen erneuerbaren Leistung pro Monat')\n",
    "# Entfernt den Titel, der durch \"by\" gesetzt wird\n",
    "plt.suptitle('')\n",
    "plt.show()"
   ]
  },
  {
   "cell_type": "markdown",
   "metadata": {},
   "source": [
    "g) Visualisieren Sie auf geeingete Weise die Zusammensetztung des erzeugten Stroms (erneuerbar vs. nicht erneuerbar) im Zeitverlauf und analysieren Sie diese."
   ]
  },
  {
   "cell_type": "markdown",
   "metadata": {},
   "source": [
    "Zur Visualisierung der Zusammensetzung des erzeugten Stroms nutzen wir ein gestapeltes Balkendiagramm, um den Anteil der erneuerbaren und nicht erneuerbaren Leistung an der berechneten Gesamtleistung darzustellen. \n",
    "Als Zeitverlauf haben wir uns für die Jahre des Betrachtungszeitraums entschieden, um den übergeordneten Trend des Strommixes darzustellen. Der Plot spiegelt die gewonnenen Erkenntisse aus Aufgabe 2 d) wieder. Es zeigt sich ein leichter Anstieg der erneuerbaren und ein leichter Rückgang der nicht erneuerbaren ab 2022.\n"
   ]
  },
  {
   "cell_type": "code",
   "execution_count": null,
   "metadata": {},
   "outputs": [],
   "source": [
    "plt.figure(figsize=(15,6))\n",
    "\n",
    "y2 = df_year_power['Anteil nicht erneuerbar an Gesamtleistung in %']\n",
    "y1 = df_year_power['Anteil erneuerbar an Gesamtleistung in %']\n",
    "x = df_year_power.index\n",
    "p1 = plt.bar(x, y2, bottom = y1, label = 'Nicht Erneuerbar', color = 'grey')\n",
    "p2 = plt.bar(x, y1, label ='Erneuerbar', color = 'green')\n",
    "\n",
    "plt.ylabel('Anteil an der erzeugten Gesamtleistung')\n",
    "plt.xlabel('Jahre')\n",
    "plt.title('Zusammensetzung des erzeugten Stroms (erneuerbar vs. nicht erneuerbar) von 2020-2024')\n",
    "\n",
    "# oberen linken Eckpunkt der Legende an die Koordinaten setzen\n",
    "plt.legend(loc='upper left', bbox_to_anchor=(1, 1))\n",
    "plt.show()\n"
   ]
  },
  {
   "cell_type": "markdown",
   "metadata": {},
   "source": [
    "### Aufgabe 4 (Untersuchung von Einflussfaktoren auf den Strompreis)\n",
    "<a id = \"aufgabe4\"></a>\n",
    "\n",
    "[Zurück zum Inhaltsverzeichnis](#inhaltsverzeichnis)\n",
    "\n",
    "a) Implementieren Sie eine Funktion namens\n",
    "get_weather_data(lat, lon, start_date, end_date), die die (tagesbezogenen) Wetterdaten für die durch (lon,lat) gegebene Geo-Position im Zeitraum zwischen start_date und end_date von der open-meteo-API bezieht und das Ergebnis als DataFrame zurückgibt. Verwenden Sie für den Zugriff auf die API das Paket requests. Jede Zeile des DataFrames soll die Wetterdaten zu einem Tag enthalten. Wenden Sie diese Funktion anschließend an, um historische Wetterdaten der Jahre 2020 - 2024 für die Stadt Amberg zu beziehen. Reichern Sie den DataFrame df_daily um diese Wetterdaten an. Speichern Sie den resultierenden Datensatz in einer CSV-Datei namens daily.csv und laden Sie diese mit Ihrer Abgabe auf Moodle hoch."
   ]
  },
  {
   "cell_type": "markdown",
   "metadata": {},
   "source": [
    "Wir haben uns für stündliche Daten entschieden, weil wir damit auch überprüfen können, ob z.B. die Durchschnittstemperatur an einem Tag besser oder schlechter mit dem Strompreis korreliert als die Maximaltemperatur.\n",
    "\n",
    "Allgemein haben wir die Wetterparameter per API geholt, bei denen wir vermutet haben, dass sie eine Korrleation mit Wind/Solar-Energieerzeugung haben."
   ]
  },
  {
   "cell_type": "code",
   "execution_count": null,
   "metadata": {},
   "outputs": [],
   "source": [
    "def extract_weather_data_to_df(api_json):\n",
    "    # Get the hourly data from the JSON-Response\n",
    "    hourly_data = api_json.get('hourly')\n",
    "    time = hourly_data.get('time')\n",
    "\n",
    "    # Get the data from the dict and create a DataFrame\n",
    "    df = pd.DataFrame({\n",
    "            'Time': time,\n",
    "            'Temperatur °C': hourly_data.get('temperature_2m'),\n",
    "            'Bewölkung %': hourly_data.get('cloud_cover'),\n",
    "            'Sonnenscheinenergie W/m2' : hourly_data.get('direct_radiation'),\n",
    "            'Windgeschwindigkeit km/h': hourly_data.get('wind_speed_100m'),\n",
    "            'Niederschlag mm': hourly_data.get('rain'),\n",
    "            'Atmosphärendruck hPa': hourly_data.get('pressure_msl')\n",
    "        })\n",
    "    \n",
    "    df['Time'] = pd.to_datetime(df['Time'], errors=\"coerce\")\n",
    "    df['Datum'] = df['Time'].dt.date\n",
    "\n",
    "    # Group DataFrame by date -- mean/sum values\n",
    "    df_daily_mean = df.groupby('Datum').agg({\n",
    "        'Temperatur °C': 'mean',      \n",
    "        'Bewölkung %': 'mean',             \n",
    "        'Sonnenscheinenergie W/m2': 'mean',  \n",
    "        'Windgeschwindigkeit km/h': 'mean',\n",
    "        'Niederschlag mm': 'sum',\n",
    "        'Atmosphärendruck hPa': 'mean'\n",
    "    }).reset_index()\n",
    "\n",
    "    # Group DataFrame by date -- max values\n",
    "    df_daily_max = df.groupby('Datum').agg({\n",
    "        'Temperatur °C': 'max',                   \n",
    "        'Windgeschwindigkeit km/h': 'max'\n",
    "    }).reset_index()\n",
    "\n",
    "    # Rename to be able to merge\n",
    "    df_daily_max = df_daily_max.rename(columns = {'Temperatur °C' : 'Max Temperatur °C', 'Windgeschwindigkeit km/h' : 'Max Windgeschwindigkeit km/h'})\n",
    "\n",
    "    # Combine the two DataFrames \n",
    "    df_combined = pd.merge(df_daily_mean, df_daily_max, on = 'Datum', how = 'left', validate='one_to_one')\n",
    "    df_combined['Datum'] = pd.to_datetime(df_combined['Datum'], errors=\"coerce\")\n",
    "\n",
    "    return df_combined\n",
    "\n",
    "def get_weather_data(lat, lon, start_date, end_date):\n",
    "    # Fetch hourly data from the API, which we later group for the day\n",
    "    params = {\n",
    "        'latitude': lat,\n",
    "        'longitude': lon,\n",
    "        # Same Timezone as df_daily/df_hourly (Default is GMT (Greenwich Mean Time), so CET-1)\n",
    "        'timezone': 'CET',\n",
    "        'start_date': start_date,\n",
    "        'end_date': end_date,\n",
    "        'hourly': 'temperature_2m,cloud_cover,direct_radiation,wind_speed_100m,rain,pressure_msl'\n",
    "    }\n",
    "    weather_api_url = 'https://archive-api.open-meteo.com/v1/archive'\n",
    "\n",
    "    api_answer = requests.get(weather_api_url, params)\n",
    "\n",
    "    # If status code is 200, the API responded with a valid JSON\n",
    "    if api_answer.status_code == 200:\n",
    "        data = api_answer.json()\n",
    "        return extract_weather_data_to_df(data)\n",
    "    else:\n",
    "       print('Error fetching Api data!')\n",
    "       # empty DataFrame\n",
    "       return pd.DataFrame()\n",
    "\n",
    "# Coordinates of Digital Campus OTH Amberg\n",
    "LAT_AMBERG = 49.44539774004614\n",
    "LON_AMBERG = 11.84824284729236\n",
    "\n",
    "df_weather_daily = get_weather_data(LAT_AMBERG, LON_AMBERG, '2020-01-01', '2024-12-31')\n",
    "df_weather_daily"
   ]
  },
  {
   "cell_type": "code",
   "execution_count": null,
   "metadata": {},
   "outputs": [],
   "source": [
    "# Only filter to relevant columns\n",
    "df_daily = df_daily[['Datum', 'Leistung nicht erneuerbar (MW)', 'Leistung erneuerbar (MW)', 'Day Ahead Auktion Preis (EUR/MWh)']]\n",
    "\n",
    "# Check if API failed / DataFrame is empty\n",
    "if(not df_weather_daily.empty):\n",
    "    # Merge Weather Data and df_daily\n",
    "    df_daily = pd.merge(df_daily, df_weather_daily, on = 'Datum', how = 'left', validate='one_to_one')\n",
    "    df_daily.to_csv('daily.csv', index = False, encoding='utf-8')\n",
    "df_daily"
   ]
  },
  {
   "cell_type": "markdown",
   "metadata": {},
   "source": [
    "b) Reichern Sie den DataFrame df daily weiterhin um Börsenschlusskurse für Kohle und Erdgas an, die in den CSV-Dateien gaspreise.csv bzw. kohlepreise.csv gegeben sind. Visualisieren und untersuchen Sie auf geeignete Weise die Zusammenhänge (paarweise) zwischen Börsenstrompreis, Gaspreis, Kohlepreis und erneuerbarer Energieerzeugung."
   ]
  },
  {
   "cell_type": "code",
   "execution_count": null,
   "metadata": {},
   "outputs": [],
   "source": [
    "# Read in Gas\n",
    "df_gas = pd.read_csv('./Daten/gaspreise.csv', sep = \",\")\n",
    "df_gas = df_gas.rename(columns = {'Schlusskurs' : 'Schlusskurs Gas'})\n",
    "df_gas['Datum'] = pd.to_datetime(df_gas['Datum'], errors=\"coerce\")\n",
    "\n",
    "# Read in Kohle\n",
    "df_kohle = pd.read_csv('./Daten/kohlepreise.csv', sep = \",\")\n",
    "df_kohle = df_kohle.rename(columns = {'Schlusskurs' : 'Schlusskurs Kohle'})\n",
    "df_kohle['Datum'] = pd.to_datetime(df_kohle['Datum'], errors=\"coerce\")\n",
    "\n",
    "# Merge into df_daily\n",
    "df_daily = pd.merge(df_daily, df_gas, on = 'Datum', how = 'left', validate='one_to_one')\n",
    "df_daily = pd.merge(df_daily, df_kohle, on = 'Datum', how = 'left', validate='one_to_one')\n",
    "df_daily"
   ]
  },
  {
   "cell_type": "markdown",
   "metadata": {},
   "source": [
    "Zusammenhänge (paarweise) zwischen Börsenstrompreis, Gaspreis, Kohlepreis und erneuerbarer Energieerzeugung"
   ]
  },
  {
   "cell_type": "code",
   "execution_count": null,
   "metadata": {},
   "outputs": [],
   "source": [
    "plt.scatter(df_daily['Day Ahead Auktion Preis (EUR/MWh)'], df_daily['Leistung erneuerbar (MW)'])\n",
    "plt.title(\"Zusammenhang Börsenstrompreis und erneuerbarer Energieerzeugung\")\n",
    "plt.xlabel(\"Börsenstrompreis\")\n",
    "plt.ylabel(\"Leistung erneuerbar (MW)\")\n",
    "plt.show()"
   ]
  },
  {
   "cell_type": "markdown",
   "metadata": {},
   "source": [
    "Es gibt vor allem dann Ausreißer nach oben im Börsenstrompreis, wenn nicht so viel erneuerbare Energie erzeugt wird."
   ]
  },
  {
   "cell_type": "code",
   "execution_count": null,
   "metadata": {},
   "outputs": [],
   "source": [
    "plt.scatter(df_daily['Day Ahead Auktion Preis (EUR/MWh)'], df_daily['Schlusskurs Kohle'])\n",
    "plt.title(\"Zusammenhang Börsenstrompreis und Kohlepreis\")\n",
    "plt.xlabel(\"Börsenstrompreis\")\n",
    "plt.ylabel(\"Schlusskurs Kohle\")\n",
    "plt.show()"
   ]
  },
  {
   "cell_type": "markdown",
   "metadata": {},
   "source": [
    "Wie schon in der 3) thematisiert, sind die nicht erneuerbaren häufig die Haupteinflüsse auf den Börsenstrompreis. Das zeigt sich auch hier wieder in dem Plot, da ein starker Zusammenhang zwischen hohem Kohlepreis und hohem Börsenstrompreis zu sehen ist."
   ]
  },
  {
   "cell_type": "code",
   "execution_count": null,
   "metadata": {},
   "outputs": [],
   "source": [
    "plt.scatter(df_daily['Day Ahead Auktion Preis (EUR/MWh)'], df_daily['Schlusskurs Gas'])\n",
    "plt.title(\"Zusammenhang Börsenstrompreis und Gaspreis\")\n",
    "plt.xlabel(\"Börsenstrompreis\")\n",
    "plt.ylabel(\"Schlusskurs Gas\")\n",
    "plt.show()"
   ]
  },
  {
   "cell_type": "markdown",
   "metadata": {},
   "source": [
    "Der selbe Zusammenhang wie bei Kohle schon zu sehen war, tritt auch bei Gas wieder auf. Auch der Kohlepreis lenkt als nicht erneuerbare Energieform den Börsenstrompreis"
   ]
  },
  {
   "cell_type": "code",
   "execution_count": null,
   "metadata": {},
   "outputs": [],
   "source": [
    "plt.scatter(df_daily['Schlusskurs Gas'], df_daily['Leistung erneuerbar (MW)'])\n",
    "plt.title(\"Zusammenhang Gaspreis und erneuerbarer Energieerzeugung\")\n",
    "plt.xlabel(\"Gaspreis\")\n",
    "plt.ylabel(\"Leistung erneuerbar (MW)\")\n",
    "plt.show()"
   ]
  },
  {
   "cell_type": "markdown",
   "metadata": {},
   "source": [
    "Es tritt ein ähnlicher Zusammenhang auf wie schon beim Börsenstrompreis zu erneuerbarer Energieerzeugung, jedoch nur nicht so stark. Das war auch vorhersehbar, da wie schon vorher gezeigt, ein hoher Gaspreis tendenziell zu einem hohen Börsenstrompreis führt und somit diese beide stark von einander abhängen."
   ]
  },
  {
   "cell_type": "code",
   "execution_count": null,
   "metadata": {},
   "outputs": [],
   "source": [
    "plt.scatter(df_daily['Schlusskurs Kohle'], df_daily['Leistung erneuerbar (MW)'])\n",
    "plt.title(\"Zusammenhang Kohlepreis und erneuerbarer Energieerzeugung\")\n",
    "plt.xlabel(\"Kohlepreis\")\n",
    "plt.ylabel(\"Leistung erneuerbar (MW)\")\n",
    "plt.show()"
   ]
  },
  {
   "cell_type": "markdown",
   "metadata": {},
   "source": [
    "Der Vergleich zwischen Kohlepreis und erneuerbarer Energieerzeugung unterstreicht noch mal, den Zusammenhang der schon zwischen fossilen Brennstoffpreisen und erneuerbarer Erzeugung beobachtet wurde."
   ]
  },
  {
   "cell_type": "code",
   "execution_count": null,
   "metadata": {},
   "outputs": [],
   "source": [
    "plt.scatter(df_daily['Schlusskurs Gas'], df_daily['Schlusskurs Kohle'])\n",
    "plt.title(\"Zusammenhang Kohlepreis und Gaspreis\")\n",
    "plt.xlabel(\"Gaspreis\")\n",
    "plt.ylabel(\"Kohlepreis\")\n",
    "plt.show()"
   ]
  },
  {
   "cell_type": "markdown",
   "metadata": {},
   "source": [
    "Der Kohle- und Gaspreis zeigen einen starken Zusammenhang. Das erklärt sich aus der Nachfrage nach den beiden Ressourcen. Wenn, wie 2022, Gas knapp (und damit teuer) wird, gibt es dementsprechend natürlich eine höhere Nachfrage nach anderen fossilen Brennstoffen, um den Strombedarf weiterhin zu decken, was dann in letzter Konsequenz den Kohlepreis ebenfalls ansteigen lässt."
   ]
  },
  {
   "cell_type": "code",
   "execution_count": null,
   "metadata": {},
   "outputs": [],
   "source": [
    "df_gas_coal = df_daily.copy()\n",
    "\n",
    "# Fill gaps (weekends/holidays)\n",
    "# https://pandas.pydata.org/docs/reference/api/pandas.DataFrame.ffill.html\n",
    "df_gas_coal['Schlusskurs Gas'] = df_gas_coal['Schlusskurs Gas'].ffill()\n",
    "df_gas_coal['Schlusskurs Kohle'] = df_gas_coal['Schlusskurs Kohle'].ffill()\n",
    "\n",
    "fig, ax1 = plt.subplots(figsize=(20, 7))\n",
    "\n",
    "# https://matplotlib.org/stable/gallery/subplots_axes_and_figures/two_scales.html#sphx-glr-gallery-subplots-axes-and-figures-two-scales-py\n",
    "# First y-axis (Gas)\n",
    "ax1.plot(df_gas_coal['Datum'], df_gas_coal['Schlusskurs Gas'], 'r-', label='Gaspreis')\n",
    "ax1.set_xlabel('Datum')\n",
    "ax1.set_ylabel('Schlusskurs Gas', color='red')\n",
    "\n",
    "# Second y-axis (Kohle)\n",
    "ax2 = ax1.twinx()  # Create a twin y-axis\n",
    "ax2.plot(df_gas_coal['Datum'], df_gas_coal['Schlusskurs Kohle'], 'b-', label='Kohlepreis')\n",
    "ax2.set_xlabel('Datum')\n",
    "ax2.set_ylabel('Schlusskurs Kohle', color='blue')\n",
    "\n",
    "# Add a title\n",
    "plt.title('Zeitlicher Verlauf des Gas- und Kohlepreis')\n",
    "\n",
    "# Display the plot\n",
    "plt.show()"
   ]
  },
  {
   "cell_type": "markdown",
   "metadata": {},
   "source": [
    "In diesem Diagramm sieht man nochmal deutlich, wie direkt der Kohle- und Gaspreis, wegen dem oben beschriebenen Effekt, zusammenhängen."
   ]
  },
  {
   "cell_type": "markdown",
   "metadata": {},
   "source": [
    "c) Führen Sie eine Korrelationsanalyse für alle Variablen des DataFrames df_daily durch.\n",
    "Erzeugen Sie dazu eine interaktive Correlation HeatMap in Plotly."
   ]
  },
  {
   "cell_type": "markdown",
   "metadata": {},
   "source": [
    "Wir erzeugen eine Korrelationsmatrix über die .corr() Methode und zeigen diese dann in einer Heatmap. Dabei stehen sowohl sehr helle als auch sehr dunkle Felder für starke Korrleation der Variablen/Spalten."
   ]
  },
  {
   "cell_type": "code",
   "execution_count": null,
   "metadata": {},
   "outputs": [],
   "source": [
    "df_corr = df_daily.copy()\n",
    "# Filter out date based columns for the correlation matrix\n",
    "df_corr_matrix = df_daily.copy()\n",
    "df_corr_matrix = df_corr_matrix.drop(columns = ['Datum'])\n",
    "\n",
    "correlation_matrix = df_corr_matrix.corr()\n",
    "\n",
    "trace = go.Heatmap(\n",
    "        z = correlation_matrix,\n",
    "        x = correlation_matrix.columns,\n",
    "        y = correlation_matrix.index,\n",
    "        colorscale='magma',\n",
    "        colorbar= dict(title = 'Korrelation'),\n",
    "        hovertemplate =\n",
    "        'Korrelation: %{z}',\n",
    "        name=''\n",
    "    )\n",
    "data = [trace]\n",
    "\n",
    "layout = go.Layout(\n",
    "    title=go.layout.Title(\n",
    "        text='Korrelation aller Variablen in df_daily',\n",
    "    ),\n",
    "    width = 1000,\n",
    "    height = 800,\n",
    ")\n",
    "\n",
    "fig = go.Figure(data=data, layout=layout)\n",
    "fig.show()\n"
   ]
  },
  {
   "cell_type": "markdown",
   "metadata": {},
   "source": [
    "Positive Korrelationen:\n",
    "\n",
    "Der Börsenstrompreis zeigt eine starke positive Korrelation mit dem Schlusskurs Gas und eine etwas geringere Korrelation mit dem Schlusskurs Kohle. Dies unterstreicht die Bedeutung fossiler Brennstoffe als wesentliche Einflussfaktoren für die Strompreisbildung, was bereits in vorherigen Analysen beschrieben wurde.\n",
    "\n",
    "Eine moderate positive Korrelation ist zudem bei der Leistung nicht erneuerbarer Energien (MW) erkennbar. Dies deutet darauf hin, dass höhere Strompreise häufig mit einer verstärkten Nutzung fossiler Energiequellen einhergehen, während erneuerbare Energien in diesen Phasen weniger stark genutzt werden.\n",
    "<br></br>\n",
    "<br></br>\n",
    "Negative Korrelationen:\n",
    "\n",
    "Der Börsenstrompreis zeigt eine deutliche negative Korrelation zur Leistung erneuerbarer Energien (MW). Dies verdeutlicht, dass ein höheres Angebot an erneuerbaren Energien, insbesondere aus Wind- und Solarenergie, den Strompreis tendenziell senkt – ein Zusammenhang, der bereits in vorherigen Scatterplots erkennbar war.\n",
    "\n",
    "Eine schwache negative Korrelation ist außerdem bei den wetterabhängigen Größen wie Sonnenscheindauer und Windgeschwindigkeit erkennbar, da diese Variablen direkt die Einspeisung erneuerbarer Energien beeinflussen. Dabei sticht jedoch die Windgeschwindigkeit (km/h) als der entscheidendste Faktor hervor, was die Bedeutung der Windkraft für den Strompreis erneut bestätigt.\n",
    "\n",
    "Interessanterweise zeigen selbst indirekte Indikatoren für starke Winde, wie Niederschlag (mm) und Atmosphärendruck (hPa), eine stärkere Korrelation mit dem Börsenstrompreis als direkte Indikatoren für eine gute Solarstromerzeugung, wie Sonnenscheinenergie (W/m²) oder Temperatur (°C). Das zeigt noch einmal, dass Deutschlands erneuerbare Energieerzeugung viel stärker von Windenenergie abhängt als von Solar, was uns auch so vor dem Projekt gar nicht bewusst war."
   ]
  },
  {
   "cell_type": "markdown",
   "metadata": {},
   "source": [
    "### Aufgabe 5 (Modellbildung)\n",
    "<a id = \"aufgabe5\"></a>\n",
    "\n",
    "[Zurück zum Inhaltsverzeichnis](#inhaltsverzeichnis)"
   ]
  },
  {
   "cell_type": "markdown",
   "metadata": {},
   "source": [
    "a) Erstellen Sie unter Verwendung der Bibliothek Scikit-learn ein lineares Regressionsmodell zur Modellierung des mittleren Börsenstrompreises pro Tag in Abhängigkeit verschiedener Eingangsgrößen. Selektieren Sie basierend auf der vorherigen Aufgabe zunächst geeignete Merkmale als Eingangsgrößen. Teilen Sie die Daten anschließend in eine Trainings und eine Testdatenmenge und erstellen Sie ein lineares Regressionsmodell auf dem Trainingsdatensatz. Wie lautet der ermittelte funktionale Zusammenhang zwischen den Input und der Outputgrößen des Modells?"
   ]
  },
  {
   "cell_type": "markdown",
   "metadata": {},
   "source": [
    "Als wichtigste Fakorten fließen der Preis von Kohle und Gas in das Modell ein, darüber hinaus auch die Menge an erzeugtem Strom (erneuerbar/nicht erneuerbar). Aus der Aufgabe 4 kann abgelesen werden, dass das Wetter nicht unbedingt stark mit dem Strompreis korreliert, dennoch ist vor allem die Windgeschwindigkeit ein potenzieller Indikator für billigen Strom.\n",
    "\n",
    "Auch beziehen wir Monat/Tag/Wochentag in das Modell mit ein, um gewisse Trends des Preises auf Monatseben, sowie auch auf Tagesebene (Börsenstart Montag, Börsenschluss Freitag für Kohle und Gas) widerspiegeln."
   ]
  },
  {
   "cell_type": "code",
   "execution_count": null,
   "metadata": {},
   "outputs": [],
   "source": [
    "# Creating Date based indicators\n",
    "df_corr['Monat'] = df_daily['Datum'].dt.month\n",
    "df_corr['Monat'] = df_corr['Monat'].astype(int)\n",
    "\n",
    "df_corr['Tag'] = df_daily['Datum'].dt.day\n",
    "df_corr['Tag'] = df_corr['Tag'].astype(int)\n",
    "\n",
    "df_corr['Wochentag'] = df_daily['Datum'].dt.day_of_week\n",
    "df_corr['Wochentag'] = df_corr['Wochentag'].astype(int)\n",
    "\n",
    "# Gas and Kohle are missing values for the days the exchange market is closed on\n",
    "# Filling with Moving Average Mean of the 5 Workdays before that\n",
    "df_corr['Moving_Avg'] = df_corr['Schlusskurs Kohle'].rolling(window=5).mean()\n",
    "df_corr['Schlusskurs Kohle'] = df_corr['Schlusskurs Kohle'].fillna(df_corr['Moving_Avg'])\n",
    "# If Moving Average doesn't result in a value, fill with the overall mean\n",
    "df_corr['Schlusskurs Kohle'] = df_corr['Schlusskurs Kohle'].fillna(df_corr['Schlusskurs Kohle'].mean())\n",
    "\n",
    "\n",
    "df_corr['Moving_Avg'] = df_corr['Schlusskurs Gas'].rolling(window=5).mean()\n",
    "df_corr['Schlusskurs Gas'] = df_corr['Schlusskurs Gas'].fillna(df_corr['Moving_Avg'])\n",
    "df_corr['Schlusskurs Gas'] = df_corr['Schlusskurs Kohle'].fillna(df_corr['Schlusskurs Gas'].mean())\n",
    "\n",
    "# Including Month/Day as Number in the parameters, it's hard to correlate, but possibly still connected to the energy price \n",
    "X = df_corr[['Leistung nicht erneuerbar (MW)', 'Leistung erneuerbar (MW)', 'Schlusskurs Gas', 'Schlusskurs Kohle', 'Windgeschwindigkeit km/h', 'Temperatur °C', 'Niederschlag mm', 'Atmosphärendruck hPa', 'Monat', 'Tag', 'Wochentag']]  \n",
    "y = df_corr['Day Ahead Auktion Preis (EUR/MWh)']\n",
    "\n",
    "X_train, X_test, y_train, y_test = train_test_split(X, y, test_size=0.25)\n",
    "model = LinearRegression()\n",
    "\n",
    "model.fit(X_train, y_train)\n",
    "\n",
    "# Predict on the training data split\n",
    "y_pred = model.predict(X_test)\n",
    "\n",
    "r2 = r2_score(y_test, y_pred)\n",
    "print(\"Koeffizienten:\", model.coef_)  \n",
    "print(\"R² Wert:\", r2)\n"
   ]
  },
  {
   "cell_type": "markdown",
   "metadata": {},
   "source": [
    "Die Koeffizienten beschreiben, in welchem Verhältnis die verschiedenen Parameter den Strompreis berechnen. Ein positiver Koeffizient zeigt an, dass ein Anstieg dieses Parameters den Strompreis erhöht, während ein negativer Koeffizient auf eine Verringerung des Strompreis hinweist.\n",
    "\n",
    "Zusätzlich geben wir noch den R²-Wert für das Modell an, der beschreibt, wie gut das Modell die Variabilität des Strompreises erklärt. Ein R²-Wert nahe 1 bedeutet, dass das Modell fast alle Schwankungen im Strompreis durch die Input-Parameter erklären kann, während ein niedriger R²-Wert darauf hinweist, dass wesentliche Einflussfaktoren im Modell fehlen oder die Daten sehr stark streuen.\n",
    "\n",
    "Unser Modell schwankt dabei zwischen 0.68 und 0.8, und bietet damit eine doch gute Grundlage für Analyse und die Prognose des Strompreises. "
   ]
  },
  {
   "cell_type": "markdown",
   "metadata": {},
   "source": [
    "Testcode für die Simulation von beliebig vielen Läufen:"
   ]
  },
  {
   "cell_type": "code",
   "execution_count": null,
   "metadata": {},
   "outputs": [],
   "source": [
    "LINEAR_REGRESSION_RUNS = 5_000\n",
    "'''\n",
    "mean_r2 = 0\n",
    "mean_mape = 0\n",
    "min_mape = 1_000_000_000\n",
    "max_mape = 0\n",
    "for i in range(LINEAR_REGRESSION_RUNS):\n",
    "    X_train, X_test, y_train, y_test = train_test_split(X, y, test_size=0.25)\n",
    "    model = LinearRegression()\n",
    "\n",
    "    model.fit(X_train, y_train)\n",
    "\n",
    "    # Predict on the training data split\n",
    "    y_pred = model.predict(X_test)\n",
    "\n",
    "    mape = mean_absolute_percentage_error(y_test, y_pred)\n",
    "    r2 = r2_score(y_test, y_pred)\n",
    "\n",
    "    min_mape = min(min_mape, mape)\n",
    "    max_mape = max(max_mape, mape)\n",
    "    mean_mape = (mape+mean_mape)/2\n",
    "    mean_r2 = (r2+mean_r2)/2\n",
    "\n",
    "print(\"Minimaler MAPE: \" + str(min_mape))\n",
    "print(\"Maximaler MAPE: \" + str(max_mape))\n",
    "print(\"Durchschnittlicher MAPE: \" + str(mean_mape))\n",
    "print(\"Durchschnittlicher R²: \" + str(mean_r2))\n",
    "'''"
   ]
  },
  {
   "cell_type": "markdown",
   "metadata": {},
   "source": [
    "Output bei 5.000 Läufen:\n",
    "\n",
    "Minimaler MAPE: 0.3615034526472132\n",
    "\n",
    "Maximaler MAPE: 1.3154197668086212\n",
    "\n",
    "Durchschnittlicher MAPE: 0.7193967384730049\n",
    "\n",
    "Durchschnittlicher R²: 0.7604182190783234"
   ]
  },
  {
   "cell_type": "markdown",
   "metadata": {},
   "source": [
    "b) Beurteilen Sie die Güte des Modells, indem Sie den mittleren relativen Fehler (mean absolute percentage error, verfügbar in sklearn.metrics) berechnen und auswerten."
   ]
  },
  {
   "cell_type": "markdown",
   "metadata": {},
   "source": [
    "Der MAPE schwankt je nach Ausführung zwischen 0,4 und 1,3. Das ist dementsprechend eine Abweichung von 60 % bis 120 % vom realen Strompreis an der Börse.\n",
    "\n",
    "Bei einem hochvolatilen Markt wie dem Strommarkt kann eine so hohe Abweichung durchaus Sinn ergeben, da der Preis von vielen Faktoren beeinflusst wird, die man kaum vollständig ins Modell aufnehmen kann. Beispiele sind:\n",
    "\n",
    "1) Geopolitische Ereignisse (z. B. Krisen, Sanktionen, Lieferengpässe), die kurzfristig zu starken Preisänderungen bei Brennstoffen wie Gas oder Kohle führen können.\n",
    "<br></br>\n",
    "2) Unvorhersehbare Kraftwerksausfälle oder Wartungsarbeiten, die das Angebot abrupt reduzieren.\n",
    "<br></br>\n",
    "3) Wetterextreme (z. B. kalte Winter, Hitzewellen, Sturmfluten), die gleichzeitig die Nachfrage (Heiz-/Kühlbedarf) und das Angebot (Wind-/Solarausfall) beeinflussen.\n",
    "<br></br>\n",
    "4) Kurzfristige Nachfragepeaks durch hohen Stromverbrauch\n",
    "\n",
    "https://temagazin.de/regenerative-energien/strompreise-wie-entstehen-sie-und-warum-sind-sie-so-volatil/"
   ]
  },
  {
   "cell_type": "code",
   "execution_count": null,
   "metadata": {},
   "outputs": [],
   "source": [
    "mape = mean_absolute_percentage_error(y_test, y_pred)\n",
    "print(\"Mean Absolute Percentage Error (MAPE):\", mape)"
   ]
  },
  {
   "cell_type": "markdown",
   "metadata": {},
   "source": [
    "c) Gehen Sie auf mögliche Limitierungen Ihres Modells ein."
   ]
  },
  {
   "cell_type": "markdown",
   "metadata": {},
   "source": [
    "Das Modell hat einige Limitierungen:\n",
    "<br></br>\n",
    "1) Durch die Energiekrise 2022, die dem Modell auch zugrunde liegt, kennt das Modell eine Varianz für höhere Strompreise, die in der Form heute wahrscheinlich erstmal nicht wieder auftreten.\n",
    "<br></br>\n",
    "2) Das Modell kennt nur die Wetterdaten von Amberg, die natürlich nicht direkt repräsentiv für die gesamtdeutsche Stromerzeugung aus Erneuerbaren steht.\n",
    "<br></br>\n",
    "3) Das Modell kennt keine detailreiche Aufschlüsselung des Strommixes, also wie viel Energie wann wirklich aus welcher Quelle kam (Wind, Solar, Biogas, Wasser, Import, Export...)"
   ]
  },
  {
   "cell_type": "markdown",
   "metadata": {},
   "source": [
    "### Aufgabe 6 (Analyse von Stromtarif-Angeboten für Endkunden)\n",
    "<a id = \"aufgabe6\"></a>\n",
    "\n",
    "[Zurück zum Inhaltsverzeichnis](#inhaltsverzeichnis)\n",
    "\n",
    "a) Führen Sie die gegebenen Preisvergleichdaten in einem DataFrame namens df_cust zusammen. Exportieren Sie diesen als CSV-Datei namens prices_customers.csv und laden Sie diese mit Ihrer Abgabe auf Moodle hoch. Verwerfen Sie bitte zur Minimierung der Dateigröße alle Spalten, die im weiteren Verlauf nicht mehr verwendet werden. Kommentieren Sie nun den Code zur Datensatzgenerierung aus und lesen Sie die CSV-Datei in den DataFrame df_cust erneut aus dieser Datei ein.\n"
   ]
  },
  {
   "cell_type": "code",
   "execution_count": null,
   "metadata": {},
   "outputs": [],
   "source": [
    "'''\n",
    "path = './Daten/Endkundenpreise/'\n",
    "\n",
    "def extract_date_from_filepath(file):\n",
    "    file = file.replace(path, \"\")\n",
    "    # Concatenate the date out of fixed year 2024 and month/day from folder name\n",
    "    return \"2024-\" + file[0:5]\n",
    "\n",
    "def extract_data_from_json(file):\n",
    "    assert file.endswith(\".json\"), \"Keine json-Datei uebergeben\"\n",
    "    try:\n",
    "        # Read and load the json file\n",
    "        df_temp = pd.read_json(file)\n",
    "        # Transpose the table: convert the rows to columns\n",
    "        df_temp = df_temp.T\n",
    "        # Add date from filename as column\n",
    "        df_temp['Datum'] = extract_date_from_filepath(file)\n",
    "        \n",
    "        return df_temp\n",
    "    except:\n",
    "        print(\"Datei konnte nicht gelesen werden.\")\n",
    "\n",
    "def drop_unnecessary_columns(df):\n",
    "    columns_to_drop = ['Postleitzahl', 'Jahresverbrauch', 'Abschlagszahlung', 'Verlängerung', 'Kündigungsfrist', 'Grundpreis', 'Arbeitspreis', 'Preisgarantie', 'Grundpreisrabatt:', 'Neukundenbonus', 'Sofortbonus', 'Arbeitspreisrabatt', 'Zusätzlicher Aktionsbonus', 'Blitzbonus', 'Abschlagsrabatt', 'Grundpreisrabatt', 'Winterprämie']\n",
    "    return df.drop(columns = columns_to_drop)\n",
    "\n",
    "df_list = []\n",
    "# https://www.tutorialspoint.com/python/os_listdir.htm\n",
    "for folder in os.listdir(path):\n",
    "    combined_path = os.path.join(path, folder, \"*json\")\n",
    "    json_files = glob.glob(combined_path)\n",
    "\n",
    "    for i in range(len(json_files)):\n",
    "        df_temp = extract_data_from_json(json_files[i])\n",
    "        df_list.append(df_temp)\n",
    "        \n",
    "df_cust = pd.concat(df_list)\n",
    "df_cust = drop_unnecessary_columns(df_cust)\n",
    "# https://www.datacamp.com/tutorial/save-as-csv-pandas-dataframe\n",
    "df_cust.to_csv('prices_customers.csv', index = False, encoding='utf-8')\n",
    "'''"
   ]
  },
  {
   "cell_type": "markdown",
   "metadata": {},
   "source": [
    "b) Bereiten Sie die Daten auf die weitere Analyse vor, indem Sie geeignete Datentransformations- und -bereinigungsschritte durchführen."
   ]
  },
  {
   "cell_type": "code",
   "execution_count": null,
   "metadata": {},
   "outputs": [],
   "source": [
    "df_cust = pd.read_csv('prices_customers.csv')\n",
    "print(\"Zeilen vor Bereinigung:\", df_cust.shape[0])\n",
    "\n",
    "df_cust['Datum'] = pd.to_datetime(df_cust['Datum'])\n",
    "\n",
    "def combine_price_columns(row):\n",
    "    if pd.isna(row['Preis im 1. Jahr*']):\n",
    "        return row['Preis im 1. Jahr']\n",
    "    return row['Preis im 1. Jahr*']\n",
    "\n",
    "def replace_string_from_row(row, column, string, string_to_replace_with):\n",
    "    if pd.isna(row[column]):\n",
    "        return row[column]\n",
    "    if string in row[column]:\n",
    "        return row[column].replace(string, string_to_replace_with)\n",
    "    return row[column]\n",
    "\n",
    "# Combine the two price columns into one\n",
    "df_cust['Preis'] = df_cust.apply(combine_price_columns, axis = 1)\n",
    "df_cust = df_cust.drop(columns = ['Preis im 1. Jahr*', 'Preis im 1. Jahr'])\n",
    "# Drop rows with NaN as Preis, because those rows aren't viable for a comparison later on\n",
    "# https://pandas.pydata.org/docs/reference/api/pandas.DataFrame.dropna.html\n",
    "df_cust = df_cust.dropna(subset=['Preis'])\n",
    "\n",
    "df_cust['Vertragslaufzeit'] = df_cust.apply(lambda row: replace_string_from_row(row, 'Vertragslaufzeit', \" Monate\", \"\"), axis=1)\n",
    "df_cust['Vertragslaufzeit'] = df_cust.apply(lambda row: replace_string_from_row(row, 'Vertragslaufzeit', \" Monat\", \"\"), axis=1)\n",
    "# Fill NaN values, so that dtype can be converted to int\n",
    "df_cust['Vertragslaufzeit'] = df_cust['Vertragslaufzeit'].fillna(0)\n",
    "df_cust['Vertragslaufzeit'] = df_cust['Vertragslaufzeit'].astype(int)\n",
    "\n",
    "df_cust['Preis'] = df_cust.apply(lambda row: replace_string_from_row(row, 'Preis', \" €/Monat\", \"\"), axis=1)\n",
    "# Change decimal comma, to decimal point for float conversion\n",
    "df_cust['Preis'] = df_cust.apply(lambda row: replace_string_from_row(row, 'Preis', \",\", \".\"), axis=1)\n",
    "df_cust['Preis'] = df_cust['Preis'].astype(float)\n",
    "df_cust = df_cust.rename(columns = {'Preis' : 'Preis im 1. Jahr/ pro Monat in €', 'Vertragslaufzeit' : 'Vertragslaufzeit in Monaten'})\n",
    "\n",
    "# Entfernung des Zeilumbruchs zur besseren Ausgabe des Tarifnamens\n",
    "df_cust['Tarif'] = df_cust.apply(lambda row: replace_string_from_row(row, 'Tarif', \"\\n\", \" \"), axis = 1)\n",
    "df_cust['Tarif'] = df_cust.apply(lambda row: replace_string_from_row(row, 'Tarif', \"  \", \" \"), axis = 1)\n",
    "\n",
    "print(\"Zeilen nach Bereinigung:\", df_cust.shape[0])\n",
    "\n"
   ]
  },
  {
   "cell_type": "code",
   "execution_count": null,
   "metadata": {},
   "outputs": [],
   "source": [
    "# Duplikate selber Tarif, selber  Anbieter mit dem selben Preis in der selben Stadt\n",
    "df_not_unique = df_cust[df_cust.duplicated(subset=['Stadt','Datum','Tarif','Anbieter', 'Preis im 1. Jahr/ pro Monat in €'], keep = False)]\n",
    "\n",
    "# 41 Duplikate?\n",
    "df_not_unique = df_not_unique.sort_values(by=['Stadt', 'Datum'])\n",
    "\n",
    "print(\"Vor der Bereinigung: \", df_cust.shape[0])\n",
    "\n",
    "# gefundene Duplikate nur erstes Vorkommen behalten\n",
    "df_cust = df_cust.drop_duplicates(subset=['Stadt','Datum','Tarif','Anbieter', 'Preis im 1. Jahr/ pro Monat in €'], keep = 'first')\n",
    "\n",
    "print(\"Nach der Bereinigung: \", df_cust.shape[0])\n"
   ]
  },
  {
   "cell_type": "markdown",
   "metadata": {},
   "source": [
    "c) Wie viele verschiedene Tarife wurden insgesamt angeboten? Zu wie vielen Tagen sind pro Stadt Daten vorhanden? Wie viele verschiedene Anbieter haben insgesamt Tarife angeboten?"
   ]
  },
  {
   "cell_type": "code",
   "execution_count": null,
   "metadata": {},
   "outputs": [],
   "source": [
    "unique_tariffe = df_cust['Tarif'].unique()\n",
    "print(\"Anzahl verschiedender Tarife:\" , len(unique_tariffe))\n",
    "\n",
    "# Occuring Städte in the DataSet\n",
    "number_of_total_cities = len(df_cust['Stadt'].unique())\n",
    "\n",
    "# Group with any aggregation to get all unique Datum/Stadt combination entries\n",
    "grouped_date_city = df_cust.groupby(['Datum', 'Stadt']).agg(Count=('Stadt', 'count')).reset_index()\n",
    "# Group and count how many different Stadt rows there are for each given date\n",
    "grouped_date = grouped_date_city.groupby( ['Datum'])['Stadt'].count()\n",
    "# Filter out the dates that don't have an entry for every Stadt of the DataSet\n",
    "filtered_dates = grouped_date[grouped_date == number_of_total_cities]\n",
    "print(\"Daten für alle Städte sind an\", len(filtered_dates), \"Tagen vorhanden\")\n",
    "\n",
    "unique_anbieter = df_cust['Anbieter'].unique()\n",
    "print(\"Anzahl der Anbieter die insgesamt Tarife angeboten haben:\", len(unique_anbieter))"
   ]
  },
  {
   "cell_type": "markdown",
   "metadata": {},
   "source": [
    "d) Ermitteln Sie, welche unterschiedlichen Tarife in Amberg angeboten wurden und visualisieren Sie exemplarisch für die Stadt Amberg den Füllgrad der Daten. Erstellen Sie dazu eine HeatMap, aus der hervorgeht, an welchen Tagen es zu welchen der ermittelten Tarife Angebotsdaten gab."
   ]
  },
  {
   "cell_type": "code",
   "execution_count": null,
   "metadata": {},
   "outputs": [],
   "source": [
    "df_amberg = df_cust[df_cust['Stadt'] == 'Amberg']\n",
    "df_amberg = df_amberg[['Datum', 'Tarif', 'Preis im 1. Jahr/ pro Monat in €']]\n",
    "unique_tarife_amberg = df_amberg['Tarif'].unique()\n",
    "\n",
    "print(\"Anzahl verschiedender Tarife:\" , len(unique_tarife_amberg))\n",
    "\n",
    "df_2024_daily = df_daily[df_daily['Datum'].dt.year == 2024]\n",
    "\n",
    "df_2024 = df_2024_daily[['Datum']].copy()\n",
    "\n",
    "# Setze den Index zurück und ändere den DataFrame inplace\n",
    "df_2024.reset_index(drop=True, inplace=True)\n",
    "\n",
    "# Füge eine neue Spalte 'Merge Key' mit dem Wert 1 für jede Zeile hinzu\n",
    "df_2024['Merge Key'] = 1\n",
    "\n",
    "df_tarife = pd.DataFrame({'Tarif' : unique_tarife_amberg})\n",
    "df_tarife['Merge Key'] = 1\n",
    "df_tarife\n",
    "\n",
    "\n",
    "df_merged_2024 = pd.merge(df_2024, df_tarife, how = 'left', on = 'Merge Key').drop('Merge Key', axis=1)\n",
    "\n",
    "print(df_merged_2024.shape)\n",
    "\n",
    "df_amberg_final = pd.merge(df_merged_2024, df_amberg, how = 'left', on = ['Datum', 'Tarif'])\n",
    "df_amberg_final = df_amberg_final.fillna(-1)\n",
    "df_amberg_final['Indicator'] = df_amberg_final['Preis im 1. Jahr/ pro Monat in €'].apply(lambda x: 1 if x != -1 else 0)\n",
    "\n",
    "df_temp = df_amberg_final.copy()\n",
    "\n",
    "df_häufigkeit = df_amberg_final.groupby('Tarif')['Indicator'].sum()\n",
    "df_häufigkeit.name ='Häufigkeit'\n",
    "df_häufigkeit.reset_index()\n",
    "\n",
    "df_amberg_final = pd.merge(df_amberg_final, df_häufigkeit, how = 'left', on = 'Tarif')\n",
    "df_amberg_final = df_amberg_final.sort_values(by ='Häufigkeit', ascending = False)\n",
    "df_amberg_final"
   ]
  },
  {
   "cell_type": "code",
   "execution_count": null,
   "metadata": {},
   "outputs": [],
   "source": [
    "# Neue Spalte für Hovertext hinzufügen\n",
    "df_amberg_final['HoverText'] = df_amberg_final['Indicator'].map({1: 'Vorhanden', 0: 'Nicht Vorhanden'})\n",
    "\n",
    "trace = go.Heatmap(\n",
    "    x = df_amberg_final['Datum'],\n",
    "    y = df_amberg_final['Tarif'],\n",
    "    z = df_amberg_final['Indicator'],\n",
    "    showscale = False,\n",
    "    hovertemplate = \n",
    "    'Datum: %{x} <br>'\n",
    "    'Verfügbarkeit: %{customdata}',\n",
    "    \n",
    "    customdata = df_amberg_final['HoverText'],\n",
    "    name='',\n",
    "    colorscale='magma'\n",
    ")\n",
    "\n",
    "data = [trace]\n",
    "\n",
    "layout = go.Layout(\n",
    "    title=go.layout.Title(\n",
    "        text='Tarife in Amberg',\n",
    "    ),\n",
    "    width = 1500,\n",
    "    height = 800,\n",
    "    \n",
    "     xaxis=go.layout.XAxis(\n",
    "        title=go.layout.xaxis.Title(\n",
    "            text='Datum',\n",
    "        )  \n",
    "    ),\n",
    "    \n",
    "    yaxis= go.layout.YAxis(\n",
    "        title=go.layout.yaxis.Title(\n",
    "            text= 'Tarife',\n",
    "        )\n",
    "    )\n",
    "    \n",
    "    \n",
    ")\n",
    "\n",
    "fig = go.Figure(data=data, layout=layout)\n",
    "fig.show()"
   ]
  },
  {
   "cell_type": "markdown",
   "metadata": {},
   "source": [
    "e) Visualisieren Sie die durchschnittliche Preisentwicklung im Verlauf des Jahres 2024 über alle Tarife und Orte hinweg. Berücksichtigen Sie dabei nur Tarife, bei denen die Vertragslaufzeit mindestens 12 Monate beträgt. Verwenden Sie dazu den Preis im 1. Jahr, der den monatlichen Preis unter Berücksichtigung des Grundpreises, des Arbeitspreises und von Bonuszahlungen o.ä. enthält. Untersuchen Sie anschließend den Zusammenhang zum Börsenstrompreis, indem Sie geeignete Kenngrößen berechnen und weitere Diagramme erstellen."
   ]
  },
  {
   "cell_type": "code",
   "execution_count": null,
   "metadata": {},
   "outputs": [],
   "source": [
    "filtered_12_months = df_cust[df_cust['Vertragslaufzeit in Monaten'] >= 12]\n",
    "df_mean_prices = filtered_12_months.groupby(['Datum']).agg(MeanPrice =('Preis im 1. Jahr/ pro Monat in €', 'mean')).reset_index()\n",
    "\n",
    "mean_price_total = df_mean_prices['MeanPrice'].mean()\n",
    "\n",
    "df_mean_prices['Difference to Total Mean'] = (df_mean_prices['MeanPrice'] - mean_price_total)\n",
    "# Constant value column for plotting the base line\n",
    "df_mean_prices['Total Mean'] = 0\n",
    "\n",
    "plt.figure(figsize=(20, 7))\n",
    "# Mean/Base line\n",
    "plt.plot(df_mean_prices['Datum'], df_mean_prices['Total Mean'], label = 'Durchschnittlicher Endkundenpreis 2024', color = 'gray', linestyle='--')\n",
    "# Label for Mean/Base line\n",
    "mean_line_label = str(round(mean_price_total,2)) + \" €\"\n",
    "plt.text(df_mean_prices['Datum'].min(), 0.35, mean_line_label, color='gray', fontsize=12)\n",
    "\n",
    "# Price Deviation line\n",
    "plt.plot(df_mean_prices['Datum'], df_mean_prices['Difference to Total Mean'], label = 'Abweichung in €', color = 'blue')\n",
    "\n",
    "#https://matplotlib.org/stable/api/_as_gen/matplotlib.pyplot.ylim.html\n",
    "# Center mean price, to balance out the appearance of change\n",
    "plt.ylim(bottom = -9, top = 9)\n",
    "\n",
    "plt.xlabel('2024', fontsize = 12) \n",
    "plt.ylabel('Abweichung', fontsize = 12)\n",
    "plt.title('Durchschnittliche Endkundenpreisentwicklung im Vergleich zum durchschnittlichen Endkundenpreis 2024', fontsize=14)\n",
    "plt.gca().xaxis.set_major_formatter(plt.matplotlib.dates.DateFormatter('%b'))\n",
    "plt.gca().xaxis.set_major_locator(plt.matplotlib.dates.MonthLocator())\n",
    "plt.grid(True, linestyle = '--', alpha = 0.5)\n",
    "\n",
    "plt.legend()\n",
    "plt.show()\n",
    "\n",
    "df_mean_prices = df_mean_prices.drop(columns = ['Difference to Total Mean', 'Total Mean'])\n"
   ]
  },
  {
   "cell_type": "markdown",
   "metadata": {},
   "source": [
    "Vergleich Endkundenpreis zu Börsenstrompreis"
   ]
  },
  {
   "cell_type": "code",
   "execution_count": null,
   "metadata": {},
   "outputs": [],
   "source": [
    "df_kunden_boerse = pd.merge(df_mean_prices, df_daily, on = 'Datum', how = 'left', validate='one_to_one')\n",
    "df_kunden_boerse = df_kunden_boerse[['Datum','MeanPrice', 'Day Ahead Auktion Preis (EUR/MWh)']]\n",
    "df_kunden_boerse = df_kunden_boerse.rename(columns = {'MeanPrice': 'Endkundenpreis pro 4000kWh (EUR/Monat)'})\n",
    "\n",
    "# 1 MWh = 1.000 kWh\n",
    "df_kunden_boerse['Börsenpreis pro kWh (EUR)'] = (df_kunden_boerse['Day Ahead Auktion Preis (EUR/MWh)'] / 1000)\n",
    "df_kunden_boerse['Endkundenpreis pro kWh (EUR)'] = (df_kunden_boerse['Endkundenpreis pro 4000kWh (EUR/Monat)'] * 12) / 4000\n",
    "\n",
    "plt.figure(figsize=(10, 10))\n",
    "plt.scatter(df_kunden_boerse['Endkundenpreis pro kWh (EUR)'], df_kunden_boerse['Börsenpreis pro kWh (EUR)'], alpha=0.75)\n",
    "plt.xlabel('Endkundenpreis pro kWh (EUR)', fontsize = 12) \n",
    "plt.ylabel('Börsenpreis pro kWh (EUR)', fontsize = 12)\n",
    "plt.title('Vergleich Börsenstrompreis zu Endkundenstrompreis')\n",
    "plt.show()"
   ]
  },
  {
   "cell_type": "markdown",
   "metadata": {},
   "source": [
    "Es lässt sich aus dem Scatter-Plot ablesen, dass die teils extremen Schwankungen des Börsenpreises sich nicht im Endkundenpreis wiederfinden, also es keine Korrelation zwischen den beiden Preisen zu geben scheint. "
   ]
  },
  {
   "cell_type": "code",
   "execution_count": null,
   "metadata": {},
   "outputs": [],
   "source": [
    "plt.figure(figsize=(15, 5))\n",
    "plt.plot(df_kunden_boerse['Datum'], df_kunden_boerse['Endkundenpreis pro kWh (EUR)'], label = 'Durchschnittlicher Preis pro kWh im 1. Jahr (Endkunde)', color = 'blue')\n",
    "plt.plot(df_kunden_boerse['Datum'], df_kunden_boerse['Börsenpreis pro kWh (EUR)'] , label = 'Durchschnittlicher Preis pro kWh (Börse)', color = 'gray')\n",
    "plt.ylabel('Preis pro kWh in €', fontsize = 12) \n",
    "plt.xlabel('2024', fontsize = 12)\n",
    "plt.title('Vergleich der durchschnittlichen Strompreise pro kWh Börse/Endkunde') \n",
    "plt.gca().xaxis.set_major_formatter(plt.matplotlib.dates.DateFormatter('%b'))\n",
    "plt.gca().xaxis.set_major_locator(plt.matplotlib.dates.MonthLocator())\n",
    "plt.grid(True, linestyle = '--', alpha = 0.5)\n",
    "plt.legend()\n",
    "plt.show()"
   ]
  },
  {
   "cell_type": "markdown",
   "metadata": {},
   "source": [
    "Auch in diesem Plot lässt sich noch mal erkennen dass der Endkundenpreis von den Schwankungen quasi unbeeinträchtigt ist. Jedoch sieht man auch dass der Börsenpreis bis auf ein paar Ausnahmen weit unter dem Endkundenpreis läuft."
   ]
  },
  {
   "cell_type": "code",
   "execution_count": null,
   "metadata": {},
   "outputs": [],
   "source": [
    "df_kunden_boerse['Marge Anbieter'] = df_kunden_boerse['Endkundenpreis pro kWh (EUR)'] - df_kunden_boerse['Börsenpreis pro kWh (EUR)'] \n",
    "\n",
    "plt.figure(figsize=(15, 5))\n",
    "plt.plot(df_kunden_boerse['Datum'], df_kunden_boerse['Marge Anbieter'], color = 'blue')\n",
    "plt.ylabel('Marge in €', fontsize = 12)\n",
    "plt.xlabel('2024', fontsize = 12)\n",
    "plt.title('Durchschnittliche Marge der Anbieter pro kWh')\n",
    "plt.gca().xaxis.set_major_formatter(plt.matplotlib.dates.DateFormatter('%b'))\n",
    "plt.gca().xaxis.set_major_locator(plt.matplotlib.dates.MonthLocator())\n",
    "plt.grid(True, linestyle = '--', alpha = 0.5)\n",
    "\n",
    "plt.ylim(-0.3, 0.3)\n",
    "plt.show()\n",
    "\n",
    "print(\"Minimale Marge: \" + str(round(df_kunden_boerse['Marge Anbieter'].min(),2)) + \"€\")\n",
    "print(\"Maximale Marge: \" + str(round(df_kunden_boerse['Marge Anbieter'].max(),2)) + \"€\")\n",
    "print(\"Durchschnittliche Marge: \" + str(round(df_kunden_boerse['Marge Anbieter'].mean(),2)) + \"€\")"
   ]
  },
  {
   "cell_type": "markdown",
   "metadata": {},
   "source": [
    "Die Marge des Anbieters ist – mit wenigen Ausnahmen – durchweg positiv. Selbst bei extremen Ausschlägen auf dem Strommarkt gibt der Anbieter die hohen Preise nicht vollständig an die Kunden weiter, sondern nimmt die Verluste in Kauf. Dennoch ist Mitleid mit den Stromanbietern nicht angebracht: Die durchschnittliche Marge von 0,19 € pro Einheit kompensiert diese Verluste über die 12-monatige Laufzeit hinweg. Dies gilt jedoch unter der Annahme, dass solche extremen Preissprünge tatsächlich nur vorübergehende Ausnahmen bleiben und sich der Börsenstrompreis nicht dauerhaft auf diesem hohen Niveau stabilisiert."
   ]
  },
  {
   "cell_type": "markdown",
   "metadata": {},
   "source": [
    "f) Erstellen Sie ein interaktives Liniendiagramm in Plotly, um die zeitliche Entwicklung der Angebotspreise pro Stadt zu visualisieren. Das Diagramm soll eine Dropdown-Liste enthalten, über die man die Stadt auswählen kann. Das Diagramm soll die Preisentwicklung für diejenigen zehn Tarife zeigen, die in der jeweiligen Stadt im Verlauf des Jahres am häufigsten angeboten wurden (die sich also am häufigsten unter den günstigsten 20 Tarifen beim Preisvergleich befanden). Durch Klick auf den Namen des Tarifs in der Legende soll es möglich sein, dessen Kurve im Diagramm ein- und auszublenden."
   ]
  },
  {
   "cell_type": "markdown",
   "metadata": {},
   "source": [
    "Zur Visualisierung der 10 häufisten Tarife pro Stadt gruppieren wir nach der Spalte Stadt und der Spalte Tarif und zählen diese. Das Ergebnis ist dann eine Series mit einem Multindex. \n",
    "Mit der Methode n.largest(10) werden die 10 größten Werte zurückgegeben. \n",
    "Um den ursprünglichen DataFrame und unserer Series zu mergen, setzen wir den Index zurück und mergen über die Spalten Stadt und Tarif. Anschließend werden die Zeilen mit NaN gedroppt. Zur übersichtlicheren weiteren Arbeit mit dem Dataframe entfernen wir die Spalten Anbieter und den vorherig berechneten Tarif_Count. "
   ]
  },
  {
   "cell_type": "code",
   "execution_count": null,
   "metadata": {},
   "outputs": [],
   "source": [
    "df_citys = df_cust.groupby(['Stadt', 'Tarif'])['Tarif'].count()\n",
    "df_citys.name = 'Tarif_Count'\n",
    "\n",
    "top_10_per_city = df_citys.groupby('Stadt', group_keys=False).nlargest(10)\n",
    "df_top_10 = top_10_per_city.reset_index()\n",
    "\n",
    "\n",
    "df_top_10_final = pd.merge(df_cust, df_top_10, how = 'left', on = ['Stadt', 'Tarif']).dropna().reset_index(drop=True)\n",
    "df_top_10_final = df_top_10_final.drop(columns = ['Tarif_Count', 'Anbieter'])"
   ]
  },
  {
   "cell_type": "code",
   "execution_count": null,
   "metadata": {},
   "outputs": [],
   "source": [
    "fig = go.Figure()\n",
    "df_top_10_final = df_top_10_final.sort_values(by='Stadt')\n",
    "cities = df_top_10_final['Stadt'].unique()\n",
    "\n",
    "trace_list = []\n",
    "\n",
    "for city in cities:\n",
    "    city_data = df_top_10_final[df_top_10_final['Stadt'] == city]\n",
    "    \n",
    "    #trace (line) for each tarif and city\n",
    "    for tarif in city_data['Tarif'].unique():\n",
    "        tarif_city_data = city_data[city_data['Tarif'] == tarif]\n",
    "        # Sort values by date, so that trace connects the rows in the right order\n",
    "        tarif_city_data = tarif_city_data.sort_values(by='Datum')\n",
    "  \n",
    "        #https://plotly.com/python/reference/scatter/\n",
    "        \n",
    "        trace = go.Scatter(\n",
    "            x=tarif_city_data['Datum'],\n",
    "            y=tarif_city_data['Preis im 1. Jahr/ pro Monat in €'],\n",
    "            mode='lines',\n",
    "            name=f'{tarif}',\n",
    "            meta = city,\n",
    "            # initally all traces are hidden\n",
    "            visible=False,\n",
    "            \n",
    "            hovertemplate =\n",
    "            'Datum: %{x} <br>' \n",
    "            'Preis: %{y}€'\n",
    "            # https://plotly.com/python/hover-text-and-formatting/\n",
    "             '<extra></extra>',\n",
    "        )\n",
    "        \n",
    "        trace_list.append(trace)\n",
    "        fig.add_trace(trace)\n",
    "\n",
    "\n",
    "\n",
    "def visible(city):\n",
    "    visibility = []\n",
    "    for trace in fig.data:\n",
    "        if city in trace.meta:\n",
    "            visibility.append(True)\n",
    "        else:\n",
    "            visibility.append(False) \n",
    "    return visibility  \n",
    "\n",
    "# Showing Amberg first\n",
    "\n",
    "visibility_flags = visible('Amberg')\n",
    "\n",
    "for index, trace in enumerate(fig.data):\n",
    "    trace.visible = visibility_flags[index]\n",
    "\n",
    "    \n",
    "\n",
    "# Add the dropdown menu for selecting the city\n",
    "\n",
    "# https://stackoverflow.com/questions/66414456/update-visibility-of-traces-with-fig-update-layout-plotly\n",
    "\n",
    "fig.update_layout(\n",
    "    updatemenus=[\n",
    "        dict(\n",
    "            buttons=[\n",
    "                {\n",
    "                    'label': city,\n",
    "                    'method': 'update',\n",
    "                    'args': [\n",
    "                        {'visible': visible(city)}\n",
    "                    ]\n",
    "                } for city in cities\n",
    "            ],\n",
    "            direction='down',\n",
    "            showactive=True,\n",
    "            x=-0.08,\n",
    "            xanchor='right',\n",
    "            y=1,  \n",
    "            yanchor='top'\n",
    "        )\n",
    "        \n",
    "    ]\n",
    ")\n",
    "\n",
    "y_min = df_top_10_final['Preis im 1. Jahr/ pro Monat in €'].min()\n",
    "y_max = df_top_10_final['Preis im 1. Jahr/ pro Monat in €'].max()\n",
    "fig.update_layout(\n",
    "    autosize=False, \n",
    "    width=1550,      \n",
    "    height=500,\n",
    "    title = 'Preise der 10 häufigsten Tarife pro Stadt für 2024',\n",
    "    xaxis_title=\"Datum\",\n",
    "    yaxis_title=\"Endkundenpreis in €\",\n",
    "    yaxis = dict(\n",
    "        range = [y_min, y_max]\n",
    "    )\n",
    ")\n",
    "\n",
    "\n",
    "fig.show()"
   ]
  },
  {
   "cell_type": "markdown",
   "metadata": {},
   "source": [
    "g) Untersuchen Sie mit Hilfe des Diagramms die Preisentwicklung der verschiedenen Anbieter in Amberg. Welche Empfehlungen leiten Sie für den Abschluss eines neuen Vertrags ab?"
   ]
  },
  {
   "cell_type": "markdown",
   "metadata": {},
   "source": [
    "Grundsätzlich zeigt sich beim Vergleich der 10 häufigsten Tarife in Amberg für das Jahr 2024, dass sich ein Preisvergleich immer lohnt, um den besten Preis zu finden.\n",
    "Sichtbar wird, dass sich vor allem ab der Jahresmitte die Endkundenpreise der verschieden Tarife in 2 Richtungen entwickeln, wodurch sich ein paar teurere und ein paar günstigere Tarife für den Rest des Jahres ergeben. Unsere Schlussfolgerung aus dem Jahr 2024 ist dementsprechend, dass sich vor allem zur Jahreshälfte ein Preisvergleich lohnen kann. \n",
    "\n",
    "Die günstigsten Tarife 2024 waren hierbei der Tarif rabot.home flex, der Tarif Fairpower X und der Tarif Dynmaischer Tarif. Diese könnten potentiell auch im nächsten Jahr günstiger sein. "
   ]
  },
  {
   "cell_type": "markdown",
   "metadata": {},
   "source": [
    "h) Untersuchen Sie die durchschnittlichen Preisniveaus pro Stadt und visualisieren Sie diese auf einer Karte in Folium. Lassen sich bestimmte Trends und Einflussfaktoren erkennen?"
   ]
  },
  {
   "cell_type": "markdown",
   "metadata": {},
   "source": [
    "Wir haben die Koordinaten der Städte rausgesucht und im CSV-File 'coordinates.csv' abgespeichert. Dazu haben wir auch noch den Regierungsbezirk und die Einwohnerzahl (Stand 2022/2024) der Städte eingetragen, um potenzielle Einflussfaktoren auf den Strompreis zu überprüfen."
   ]
  },
  {
   "cell_type": "code",
   "execution_count": null,
   "metadata": {},
   "outputs": [],
   "source": [
    "df_cities_coordinates = pd.read_csv('coordinates.csv')\n",
    "\n",
    "df_city_price_mean = df_cust.groupby(['Stadt']).agg(Durchschnittspreis=('Preis im 1. Jahr/ pro Monat in €', 'mean')).reset_index()\n",
    "df_city_price_mean['Durchschnittspreis'] = df_city_price_mean['Durchschnittspreis'].round(2)\n",
    "\n",
    "df_city_price_map = pd.merge(df_city_price_mean, df_cities_coordinates, on = 'Stadt', how = 'left', validate='one_to_one')\n",
    "\n",
    "# Start map at mean Location of all the data rows\n",
    "prices_map = folium.Map(location=[df_cities_coordinates['Latitude'].mean(), df_cities_coordinates['Longitude'].mean()])\n",
    "\n",
    "# Circle Marker red if the city is more expensive than the average, red if less\n",
    "total_mean_price = df_cust['Preis im 1. Jahr/ pro Monat in €'].mean().round(2)\n",
    "print('Bayrischer Durchschnittspreis: ' + str(total_mean_price) + '€')\n",
    "def decide_color_for_marker(price):\n",
    "    if price >= total_mean_price:\n",
    "        return 'red'\n",
    "    return 'green'\n",
    "\n",
    "print(\"Grün: Billiger als der Durchschnitt, Rot: Teurer als der Durchschnitt\")\n",
    "# https://python-visualization.github.io/folium/latest/user_guide/vector_layers/circle_and_circle_marker.html\n",
    "for index, row in df_city_price_map.iterrows():\n",
    "    folium.CircleMarker(\n",
    "        location=[row['Latitude'], row['Longitude']],\n",
    "        radius= 10,\n",
    "        color=decide_color_for_marker(row['Durchschnittspreis']),\n",
    "        fill=True,\n",
    "        fill_color=decide_color_for_marker(row['Durchschnittspreis']),\n",
    "        fill_opacity=1,\n",
    "        popup=f\"{row['Stadt']}: {row['Durchschnittspreis']} Durchschnittspreis\",\n",
    "        tooltip=f\"{row['Stadt']}, {row['Durchschnittspreis']} €\"\n",
    "    ).add_to(prices_map)\n",
    "\n",
    "prices_map"
   ]
  },
  {
   "cell_type": "markdown",
   "metadata": {},
   "source": [
    "Man kann in der Karte erkennen, dass in der Region der Oberpfalz viele Kreise rot sind und damit teurer als der bayrische Durchschnitt.\n",
    "Heißt das die Oberpfalz hat einfach teuren Strom?"
   ]
  },
  {
   "cell_type": "code",
   "execution_count": null,
   "metadata": {},
   "outputs": [],
   "source": [
    "# Filtering out outliers (Großstädte) --> makes linear correlation easier/possible\n",
    "# especially München and Nürnberg are just too big to correlate this way\n",
    "# dropping München, Nürnberg, Ausburg, Ingolstadt, Würzburg, Erlangen and Regensburg\n",
    "df_city_price_map_without_outliers = df_city_price_map.copy()\n",
    "df_city_price_map_without_outliers = df_city_price_map_without_outliers[(df_city_price_map['Einwohner'] <= 100_000)]\n",
    "\n",
    "plt.scatter(df_city_price_map_without_outliers['Einwohner'],df_city_price_map_without_outliers['Durchschnittspreis'])\n",
    "plt.ylabel('Durchschnittler Endverbraucherpreis €')\n",
    "plt.xlabel('Einwohner')\n",
    "plt.title('Zusammenhang Strompreis und Einwohner (ohne Großstädte)')\n",
    "plt.show()\n",
    "\n",
    "# Show correlation between Einwohner and Preis\n",
    "df_city_price_map_corr = df_city_price_map_without_outliers[['Einwohner', 'Durchschnittspreis']]\n",
    "print(df_city_price_map_corr.corr())"
   ]
  },
  {
   "cell_type": "markdown",
   "metadata": {},
   "source": [
    "Wir haben noch die Einwohner der Städte betrachtet, und überlegt ob Einwohnerzahl und Strompreis für den Kunden zusammenhängen. \n",
    "Und tatsächlich, wenn man die Großstädte für die Korrelation herausfiltert, erkennt man einen Trend, das besonders kleine Orte und Städte teureren Strom haben als größere Städte. Also hat die Oberpfalz vielleicht in diesem Datensatz einfach kleinere Städte, die den Durchschnittspreis nach oben treiben?"
   ]
  },
  {
   "cell_type": "code",
   "execution_count": null,
   "metadata": {},
   "outputs": [],
   "source": [
    "df_regierungsbezirk = df_city_price_map.groupby('Regierungsbezirk').agg(\n",
    "    Durchschnittspreis=('Durchschnittspreis', 'mean'),\n",
    "    DurchschnittlicheEinwohner=('Einwohner', 'mean')\n",
    ").reset_index()\n",
    "\n",
    "df_regierungsbezirk = df_regierungsbezirk.sort_values(by='Durchschnittspreis', ascending=False)\n",
    "\n",
    "plt.figure(figsize=(15, 5))\n",
    "plt.bar(df_regierungsbezirk['Regierungsbezirk'], df_regierungsbezirk['Durchschnittspreis'])\n",
    "plt.ylabel('Durchschnittlicher Endkundenpreis €')\n",
    "plt.title('Preisvergleich der bayrischen Regierungsbezirke (mit Großstädten)')\n",
    "plt.show()\n",
    "\n",
    "df_regierungsbezirk"
   ]
  },
  {
   "cell_type": "markdown",
   "metadata": {},
   "source": [
    "Die Oberpfalz weist in diesem Datensatz eine Vielzahl kleiner Orte und Städte auf und hat mit Abstand die geringste durchschnittliche Einwohnerzahl. Nach unseren Beobachtungen trägt dies dazu bei, die Strompreise nach oben zu treiben. Dies zeigt sich auch auf der Karte, wo nur die größeren Städte der Oberpfalz, wie Regensburg, Amberg und Weiden, grün markiert sind, da sie günstigere Strompreise aufweisen.\n",
    "\n",
    "In Schwaben und Oberbayern hingegen sind die Strompreise ebenfalls hoch. Besonders auffällig ist dies in München/Kempten und deren Umgebung, wo trotz der Größe der Stadt die Stromkosten vergleichsweise teuer bleiben, das heißt auch die Lage beeinflusst die Strompreise, dabei kann man in der Karte herauslesen, dass der Süden Bayerns tendenziell den teureren Strom hat (im Vergleich zum Norden)"
   ]
  },
  {
   "cell_type": "markdown",
   "metadata": {},
   "source": [
    "i) Im Merkmal Anbieter befinden sich kurze Beschreibungen der Anbieter und der Tarife. Erstellen Sie mit Hilfe des Pakets WordCloud eine Wortwolke für die Anbieter-Beschreibungen und untersuchen Sie, welche Schlagworte besonders häufig auftreten."
   ]
  },
  {
   "cell_type": "markdown",
   "metadata": {},
   "source": [
    "Wir splitten die Anbieter-Beschreibungen auf, entfernen Satzzeichen und Füllwörter und bauen dann daraus die WordCloud."
   ]
  },
  {
   "cell_type": "code",
   "execution_count": null,
   "metadata": {},
   "outputs": [],
   "source": [
    "def remove_punctuation_from_anbieter(anbieter):\n",
    "    punctuations = [\n",
    "        \".\", \",\", \"/\", \"&\", \"-\", \"_\", \":\", \";\", \"!\", \"?\", \"#\", \"%\", \"$\", \"@\", \"^\", \"+\",\n",
    "        \"=\", \"(\", \")\", \"[\", \"]\", \"{\", \"}\", \"<\", \">\", \"|\", \"~\", \"'\", \"`\"]\n",
    "    for p in punctuations:\n",
    "        anbieter = anbieter.replace(p, \"\")\n",
    "    return anbieter\n",
    "    \n",
    "def remove_non_buzzwords_from_anbieter(anbieter):\n",
    "    anbieter_words = anbieter.split() # Isolate each word of Anbieter\n",
    "\n",
    "    words_to_remove = [\n",
    "        'der', 'die', 'das', 'des', 'und', 'ein', 'eine', 'einen', 'mit', 'ist', 'den', 'dem', 'zu', 'von', 'vom', \n",
    "        'auf', 'im', 'an', 'für', 'am', 'als', 'es', 'aber', 'auch', 'aus', 'bei', 'dass', 'um'\n",
    "        'du', 'er', 'sie', 'wir', 'ihr', 'ihnen', 'ihm', 'euch', 'mir', 'mich', \n",
    "        'mein', 'meine', 'dein', 'deine', 'sein', 'seine', 'ihr', 'ihre', \n",
    "        'noch', 'schon', 'oder', 'so', 'wie', 'was', 'wer', 'wenn', 'beim'\n",
    "        'warum', 'weil', 'dann', 'doch', 'nur', 'diese', 'dieser', 'dieses', \n",
    "        'jeder', 'jede', 'jedes', 'keiner', 'keine', 'kein', 'welche', 'welcher', \n",
    "        'man', 'damit', 'über', 'unter', 'haben', 'hat', 'sein', 'sind', 'war', 'waren', \n",
    "        'dabei', 'in', 'seit', 'durch', 'ihren', 'einer', 'sowie', 'gmbh', 'kg', 'ag']\n",
    "\n",
    "    filtered_words = []\n",
    "    \n",
    "    for word in anbieter_words:\n",
    "        # Only keep words that are buzzwords\n",
    "        if word.lower() not in words_to_remove:\n",
    "            filtered_words.append(word)\n",
    "\n",
    "    # https://www.w3schools.com/python/ref_string_join.asp\n",
    "    return ' '.join(filtered_words)\n",
    "\n",
    "# Take every Anbieter Description once\n",
    "unique_anbieter_strs = df_cust['Anbieter'].unique()\n",
    "\n",
    "for i in range(len(unique_anbieter_strs)):\n",
    "    unique_anbieter_strs[i] = remove_punctuation_from_anbieter(unique_anbieter_strs[i])\n",
    "    unique_anbieter_strs[i] = remove_non_buzzwords_from_anbieter(unique_anbieter_strs[i])\n",
    "\n",
    "# Create one String out of all different Anbieter \n",
    "combined_text = ' '.join(unique_anbieter_strs)\n",
    "\n",
    "cloud = WordCloud(background_color='white').generate(combined_text)\n",
    "plt.figure(figsize=(12,5))\n",
    "plt.imshow(cloud)\n",
    "plt.axis('off')\n",
    "plt.show()\n"
   ]
  },
  {
   "cell_type": "markdown",
   "metadata": {},
   "source": [
    "Die häufigsten Wörter, wie \"Strom\" und \"Energie\", sind wenig überraschend und unterstreichen den Fokus der Anbieter auf ihr Kerngeschäft. Auffällig ist jedoch, dass auch gezielt Schlagwörter wie \"Kunden\", \"bieten\", \"Ökostrom\" und \"versorgt\" verwendet werden. Diese Begriffe sollen potenziellen Kunden gefallen und sie dazu bewegen, sich für den Tarif des jeweiligen Anbieters statt für die Konkurrenz zu entscheiden."
   ]
  },
  {
   "cell_type": "markdown",
   "metadata": {},
   "source": [
    "### Quellenverzeichnis\n",
    "<a id = \"quellenverzeichnis\"></a>\n",
    "\n",
    "[Zurück zum Inhaltsverzeichnis](#inhaltsverzeichnis)"
   ]
  }
 ],
 "metadata": {
  "kernelspec": {
   "display_name": "Python 3",
   "language": "python",
   "name": "python3"
  },
  "language_info": {
   "codemirror_mode": {
    "name": "ipython",
    "version": 3
   },
   "file_extension": ".py",
   "mimetype": "text/x-python",
   "name": "python",
   "nbconvert_exporter": "python",
   "pygments_lexer": "ipython3",
   "version": "3.11.9"
  }
 },
 "nbformat": 4,
 "nbformat_minor": 2
}
