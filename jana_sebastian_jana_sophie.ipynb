{
 "cells": [
  {
   "cell_type": "markdown",
   "metadata": {},
   "source": [
    "# Projektarbeit Data Analytics\n",
    "\n",
    "Sebastian Jana,\n",
    "Sophie Jana\n",
    "\n",
    "## Inhaltsverzeichnis\n",
    "<a id =\"inhaltsverzeichnis\"></a>\n",
    "\n",
    "[1. Aufgabe](#aufgabe1)\n",
    "\n",
    "2. Aufgabe\n",
    "\n",
    "3. Aufgabe\n",
    "\n",
    "4. Aufgabe\n",
    "5. Aufgabe\n",
    "6. Aufgabe\n",
    "\n",
    "[7. Quellenverzeichnis](#quellenverzeichnis)\n",
    "\n",
    "\n"
   ]
  },
  {
   "cell_type": "markdown",
   "metadata": {},
   "source": [
    "### Aufgabe 1 (Datenvorbereitung)\n",
    "<a id = \"aufgabe1\"></a>\n",
    "\n",
    "[Zurück zum Inhaltsverzeichnis](#inhaltsverzeichnis)\n",
    "\n",
    "a) Einlesen der CSV Dateien, welche die Stromerzeugungsdaten und die Börsenstrompreise enthalten, als Dataframe df_hourly.\n"
   ]
  },
  {
   "cell_type": "code",
   "execution_count": 2,
   "metadata": {},
   "outputs": [],
   "source": [
    "import pandas as pd\n",
    "import numpy as np"
   ]
  },
  {
   "cell_type": "code",
   "execution_count": null,
   "metadata": {},
   "outputs": [
    {
     "name": "stdout",
     "output_type": "stream",
     "text": [
      "            Datum (MESZ)  Leistung nicht erneuerbar (MW)  \\\n",
      "0    2021-08-16 00:00:00                        16015.81   \n",
      "1    2021-08-16 01:00:00                        15629.83   \n",
      "2    2021-08-16 02:00:00                        15322.51   \n",
      "3    2021-08-16 03:00:00                        15026.53   \n",
      "4    2021-08-16 04:00:00                        14987.63   \n",
      "..                   ...                             ...   \n",
      "163  2021-04-25 19:00:00                        18362.77   \n",
      "164  2021-04-25 20:00:00                        19477.05   \n",
      "165  2021-04-25 21:00:00                        19214.45   \n",
      "166  2021-04-25 22:00:00                        18964.11   \n",
      "167  2021-04-25 23:00:00                        18759.39   \n",
      "\n",
      "     Leistung erneuerbar (MW)  Day Ahead Auktion Preis (EUR/MWh) Datum (MEZ)  \n",
      "0                    19041.64                              68.19         NaN  \n",
      "1                    19420.11                              65.03         NaN  \n",
      "2                    19738.75                              62.08         NaN  \n",
      "3                    20822.64                              60.13         NaN  \n",
      "4                    21578.78                              60.82         NaN  \n",
      "..                        ...                                ...         ...  \n",
      "163                  18593.89                              65.93         NaN  \n",
      "164                  16565.88                              67.88         NaN  \n",
      "165                  17819.31                              66.00         NaN  \n",
      "166                  18205.01                              64.98         NaN  \n",
      "167                  17537.43                              59.98         NaN  \n",
      "\n",
      "[43896 rows x 5 columns]\n"
     ]
    }
   ],
   "source": [
    "import os\n",
    "import glob\n",
    "\n",
    "path = './Daten/Strompreisdaten'\n",
    "csv_files = glob.glob(os.path.join(path, \"*csv\"))\n",
    "\n",
    "# df erzeugen\n",
    "df_list = []\n",
    "for i in range(len(csv_files)):\n",
    "    try:\n",
    "        df_temp = pd.read_csv(csv_files[i], sep = \",\")\n",
    "        # df mit neuer file appenden\n",
    "        df_temp = df_temp.rename(columns = {'Datum (MESZ)' : 'Datum'})\n",
    "        \n",
    "        df_temp = df_temp.rename(columns = {'Datum (MEZ)' : 'Datum'})\n",
    "        df_list.append(df_temp)\n",
    "    except Exception as e: \n",
    "        print(\"Fehler beim Einlesen des Files: \", csv_files[i])\n",
    "    \n",
    "df_hourly = pd.concat(df_list)\n",
    "print(df_hourly)\n",
    "\n",
    "df_neu = df_hourly[df_hourly[\"Datum (MEZ)\"].notnull()]\n",
    "# df_neu"
   ]
  },
  {
   "cell_type": "markdown",
   "metadata": {},
   "source": [
    "### Quellenverzeichnis\n",
    "<a id = \"quellenverzeichnis\"></a>\n",
    "\n",
    "[1] \n",
    "\n",
    "[Zurück zum Inhaltsverzeichnis](#inhaltsverzeichnis)"
   ]
  }
 ],
 "metadata": {
  "kernelspec": {
   "display_name": "base",
   "language": "python",
   "name": "python3"
  },
  "language_info": {
   "codemirror_mode": {
    "name": "ipython",
    "version": 3
   },
   "file_extension": ".py",
   "mimetype": "text/x-python",
   "name": "python",
   "nbconvert_exporter": "python",
   "pygments_lexer": "ipython3",
   "version": "3.11.5"
  }
 },
 "nbformat": 4,
 "nbformat_minor": 2
}
