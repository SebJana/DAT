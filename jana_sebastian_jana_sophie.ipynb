{
 "cells": [
  {
   "cell_type": "markdown",
   "metadata": {},
   "source": [
    "# Projektarbeit Data Analytics\n",
    "\n",
    "Sebastian Jana,\n",
    "Sophie Jana\n",
    "\n",
    "## Inhaltsverzeichnis\n",
    "<a id =\"inhaltsverzeichnis\"></a>\n",
    "\n",
    "[1. Aufgabe](#aufgabe1)\n",
    "\n",
    "[2. Aufgabe](#aufgabe2)\n",
    "\n",
    "[3. Aufgabe](#aufgabe3)\n",
    "\n",
    "4. Aufgabe\n",
    "5. Aufgabe\n",
    "\n",
    "[6. Aufgabe](#aufgabe6)\n",
    "\n",
    "[7. Quellenverzeichnis](#quellenverzeichnis)\n",
    "\n",
    "\n"
   ]
  },
  {
   "cell_type": "markdown",
   "metadata": {},
   "source": [
    "### Aufgabe 1 (Datenvorbereitung)\n",
    "<a id = \"aufgabe1\"></a>\n",
    "\n",
    "[Zurück zum Inhaltsverzeichnis](#inhaltsverzeichnis)\n",
    "\n",
    "a) Einlesen der CSV Dateien, welche die Stromerzeugungsdaten und die Börsenstrompreise enthalten, als Dataframe df_hourly.\n",
    "\n",
    "Nach dem ersten Zusammenführen haben wir festgestellt, dass die Datumsspalte je nach CSV-Datei unterschiedliche Namen für Sommerzeit und Winterzeit hat. Dies führt dazu, dass beim Zusammenführen zwei separate Spalten entstehen. Um dies zu vermeiden, prüfen wir bereits beim Einlesen der Dateien die Spaltennamen und führen sie zu einer einheitlichen Spalte „Datum“ im df_hourly zusammen\n"
   ]
  },
  {
   "cell_type": "code",
   "execution_count": null,
   "metadata": {},
   "outputs": [],
   "source": [
    "import pandas as pd\n",
    "import numpy as np\n",
    "import os\n",
    "import glob\n",
    "import matplotlib.pyplot as plt\n"
   ]
  },
  {
   "cell_type": "code",
   "execution_count": null,
   "metadata": {},
   "outputs": [],
   "source": [
    "# Sources for reading csv files from one folder[1],[2]\n",
    "path = './Daten/Strompreisdaten'\n",
    "# List all files (.csv) in the given path\n",
    "csv_files = glob.glob(os.path.join(path, \"*csv\"))\n",
    "\n",
    "df_list = []\n",
    "for i in range(len(csv_files)):\n",
    "    try:\n",
    "        df_temp = pd.read_csv(csv_files[i], sep = \",\")\n",
    "        for column in df_temp.columns:\n",
    "            # Combine the date columns, by getting rid of the naming difference in csv source\n",
    "            if 'Datum (MESZ)' in column:\n",
    "                df_temp = df_temp.rename(columns = {'Datum (MESZ)':'DateTime'})\n",
    "            elif 'Datum (MEZ)' in column:\n",
    "                df_temp = df_temp.rename(columns = {'Datum (MEZ)':'DateTime'})\n",
    "        df_list.append(df_temp)\n",
    "    except Exception as err: \n",
    "        print(\"Fehler beim Einlesen des Files: \", err)\n",
    "    \n",
    "df_hourly = pd.concat(df_list)\n",
    "df_hourly\n"
   ]
  },
  {
   "cell_type": "markdown",
   "metadata": {},
   "source": [
    "b) Zur besseren anschließenden Analyse überführen wir die Datumsspalte (vorher dytpe: object) in ein Date-Time-Format. Überprüfung, ob nach der Konvertierung invalide Datumswerte existieren, was nicht der Fall ist.\n",
    "Alle anderen Spalten haben den dtype float64 und werden so belassen.\n",
    "Entfernung aller Datensätze, die nicht im Betrachtungszeitraum liegen (2020-2024). Durch Filterung über das Jahr werden 48 Einträge entfernt, da diese nicht in den Betrachtungszeitraum fallen."
   ]
  },
  {
   "cell_type": "code",
   "execution_count": null,
   "metadata": {},
   "outputs": [],
   "source": [
    "print(df_hourly.shape)\n",
    "# Converting the column \"DateTime\" from object to DateTime format\n",
    "# Invalid values are converted to NaT (Not a Time)\n",
    "# Source: [3]\n",
    "df_hourly['DateTime'] = pd.to_datetime(df_hourly['DateTime'], errors=\"coerce\")\n",
    "print(df_hourly.dtypes)\n",
    "print(df_hourly['DateTime'].isna().any())\n",
    "\n",
    "\n",
    "# Create column \"Date\" from column \"DateTime\" [4]\n",
    "df_hourly = df_hourly[(df_hourly['DateTime'].dt.year >= 2020) & (df_hourly['DateTime'].dt.year <= 2024)]\n",
    "\n",
    "# 48 rows deleted\n",
    "print(df_hourly.shape) \n",
    "\n"
   ]
  },
  {
   "cell_type": "markdown",
   "metadata": {},
   "source": [
    "c) Beurteilung der Datenqualität und notwenige Datenbereinigungsschritte. \n",
    "Qualität der Datumsdaten wurde durch Konvertierung schon überprüft. df_hourly enthält nur Werte für die Jahre 2020-2024. Dataframe enthält keine Null-Werte."
   ]
  },
  {
   "cell_type": "code",
   "execution_count": null,
   "metadata": {},
   "outputs": [],
   "source": [
    "# Check for missing values\n",
    "print(df_hourly.isnull().sum())\n",
    "print(df_hourly.notnull().sum())\n",
    "\n"
   ]
  },
  {
   "cell_type": "markdown",
   "metadata": {},
   "source": [
    "d) Erzeugung eines Dataframes df_daily, das für jeden Tag die aggregierten Werte der Leistung der erneuerbaren und nicht erneuerbaren Energiequellen, sowie den täglichen Mittelwert des Börsenpreis enthält. Diese Art der Gruppierung ist sinnvoll für die weitere Analyse, um Trends auf Tagesbasis zu analysieren.\n",
    "\n",
    "Zur Gruppierung nach Tagen machen wir aus der DateTime nur noch das Datum, indem wir die Uhrzeit entfernen. Anschließend gruppieren wir die Daten nach Datum, wobei die Leistung nicht erneuerbarer und erneuererbarer Energie jeweils für den Tag aufsummiert wird. Zudem gruppieren wir nochmals nach dem Tag und berechnen für jeden Tag den mittleren Börsenpreis. Abschließend joinen wir zu einem gemeinsamen Dataframe df_daily."
   ]
  },
  {
   "cell_type": "code",
   "execution_count": null,
   "metadata": {},
   "outputs": [],
   "source": [
    "# Grouping by the date without time\n",
    "# We use a copy to avoid the SettingWithCopyWarning that occurs when we modifiy a view of the original df [5]\n",
    "\n",
    "df_stunde = df_hourly.copy()\n",
    "\n",
    "df_stunde['Datum'] = df_stunde['DateTime'].dt.date\n",
    "\n",
    "df_daily = df_stunde.groupby('Datum')[['Leistung nicht erneuerbar (MW)', 'Leistung erneuerbar (MW)' ]].sum()\n",
    "\n",
    "df_mean = df_stunde.groupby('Datum')['Day Ahead Auktion Preis (EUR/MWh)'].mean()\n",
    "\n",
    "df_daily = pd.merge(df_daily, df_mean, on='Datum', how='left').reset_index()\n",
    "\n",
    "# Change Datum again to datetime format\n",
    "\n",
    "df_daily['Datum'] = pd.to_datetime(df_daily['Datum'])\n",
    "\n",
    "df_daily\n"
   ]
  },
  {
   "cell_type": "markdown",
   "metadata": {},
   "source": [
    "### Aufgabe 2 (Explorative Analyse der Stromerzeugungs- und Preisdaten)\n",
    "<a id = \"aufgabe2\"></a>\n",
    "\n",
    "[Zurück zum Inhaltsverzeichnis](#inhaltsverzeichnis)\n",
    "\n",
    "\n",
    "a) An Welchen 10 Tagen im Betrachtungszeitraum wurden am meisten Strom aus erneuerbaren Energieträgern erzeugt?\n",
    "\n",
    "Wir beobachten, dass die Tage, an denen der meiste Strom aus erneuererbaren Energieträgern erzeugt wurde, vorwiegend in die Monate Dezember und Februar fallen. "
   ]
  },
  {
   "cell_type": "code",
   "execution_count": null,
   "metadata": {},
   "outputs": [],
   "source": [
    "ten_highest_days = df_daily.sort_values(by = 'Leistung erneuerbar (MW)', ascending=False).head(10)\n",
    "ten_highest_days\n"
   ]
  },
  {
   "cell_type": "markdown",
   "metadata": {},
   "source": [
    "b) An welchem Tag im Betrachtungszeitraum wurde der höchste Börsenstrompreis verzeichnet und wie hoch war er? (26.08.22)\n",
    "An welchem Tag im Betrachtungszeitraum wurde der niedrigste Börsenstrompreis verzeichnet und wie hoch war er? (2.7.23)"
   ]
  },
  {
   "cell_type": "code",
   "execution_count": null,
   "metadata": {},
   "outputs": [],
   "source": [
    "highest_price = df_daily['Day Ahead Auktion Preis (EUR/MWh)'].max()\n",
    "date_highest_price = df_daily[df_daily['Day Ahead Auktion Preis (EUR/MWh)'] == highest_price]\n",
    "\n",
    "print(\"Tag mit dem höchsten Börsenstrompreis: \" ,date_highest_price['Datum'].dt.date.values[0])\n",
    "print(\"Höchster Börsenstrompreis: \", highest_price)\n",
    "\n",
    "lowest_price = df_daily['Day Ahead Auktion Preis (EUR/MWh)'].min()\n",
    "date_lowest_price = (df_daily.loc[df_daily['Day Ahead Auktion Preis (EUR/MWh)'] == lowest_price])\n",
    "print(\"Tag mit dem niedrigsten Börsenstrompreis: \", date_lowest_price['Datum'].dt.date.values[0])\n",
    "print(\"Niedrigster Börsenstrompreis\", lowest_price)\n"
   ]
  },
  {
   "cell_type": "markdown",
   "metadata": {},
   "source": [
    "c) Wie viele Tage gab es im Betrachtungszeitraum 2020-2024, an denen ein negativer Börsenstrompreis aufgetreten ist?"
   ]
  },
  {
   "cell_type": "code",
   "execution_count": null,
   "metadata": {},
   "outputs": [],
   "source": [
    "negative_price_df = df_daily[df_daily['Day Ahead Auktion Preis (EUR/MWh)'] < 0]\n",
    "negative_price_day_count = negative_price_df['Day Ahead Auktion Preis (EUR/MWh)'].count()\n",
    "print(\"Anzahl der Tage mit einem negativen Börsenstrompreis: \", negative_price_day_count)\n",
    "negative_price_df\n"
   ]
  },
  {
   "cell_type": "markdown",
   "metadata": {},
   "source": [
    "d) Wie viel Strom wurde pro Jahr mit erneuerbaren und mit nicht erneuerbaren Energieträgern erzeugt?"
   ]
  },
  {
   "cell_type": "code",
   "execution_count": null,
   "metadata": {},
   "outputs": [],
   "source": [
    "df_daily['Jahr'] = df_daily['Datum'].astype(str)\n",
    "df_daily['Jahr'] = df_daily['Jahr'].str[0:4]\n",
    "df_year = df_daily.groupby('Jahr')[['Leistung nicht erneuerbar (MW)', 'Leistung erneuerbar (MW)']].sum()\n",
    "\n",
    "#Convert from megawatts (MW) to gigawatts (GW)\n",
    "\n",
    "df_year['Leistung nicht erneuerbar (GW)'] = (df_year['Leistung nicht erneuerbar (MW)']/1000).round(2)\n",
    "df_year['Leistung erneuerbar (GW)'] = (df_year['Leistung erneuerbar (MW)']/1000).round(2)\n",
    "df_year\n",
    "\n"
   ]
  },
  {
   "cell_type": "markdown",
   "metadata": {},
   "source": [
    "## Aufgabe 3 (Weiterführende Analyse der Stromerzeugung- und Preisdaten)\n",
    "<a id = \"aufgabe3\"></a>\n",
    "\n",
    "\n",
    "[Zurück zum Inhaltsverzeichnis](#inhaltsverzeichnis)\n"
   ]
  },
  {
   "cell_type": "markdown",
   "metadata": {},
   "source": [
    "a) Visualisierung der Verteilung der Börsenstrompreise (insgesamt und pro Jahr)\n"
   ]
  },
  {
   "cell_type": "code",
   "execution_count": null,
   "metadata": {},
   "outputs": [],
   "source": [
    "# \"Line chart to show the distribution of prices per day for the observation period\n",
    "\n",
    "plt.figure(figsize=(15, 6))\n",
    "plt.plot(df_daily['Datum'], df_daily['Day Ahead Auktion Preis (EUR/MWh)'], label = 'Line', color = 'blue')\n",
    "plt.xlabel('Betrachtungszeitrum (2020-2024)')\n",
    "plt.ylabel('mittlerer Börsenstrompreise in € pro Tag')\n",
    "plt.title('Mittlerer Börsenstrompreis pro Tag für 2020-2024')\n",
    "\n",
    "# insgesamt\n",
    "# den hier \n",
    "# Bins auf Tagesebene? (10 Bins)\n",
    "\n",
    "\n",
    "# pro Jahr: \n",
    "# Mean pro Jahr # Boxplot für jedes Jahr\n",
    "# Analyse: Börsenstrompreis normal informieren (2021, 2023, 2024?) Ukraine, Corona, (Gas)\n"
   ]
  },
  {
   "cell_type": "code",
   "execution_count": null,
   "metadata": {},
   "outputs": [],
   "source": [
    "import matplotlib.dates as mdates\n",
    "\n",
    "df_temp_year = df_daily.copy()\n",
    "\n",
    "# Create modified date for all years with the same year 2000\n",
    "\n",
    "df_temp_year['Datum'] = df_temp_year['Datum'].astype(str)\n",
    "df_temp_year['Datum_verändert'] = df_temp_year['Datum'].str.replace(r'\\d{4}', '2000', regex=True)\n",
    "\n",
    "df_temp_year['Datum_verändert'] = pd.to_datetime(df_temp_year['Datum_verändert'])\n",
    "\n",
    "\n",
    "\n",
    "''''\n",
    "plt.figure(figsize=(15, 10))\n",
    "plt.xlabel(\"Jahr\")\n",
    "plt.ylabel('mittlerer Börsenstrompreise in € pro Tag')\n",
    "plt.title('Mittlerer Börsenstrompreis pro Tag pro Jahr')\n",
    "plt.legend(loc='upper right')\n",
    "\n",
    "\n",
    "# Source [6] Chat-GPT mit Prompt\n",
    "plt.gca().xaxis.set_major_locator(mdates.MonthLocator())  # Setzt die Haupt-Ticks auf Monatsanfang\n",
    "plt.gca().xaxis.set_major_formatter(mdates.DateFormatter('%m'))  # Zeigt nur den Monat als Zahl (1-12)\n",
    "\n",
    "'''\n",
    "df_temp_year\n",
    "\n"
   ]
  },
  {
   "cell_type": "markdown",
   "metadata": {},
   "source": [
    "b) Berechnung auf die einzelnen Jahre des Betrachtungszeitraum verschiedene statistische Kenngrößen für den Börsenstrompreis"
   ]
  },
  {
   "cell_type": "code",
   "execution_count": null,
   "metadata": {},
   "outputs": [],
   "source": [
    "\n",
    "# df_daily contains 'Leistungs nicht erneuerbar' and 'Leistung erneuerbar' as sum for the day \n",
    "# and 'Day Ahead Auktion Preis' as mean for the day\n",
    "df_daily\n",
    "\n",
    "df_year = df_daily.groupby('Jahr')['Day Ahead Auktion Preis (EUR/MWh)']\n",
    "\n",
    "df_year.describe()\n",
    "\n",
    "# maybe round(2)"
   ]
  },
  {
   "cell_type": "markdown",
   "metadata": {},
   "source": [
    "c) Visualisierung in einem Säulendiagramm die mittleren Börsenstrompreise pro Monat im Betrachtungszeitraum"
   ]
  },
  {
   "cell_type": "code",
   "execution_count": null,
   "metadata": {},
   "outputs": [],
   "source": [
    "df_daily['Monat'] = df_daily['Datum'].dt.month\n",
    "df_year_monthly = df_daily.groupby(['Jahr', 'Monat'])['Day Ahead Auktion Preis (EUR/MWh)'].mean()\n",
    "\n",
    "df_year_monthly.plot(kind = 'bar', figsize=(15,10))\n",
    "plt.ylim(0, 500)\n",
    "\n",
    "plt.title('Mittlerer Börsenstrompreis pro Monat von 2020-2024')\n",
    "plt.ylabel('Mittlerer Börsenstrompreis in EUR/MWh')\n",
    "\n"
   ]
  },
  {
   "cell_type": "markdown",
   "metadata": {},
   "source": [
    "d)"
   ]
  },
  {
   "cell_type": "markdown",
   "metadata": {},
   "source": [
    "e) Berechnung und Visualisierung der im Mittel mit erneuerbaren Energieträgern erzeugten Energie im Tagesverlauf, indem wir auf die vollen Stunden eines Tages aggregieren. Der df_daily hat als Aggregation für den Tag die Summe der erneuerbaren und nicht erneuerbaren Energie pro Tag. Deswegen gruppieren wir den df_hourly nochmal nach Tagen und nehmen dann für die erneuerbaren Energien den Mittelwert"
   ]
  },
  {
   "cell_type": "code",
   "execution_count": null,
   "metadata": {},
   "outputs": [],
   "source": [
    "# use df_stunde, which contains the transformed \"Datum\" as date and not datetime\n",
    "# df_daily contains 'Leistung erneuerbar (MW) as sum for the day \n",
    "# we create new df with 'Leistung erneuerbar (MW) as mean for each day \n",
    "df_renewable_daily_mean=df_stunde.groupby('Datum')['Leistung erneuerbar (MW)'].mean().reset_index()\n",
    "df_renewable_daily_mean['Leistung erneuerbar (GW)'] = df_renewable_daily_mean['Leistung erneuerbar (MW)']/1000\n",
    "\n",
    "df_renewable_daily_mean\n",
    "\n",
    "\n",
    "\n",
    "# Also durchschnitt im Tagesverlauf (0 uhr so 1 uhr so mittelwert) nach Uhrzeit groupen (Linie Mittag + Nachmittag mehr)\n",
    "# Tagesverlauf Preis aus eigenem Interesse? \n",
    "# Splitten nach sommer und winter ? Sowohl im Winter als auch sommer Peak (aber nicht so niedrige: Gesamtmenge im Winter höher: Sonnenenergie nicht verteilt, gesteuert)\n",
    "\n",
    "\n",
    "# einmal recherche zusammensetztung erneuerbare Quellen wann wie produziert in Deutschland!! und nicht erneuerbare (Austieg Atomenergie, Steuerung Bedarf)"
   ]
  },
  {
   "cell_type": "markdown",
   "metadata": {},
   "source": [
    "f)"
   ]
  },
  {
   "cell_type": "code",
   "execution_count": null,
   "metadata": {},
   "outputs": [],
   "source": [
    "# Heat Map \n",
    "# y Jahr \n",
    "# x 1 -365 \n",
    "# wann viel erneuerbar Mitte? \n",
    "# rechts achse mit farben "
   ]
  },
  {
   "cell_type": "markdown",
   "metadata": {},
   "source": [
    "g) Visualisierung der Zusammensetztung des erzeugten Stroms (erneuerbar vs. nicht erneuerbar) im Zeitverlauf und Analyse der Ergebnisse"
   ]
  },
  {
   "cell_type": "code",
   "execution_count": null,
   "metadata": {},
   "outputs": [],
   "source": [
    "# df_daily contains sum per day for 'Leistung erneuerbar' und 'Leistung nicht erneuerbar'\n",
    "\n",
    "# or better gigawatt?\n",
    "\n",
    "\n",
    "df_power_monthly_sum = df_daily.copy()\n",
    "\n",
    "df_power_monthly_sum = df_power_monthly_sum.groupby(['Jahr', 'Monat'])[['Leistung erneuerbar (MW)', 'Leistung nicht erneuerbar (MW)']].sum()\n",
    "\n",
    "df_power_monthly_sum\n",
    "\n",
    "\n",
    "# 20.000 GW weniger da mehr (Gesamtbedarf gleichgeblieben Quelle)\n",
    "# Prozentuale Darstellung anteil Erneuerbar am gesamt und anteil nicht erneuerbar \n",
    "\n",
    "# Stacked bar plot und prozentual an Gesamterzeugung \n"
   ]
  },
  {
   "cell_type": "markdown",
   "metadata": {},
   "source": [
    "### Aufgabe 6 (Analyse von Stromtarif-Angeboten für Endkunden)\n",
    "<a id = \"aufgabe6\"></a>\n",
    "\n",
    "[Zurück zum Inhaltsverzeichnis](#inhaltsverzeichnis)\n",
    "\n",
    "a)  Einlesen der JSON-Preisvergleichdaten in einem DataFrame df_cust\n"
   ]
  },
  {
   "cell_type": "code",
   "execution_count": null,
   "metadata": {},
   "outputs": [],
   "source": [
    "\n",
    "'''\n",
    "path = './Daten/Endkundenpreise/'\n",
    "\n",
    "def extract_date_from_filepath(file):\n",
    "    file = file.replace(path, \"\")\n",
    "    # Concatenate the date out of fixed year 2024 and month/day from folder name\n",
    "    return \"2024-\" + file[0:5]\n",
    "\n",
    "def extract_data_from_json(file):\n",
    "    assert file.endswith(\".json\"), \"Keine json-Datei uebergeben\"\n",
    "    try:\n",
    "        # Read and load the json file\n",
    "        df_temp = pd.read_json(json_files[i])\n",
    "        # Transpose the table: convert the rows to columns\n",
    "        df_temp = df_temp.T\n",
    "        # Index = Number of entry in the json file\n",
    "        df_temp['Angebotsnummer'] = df_temp.index\n",
    "        # Add date from filename as column\n",
    "        df_temp['Datum'] = extract_date_from_filepath(file)\n",
    "        \n",
    "        return df_temp\n",
    "    except:\n",
    "        print(\"Datei konnte nicht gelesen werden.\")\n",
    "\n",
    "\n",
    "path = './Daten/Endkundenpreise/'\n",
    "df_list = []\n",
    "# https://www.tutorialspoint.com/python/os_listdir.htm\n",
    "for folder in os.listdir(path):\n",
    "    combined_path = os.path.join(path, folder, \"*json\")\n",
    "    json_files = glob.glob(combined_path)\n",
    "\n",
    "    for i in range(len(json_files)):\n",
    "        df_temp = extract_data_from_json(json_files[i])\n",
    "        df_list.append(df_temp)\n",
    "        \n",
    "df_cust = pd.concat(df_list)\n",
    "df_cust\n",
    "'''"
   ]
  },
  {
   "cell_type": "markdown",
   "metadata": {},
   "source": [
    "### Quellenverzeichnis\n",
    "<a id = \"quellenverzeichnis\"></a>\n",
    "\n",
    "[1] https://www.geeksforgeeks.org/how-to-read-all-csv-files-in-a-folder-in-pandas/\n",
    "\n",
    "[2] https://statistikguru.de/python/python-auflisten-dateien-verzeichnis.html\n",
    "\n",
    "[3] https://pandas.pydata.org/docs/reference/api/pandas.to_datetime.html\n",
    "\n",
    "[4] https://pandas.pydata.org/docs/reference/api/pandas.Series.dt.year.html#pandas.Series.dt.year\n",
    "\n",
    "[5] https://pandas.pydata.org/pandas-docs/stable/user_guide/indexing.html#returning-a-view-versus-a-copy\n",
    "\n",
    "[6] Chat GPT \n",
    "\n",
    "    Prompt (am 05.01.2025): \n",
    "\n",
    "    #Using column Jahr, which contains year as string\n",
    "    # We use a copy to avoid the SettingWithCopyWarning that occurs when we modifiy a view of the original df [5]\n",
    "    year_2020 = df_daily[df_daily['Jahr'] == '2020'].copy()\n",
    "    year_2021 = df_daily[df_daily['Jahr'] == '2021'].copy()\n",
    "\n",
    "    year_2020['Datum'] = year_2020['Datum'].astype(str)\n",
    "    year_2021['Datum'] = year_2021['Datum'].astype(str)\n",
    "\n",
    "    # ertste Vorkommen von 2020 auf 2000 setzten\n",
    "\n",
    "    year_2020['Datum'] = year_2020['Datum'].str.replace('2020', '2000')\n",
    "\n",
    "    year_2021['Datum'] = year_2021['Datum'].str.replace('2021', '2000')\n",
    "\n",
    "    year_2020['Datum'] = pd.to_datetime(year_2020['Datum'])\n",
    "    year_2021['Datum'] = pd.to_datetime(year_2021['Datum'])\n",
    "\n",
    "    plt.figure(figsize=(12, 6))\n",
    "    plt.plot(year_2020['Datum'], year_2020['Day Ahead Auktion Preis (EUR/MWh)'], label = '2020', color = 'green')\n",
    "    plt.plot(year_2021['Datum'], year_2021['Day Ahead Auktion Preis (EUR/MWh)'], label = '2021', color = 'blue')\n",
    "\n",
    "    Wie kann ich die x-Achse so verändern, dass nicht mehr Jahr-Monat dort steht, sondern nur noch der Monat (also alle Monate von 1-12). Die Darstellung der Tagesdaten soll aber gleich bleiben\n",
    "\n",
    "[Zurück zum Inhaltsverzeichnis](#inhaltsverzeichnis)"
   ]
  }
 ],
 "metadata": {
  "kernelspec": {
   "display_name": "base",
   "language": "python",
   "name": "python3"
  },
  "language_info": {
   "codemirror_mode": {
    "name": "ipython",
    "version": 3
   },
   "file_extension": ".py",
   "mimetype": "text/x-python",
   "name": "python",
   "nbconvert_exporter": "python",
   "pygments_lexer": "ipython3",
   "version": "3.11.5"
  }
 },
 "nbformat": 4,
 "nbformat_minor": 2
}
